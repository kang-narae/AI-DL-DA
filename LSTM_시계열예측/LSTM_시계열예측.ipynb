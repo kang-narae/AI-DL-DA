{
  "cells": [
    {
      "cell_type": "markdown",
      "metadata": {
        "colab_type": "text",
        "id": "view-in-github"
      },
      "source": [
        "<a href=\"https://colab.research.google.com/github/kang-narae/AI-DL-DA/blob/main/%EB%A8%B8%EC%8B%A0%EB%9F%AC%EB%8B%9D/%EC%8B%9C%EA%B3%84%EC%97%B4%EC%98%88%EC%B8%A1.ipynb\" target=\"_parent\"><img src=\"https://colab.research.google.com/assets/colab-badge.svg\" alt=\"Open In Colab\"/></a>"
      ]
    },
    {
      "cell_type": "code",
      "execution_count": 13,
      "metadata": {
        "id": "eHq0Jz34KXWr"
      },
      "outputs": [],
      "source": [
        "import pandas as pd\n",
        "import numpy as np\n",
        "import matplotlib.pyplot as plt\n",
        "from tensorflow.keras.models import Sequential\n",
        "from tensorflow.keras.layers import *\n",
        "from sklearn.preprocessing import MinMaxScaler \n",
        "from sklearn.model_selection import train_test_split\n",
        "from tensorflow.keras.callbacks import EarlyStopping"
      ]
    },
    {
      "cell_type": "code",
      "execution_count": 7,
      "metadata": {
        "colab": {
          "base_uri": "https://localhost:8080/"
        },
        "id": "fxFawzToKjhW",
        "outputId": "300ffbaf-3b81-4584-c7f6-ce830e0f5315"
      },
      "outputs": [
        {
          "name": "stdout",
          "output_type": "stream",
          "text": [
            "         Date     Open     High      Low    Close     Adj Close    Volume\n",
            "0  2020-01-02  55500.0  56000.0  55000.0  55200.0  51824.093750  12993228\n",
            "1  2020-01-03  56000.0  56600.0  54900.0  55500.0  52105.750000  15422255\n",
            "2  2020-01-06  54900.0  55600.0  54600.0  55500.0  52105.750000  10278951\n",
            "3  2020-01-07  55700.0  56400.0  55600.0  55800.0  52387.410156  10009778\n",
            "4  2020-01-08  56200.0  57400.0  55900.0  56800.0  53326.250000  23501171\n",
            "<class 'pandas.core.frame.DataFrame'>\n",
            "RangeIndex: 552 entries, 0 to 551\n",
            "Data columns (total 7 columns):\n",
            " #   Column     Non-Null Count  Dtype  \n",
            "---  ------     --------------  -----  \n",
            " 0   Date       552 non-null    object \n",
            " 1   Open       552 non-null    float64\n",
            " 2   High       552 non-null    float64\n",
            " 3   Low        552 non-null    float64\n",
            " 4   Close      552 non-null    float64\n",
            " 5   Adj Close  552 non-null    float64\n",
            " 6   Volume     552 non-null    int64  \n",
            "dtypes: float64(5), int64(1), object(1)\n",
            "memory usage: 30.3+ KB\n",
            "None\n"
          ]
        }
      ],
      "source": [
        "raw_data = pd.read_csv('./datasets/samsung210101_220328.csv')\n",
        "print(raw_data.head())\n",
        "print(raw_data.info())"
      ]
    },
    {
      "cell_type": "code",
      "execution_count": 8,
      "metadata": {
        "colab": {
          "base_uri": "https://localhost:8080/"
        },
        "id": "__PHSxJ0MfIt",
        "outputId": "ca21480e-c6fb-42f7-8da8-bd6cf7a47402"
      },
      "outputs": [
        {
          "name": "stdout",
          "output_type": "stream",
          "text": [
            "               Open     High      Low    Close     Adj Close    Volume\n",
            "Date                                                                  \n",
            "2020-01-02  55500.0  56000.0  55000.0  55200.0  51824.093750  12993228\n",
            "2020-01-03  56000.0  56600.0  54900.0  55500.0  52105.750000  15422255\n",
            "2020-01-06  54900.0  55600.0  54600.0  55500.0  52105.750000  10278951\n",
            "2020-01-07  55700.0  56400.0  55600.0  55800.0  52387.410156  10009778\n",
            "2020-01-08  56200.0  57400.0  55900.0  56800.0  53326.250000  23501171\n"
          ]
        }
      ],
      "source": [
        "raw_data['Date']= pd.to_datetime(raw_data['Date'])\n",
        "raw_data.set_index('Date', inplace=True)\n",
        "print(raw_data.head())\n"
      ]
    },
    {
      "cell_type": "code",
      "execution_count": 10,
      "metadata": {
        "colab": {
          "base_uri": "https://localhost:8080/",
          "height": 277
        },
        "id": "zmg_KmbAM8ZO",
        "outputId": "96554655-fee1-46a6-fb6f-46b80432a2f2"
      },
      "outputs": [
        {
          "data": {
            "image/png": "[encoded data removed]",
            "text/plain": [
              "<Figure size 432x288 with 1 Axes>"
            ]
          },
          "metadata": {
            "needs_background": "light"
          },
          "output_type": "display_data"
        }
      ],
      "source": [
        "raw_data['Close'].plot()\n",
        "plt.show()"
      ]
    },
    {
      "cell_type": "code",
      "execution_count": 12,
      "metadata": {
        "colab": {
          "base_uri": "https://localhost:8080/"
        },
        "id": "_SbUK8P_N2u1",
        "outputId": "959ae04a-be1a-4240-d052-e1af0db90b43"
      },
      "outputs": [
        {
          "name": "stdout",
          "output_type": "stream",
          "text": [
            "               Open     High      Low    Close     Adj Close    Volume\n",
            "Date                                                                  \n",
            "2020-03-23  42600.0  43550.0  42400.0  42500.0  39900.800781  41701626\n",
            "2020-03-19  46400.0  46650.0  42300.0  42950.0  40323.281250  56925513\n",
            "2020-03-20  44150.0  45500.0  43550.0  45400.0  42623.445313  49730008\n",
            "2020-03-18  47750.0  48350.0  45600.0  45600.0  42811.214844  40152623\n",
            "2020-04-01  47450.0  47900.0  45800.0  45800.0  43316.453125  27259532\n",
            "               Open     High      Low    Close     Adj Close    Volume\n",
            "Date                                                                  \n",
            "2021-01-25  87000.0  89900.0  86300.0  89400.0  87796.445313  27258534\n",
            "2021-01-13  89800.0  91200.0  89100.0  89700.0  88091.062500  36068848\n",
            "2021-01-14  88700.0  90000.0  88700.0  89700.0  88091.062500  26393970\n",
            "2021-01-12  90300.0  91400.0  87800.0  90600.0  88974.921875  48682416\n",
            "2021-01-11  90000.0  96800.0  89500.0  91000.0  89367.742188  90306177\n"
          ]
        }
      ],
      "source": [
        "data_test = raw_data.sort_values('Close')\n",
        "print(data_test.head())\n",
        "print(data_test.tail())"
      ]
    },
    {
      "cell_type": "code",
      "execution_count": 21,
      "metadata": {
        "colab": {
          "base_uri": "https://localhost:8080/"
        },
        "id": "VDoc6ifVSev-",
        "outputId": "56b52055-617a-4498-ac67-58fa0e5e3a12"
      },
      "outputs": [
        {
          "name": "stdout",
          "output_type": "stream",
          "text": [
            "              Close\n",
            "Date               \n",
            "2020-01-02  55200.0\n",
            "2020-01-03  55500.0\n",
            "2020-01-06  55500.0\n",
            "2020-01-07  55800.0\n",
            "2020-01-08  56800.0\n"
          ]
        }
      ],
      "source": [
        "data_close= raw_data[['Close']]\n",
        "print(data_close.head())"
      ]
    },
    {
      "cell_type": "code",
      "execution_count": 22,
      "metadata": {
        "colab": {
          "base_uri": "https://localhost:8080/"
        },
        "id": "Vr0fNdHoL2ot",
        "outputId": "2420311f-469f-46ac-e5f1-6cbde3f7283e"
      },
      "outputs": [
        {
          "name": "stdout",
          "output_type": "stream",
          "text": [
            "[[0.26185567]\n",
            " [0.26804124]\n",
            " [0.26804124]\n",
            " [0.2742268 ]\n",
            " [0.29484536]]\n",
            "(552, 1)\n"
          ]
        }
      ],
      "source": [
        "minmaxscaler = MinMaxScaler()\n",
        "scaled_data  = minmaxscaler.fit_transform(data_close)\n",
        "print(scaled_data[:5])\n",
        "print(scaled_data.shape)"
      ]
    },
    {
      "cell_type": "code",
      "execution_count": 24,
      "metadata": {
        "colab": {
          "base_uri": "https://localhost:8080/"
        },
        "id": "WFgxR4IyPTel",
        "outputId": "908262a5-55d8-4f96-c4b0-3801f435c77c"
      },
      "outputs": [
        {
          "name": "stdout",
          "output_type": "stream",
          "text": [
            "552\n",
            "[[0.26185567]\n",
            " [0.26804124]\n",
            " [0.26804124]\n",
            " [0.2742268 ]\n",
            " [0.29484536]\n",
            " [0.33195876]\n",
            " [0.35051546]\n",
            " [0.36082474]\n",
            " [0.36082474]\n",
            " [0.34020619]\n",
            " [0.37525773]\n",
            " [0.38762887]\n",
            " [0.41030928]\n",
            " [0.38969072]\n",
            " [0.40824742]\n",
            " [0.37731959]\n",
            " [0.33608247]\n",
            " [0.34226804]\n",
            " [0.30309278]\n",
            " [0.28659794]\n",
            " [0.30309278]\n",
            " [0.33814433]\n",
            " [0.35051546]\n",
            " [0.38350515]\n",
            " [0.36907216]\n",
            " [0.35463918]\n",
            " [0.35876289]\n",
            " [0.37113402]\n",
            " [0.37525773]\n",
            " [0.39793814]]\n",
            "[0.39175258]\n"
          ]
        }
      ],
      "source": [
        "\n",
        "sequence_X = []\n",
        "sequence_Y = []\n",
        "\n",
        "\n",
        "for i in range(len(scaled_data)-30):  #30일치의 데이터 보고 그다음날 데이터 예측하는 식으로 연습하게 하겠음.\n",
        "  x= scaled_data[i:i+30]  #한가지만 쭉 봐서 예측하는 건 시계열. 여러가지 (시가 고가 종가 다 쓰면) 다변량 예측.\n",
        "  y= scaled_data[i+30]\n",
        "  sequence_X.append(x)\n",
        "  sequence_Y.append(y)\n",
        "print(len(scaled_data))\n",
        "print(sequence_X[0])\n",
        "print(sequence_Y[0])"
      ]
    },
    {
      "cell_type": "code",
      "execution_count": 26,
      "metadata": {
        "colab": {
          "base_uri": "https://localhost:8080/"
        },
        "id": "ou7FhkoQZkfN",
        "outputId": "d0d56db9-627d-4961-c2ac-5b5c38c723a5"
      },
      "outputs": [
        {
          "name": "stdout",
          "output_type": "stream",
          "text": [
            "[[0.26185567]\n",
            " [0.26804124]\n",
            " [0.26804124]\n",
            " [0.2742268 ]\n",
            " [0.29484536]\n",
            " [0.33195876]\n",
            " [0.35051546]\n",
            " [0.36082474]\n",
            " [0.36082474]\n",
            " [0.34020619]\n",
            " [0.37525773]\n",
            " [0.38762887]\n",
            " [0.41030928]\n",
            " [0.38969072]\n",
            " [0.40824742]\n",
            " [0.37731959]\n",
            " [0.33608247]\n",
            " [0.34226804]\n",
            " [0.30309278]\n",
            " [0.28659794]\n",
            " [0.30309278]\n",
            " [0.33814433]\n",
            " [0.35051546]\n",
            " [0.38350515]\n",
            " [0.36907216]\n",
            " [0.35463918]\n",
            " [0.35876289]\n",
            " [0.37113402]\n",
            " [0.37525773]\n",
            " [0.39793814]]\n",
            "[0.39175258]\n",
            "(522, 30, 1)\n",
            "(522, 1)\n"
          ]
        }
      ],
      "source": [
        "sequence_X = np.array(sequence_X)\n",
        "sequence_Y = np.array(sequence_Y)\n",
        "print(sequence_X[0])\n",
        "print(sequence_Y[0])\n",
        "print(sequence_X.shape)\n",
        "print(sequence_Y.shape)"
      ]
    },
    {
      "cell_type": "code",
      "execution_count": 27,
      "metadata": {
        "colab": {
          "base_uri": "https://localhost:8080/"
        },
        "id": "RceX4K-OabjL",
        "outputId": "3ffef8cf-71a4-4859-a3aa-eaf0630369fb"
      },
      "outputs": [
        {
          "name": "stdout",
          "output_type": "stream",
          "text": [
            "(417, 30, 1) (417, 1)\n",
            "(105, 30, 1) (105, 1)\n"
          ]
        }
      ],
      "source": [
        "X_train, X_test, Y_train, Y_test = train_test_split(\n",
        "    sequence_X, sequence_Y, test_size=0.2)\n",
        "print(X_train.shape, Y_train.shape)\n",
        "print(X_test.shape, Y_test.shape)"
      ]
    },
    {
      "cell_type": "code",
      "execution_count": 28,
      "metadata": {
        "colab": {
          "base_uri": "https://localhost:8080/"
        },
        "id": "SvYyheLidEet",
        "outputId": "348cde02-16ed-487c-be06-fbc985890fd6"
      },
      "outputs": [
        {
          "name": "stdout",
          "output_type": "stream",
          "text": [
            "Model: \"sequential\"\n",
            "_________________________________________________________________\n",
            " Layer (type)                Output Shape              Param #   \n",
            "=================================================================\n",
            " lstm (LSTM)                 (None, 50)                10400     \n",
            "                                                                 \n",
            " flatten (Flatten)           (None, 50)                0         \n",
            "                                                                 \n",
            " dense (Dense)               (None, 1)                 51        \n",
            "                                                                 \n",
            "=================================================================\n",
            "Total params: 10,451\n",
            "Trainable params: 10,451\n",
            "Non-trainable params: 0\n",
            "_________________________________________________________________\n"
          ]
        }
      ],
      "source": [
        "model= Sequential()\n",
        "model.add(LSTM(50, input_shape=(30, 1), \n",
        "               activation='tanh'))   #long short term memory. 얘는 활성화함수로 tanh쓴다.\n",
        "model.add(Flatten())\n",
        "model.add(Dense(1))\n",
        "model.compile(loss='mse', optimizer='adam')\n",
        "model.summary()"
      ]
    },
    {
      "cell_type": "code",
      "execution_count": 29,
      "metadata": {
        "colab": {
          "base_uri": "https://localhost:8080/"
        },
        "id": "g-Xrx823eUxI",
        "outputId": "39b9a931-9050-4fe0-e018-1125d873d4c3"
      },
      "outputs": [
        {
          "name": "stdout",
          "output_type": "stream",
          "text": [
            "Epoch 1/100\n",
            "14/14 [==============================] - 3s 56ms/step - loss: 0.1303 - val_loss: 0.0306\n",
            "Epoch 2/100\n",
            "14/14 [==============================] - 0s 18ms/step - loss: 0.0158 - val_loss: 0.0118\n",
            "Epoch 3/100\n",
            "14/14 [==============================] - 0s 17ms/step - loss: 0.0085 - val_loss: 0.0039\n",
            "Epoch 4/100\n",
            "14/14 [==============================] - 0s 17ms/step - loss: 0.0039 - val_loss: 0.0034\n",
            "Epoch 5/100\n",
            "14/14 [==============================] - 0s 17ms/step - loss: 0.0031 - val_loss: 0.0028\n",
            "Epoch 6/100\n",
            "14/14 [==============================] - 0s 18ms/step - loss: 0.0027 - val_loss: 0.0024\n",
            "Epoch 7/100\n",
            "14/14 [==============================] - 0s 17ms/step - loss: 0.0025 - val_loss: 0.0022\n",
            "Epoch 8/100\n",
            "14/14 [==============================] - 0s 17ms/step - loss: 0.0024 - val_loss: 0.0021\n",
            "Epoch 9/100\n",
            "14/14 [==============================] - 0s 17ms/step - loss: 0.0023 - val_loss: 0.0021\n",
            "Epoch 10/100\n",
            "14/14 [==============================] - 0s 18ms/step - loss: 0.0023 - val_loss: 0.0020\n",
            "Epoch 11/100\n",
            "14/14 [==============================] - 0s 17ms/step - loss: 0.0023 - val_loss: 0.0020\n",
            "Epoch 12/100\n",
            "14/14 [==============================] - 0s 17ms/step - loss: 0.0023 - val_loss: 0.0020\n",
            "Epoch 13/100\n",
            "14/14 [==============================] - 0s 17ms/step - loss: 0.0022 - val_loss: 0.0020\n",
            "Epoch 14/100\n",
            "14/14 [==============================] - 0s 18ms/step - loss: 0.0022 - val_loss: 0.0019\n",
            "Epoch 15/100\n",
            "14/14 [==============================] - 0s 18ms/step - loss: 0.0022 - val_loss: 0.0019\n",
            "Epoch 16/100\n",
            "14/14 [==============================] - 0s 17ms/step - loss: 0.0022 - val_loss: 0.0019\n",
            "Epoch 17/100\n",
            "14/14 [==============================] - 0s 18ms/step - loss: 0.0021 - val_loss: 0.0019\n",
            "Epoch 18/100\n",
            "14/14 [==============================] - 0s 18ms/step - loss: 0.0021 - val_loss: 0.0018\n",
            "Epoch 19/100\n",
            "14/14 [==============================] - 0s 17ms/step - loss: 0.0021 - val_loss: 0.0018\n",
            "Epoch 20/100\n",
            "14/14 [==============================] - 0s 17ms/step - loss: 0.0021 - val_loss: 0.0018\n",
            "Epoch 21/100\n",
            "14/14 [==============================] - 0s 16ms/step - loss: 0.0021 - val_loss: 0.0018\n",
            "Epoch 22/100\n",
            "14/14 [==============================] - 0s 17ms/step - loss: 0.0020 - val_loss: 0.0018\n",
            "Epoch 23/100\n",
            "14/14 [==============================] - 0s 17ms/step - loss: 0.0020 - val_loss: 0.0017\n",
            "Epoch 24/100\n",
            "14/14 [==============================] - 0s 17ms/step - loss: 0.0020 - val_loss: 0.0017\n",
            "Epoch 25/100\n",
            "14/14 [==============================] - 0s 17ms/step - loss: 0.0020 - val_loss: 0.0017\n",
            "Epoch 26/100\n",
            "14/14 [==============================] - 0s 18ms/step - loss: 0.0019 - val_loss: 0.0017\n",
            "Epoch 27/100\n",
            "14/14 [==============================] - 0s 17ms/step - loss: 0.0019 - val_loss: 0.0017\n",
            "Epoch 28/100\n",
            "14/14 [==============================] - 0s 17ms/step - loss: 0.0019 - val_loss: 0.0017\n",
            "Epoch 29/100\n",
            "14/14 [==============================] - 0s 17ms/step - loss: 0.0019 - val_loss: 0.0017\n",
            "Epoch 30/100\n",
            "14/14 [==============================] - 0s 17ms/step - loss: 0.0019 - val_loss: 0.0017\n",
            "Epoch 31/100\n",
            "14/14 [==============================] - 0s 17ms/step - loss: 0.0019 - val_loss: 0.0017\n",
            "Epoch 32/100\n",
            "14/14 [==============================] - 0s 17ms/step - loss: 0.0019 - val_loss: 0.0017\n",
            "Epoch 33/100\n",
            "14/14 [==============================] - 0s 17ms/step - loss: 0.0019 - val_loss: 0.0017\n",
            "Epoch 34/100\n",
            "14/14 [==============================] - 0s 17ms/step - loss: 0.0019 - val_loss: 0.0017\n",
            "Epoch 35/100\n",
            "14/14 [==============================] - 0s 17ms/step - loss: 0.0018 - val_loss: 0.0017\n",
            "Epoch 36/100\n",
            "14/14 [==============================] - 0s 18ms/step - loss: 0.0018 - val_loss: 0.0017\n",
            "Epoch 37/100\n",
            "14/14 [==============================] - 0s 18ms/step - loss: 0.0018 - val_loss: 0.0017\n",
            "Epoch 38/100\n",
            "14/14 [==============================] - 0s 17ms/step - loss: 0.0018 - val_loss: 0.0017\n",
            "Epoch 39/100\n",
            "14/14 [==============================] - 0s 18ms/step - loss: 0.0018 - val_loss: 0.0017\n",
            "Epoch 40/100\n",
            "14/14 [==============================] - 0s 18ms/step - loss: 0.0018 - val_loss: 0.0016\n",
            "Epoch 41/100\n",
            "14/14 [==============================] - 0s 17ms/step - loss: 0.0018 - val_loss: 0.0016\n",
            "Epoch 42/100\n",
            "14/14 [==============================] - 0s 17ms/step - loss: 0.0018 - val_loss: 0.0016\n",
            "Epoch 43/100\n",
            "14/14 [==============================] - 0s 19ms/step - loss: 0.0017 - val_loss: 0.0016\n",
            "Epoch 44/100\n",
            "14/14 [==============================] - 0s 18ms/step - loss: 0.0017 - val_loss: 0.0016\n",
            "Epoch 45/100\n",
            "14/14 [==============================] - 0s 17ms/step - loss: 0.0017 - val_loss: 0.0016\n",
            "Epoch 46/100\n",
            "14/14 [==============================] - 0s 17ms/step - loss: 0.0017 - val_loss: 0.0016\n",
            "Epoch 47/100\n",
            "14/14 [==============================] - 0s 21ms/step - loss: 0.0017 - val_loss: 0.0015\n",
            "Epoch 48/100\n",
            "14/14 [==============================] - 0s 18ms/step - loss: 0.0017 - val_loss: 0.0015\n",
            "Epoch 49/100\n",
            "14/14 [==============================] - 0s 17ms/step - loss: 0.0017 - val_loss: 0.0015\n",
            "Epoch 50/100\n",
            "14/14 [==============================] - 0s 18ms/step - loss: 0.0017 - val_loss: 0.0015\n",
            "Epoch 51/100\n",
            "14/14 [==============================] - 0s 18ms/step - loss: 0.0017 - val_loss: 0.0015\n",
            "Epoch 52/100\n",
            "14/14 [==============================] - 0s 18ms/step - loss: 0.0016 - val_loss: 0.0015\n",
            "Epoch 53/100\n",
            "14/14 [==============================] - 0s 17ms/step - loss: 0.0016 - val_loss: 0.0014\n",
            "Epoch 54/100\n",
            "14/14 [==============================] - 0s 17ms/step - loss: 0.0016 - val_loss: 0.0014\n",
            "Epoch 55/100\n",
            "14/14 [==============================] - 0s 18ms/step - loss: 0.0016 - val_loss: 0.0014\n",
            "Epoch 56/100\n",
            "14/14 [==============================] - 0s 17ms/step - loss: 0.0016 - val_loss: 0.0014\n",
            "Epoch 57/100\n",
            "14/14 [==============================] - 0s 17ms/step - loss: 0.0016 - val_loss: 0.0014\n",
            "Epoch 58/100\n",
            "14/14 [==============================] - 0s 17ms/step - loss: 0.0016 - val_loss: 0.0014\n",
            "Epoch 59/100\n",
            "14/14 [==============================] - 0s 17ms/step - loss: 0.0016 - val_loss: 0.0014\n",
            "Epoch 60/100\n",
            "14/14 [==============================] - 0s 18ms/step - loss: 0.0016 - val_loss: 0.0014\n",
            "Epoch 61/100\n",
            "14/14 [==============================] - 0s 18ms/step - loss: 0.0016 - val_loss: 0.0013\n",
            "Epoch 62/100\n",
            "14/14 [==============================] - 0s 17ms/step - loss: 0.0016 - val_loss: 0.0013\n",
            "Epoch 63/100\n",
            "14/14 [==============================] - 0s 17ms/step - loss: 0.0015 - val_loss: 0.0013\n",
            "Epoch 64/100\n",
            "14/14 [==============================] - 0s 17ms/step - loss: 0.0015 - val_loss: 0.0013\n",
            "Epoch 65/100\n",
            "14/14 [==============================] - 0s 17ms/step - loss: 0.0015 - val_loss: 0.0013\n",
            "Epoch 66/100\n",
            "14/14 [==============================] - 0s 18ms/step - loss: 0.0015 - val_loss: 0.0013\n",
            "Epoch 67/100\n",
            "14/14 [==============================] - 0s 18ms/step - loss: 0.0015 - val_loss: 0.0013\n",
            "Epoch 68/100\n",
            "14/14 [==============================] - 0s 18ms/step - loss: 0.0015 - val_loss: 0.0013\n",
            "Epoch 69/100\n",
            "14/14 [==============================] - 0s 17ms/step - loss: 0.0015 - val_loss: 0.0013\n",
            "Epoch 70/100\n",
            "14/14 [==============================] - 0s 18ms/step - loss: 0.0015 - val_loss: 0.0013\n",
            "Epoch 71/100\n",
            "14/14 [==============================] - 0s 18ms/step - loss: 0.0015 - val_loss: 0.0012\n",
            "Epoch 72/100\n",
            "14/14 [==============================] - 0s 17ms/step - loss: 0.0015 - val_loss: 0.0012\n",
            "Epoch 73/100\n",
            "14/14 [==============================] - 0s 17ms/step - loss: 0.0015 - val_loss: 0.0012\n",
            "Epoch 74/100\n",
            "14/14 [==============================] - 0s 17ms/step - loss: 0.0015 - val_loss: 0.0012\n",
            "Epoch 75/100\n",
            "14/14 [==============================] - 0s 18ms/step - loss: 0.0015 - val_loss: 0.0012\n",
            "Epoch 76/100\n",
            "14/14 [==============================] - 0s 17ms/step - loss: 0.0015 - val_loss: 0.0012\n",
            "Epoch 77/100\n",
            "14/14 [==============================] - 0s 17ms/step - loss: 0.0014 - val_loss: 0.0012\n",
            "Epoch 78/100\n",
            "14/14 [==============================] - 0s 17ms/step - loss: 0.0014 - val_loss: 0.0012\n",
            "Epoch 79/100\n",
            "14/14 [==============================] - 0s 18ms/step - loss: 0.0014 - val_loss: 0.0012\n",
            "Epoch 80/100\n",
            "14/14 [==============================] - 0s 18ms/step - loss: 0.0014 - val_loss: 0.0012\n",
            "Epoch 81/100\n",
            "14/14 [==============================] - 0s 17ms/step - loss: 0.0014 - val_loss: 0.0011\n",
            "Epoch 82/100\n",
            "14/14 [==============================] - 0s 18ms/step - loss: 0.0014 - val_loss: 0.0011\n",
            "Epoch 83/100\n",
            "14/14 [==============================] - 0s 17ms/step - loss: 0.0014 - val_loss: 0.0011\n",
            "Epoch 84/100\n",
            "14/14 [==============================] - 0s 17ms/step - loss: 0.0014 - val_loss: 0.0011\n",
            "Epoch 85/100\n",
            "14/14 [==============================] - 0s 17ms/step - loss: 0.0014 - val_loss: 0.0011\n",
            "Epoch 86/100\n",
            "14/14 [==============================] - 0s 17ms/step - loss: 0.0014 - val_loss: 0.0011\n",
            "Epoch 87/100\n",
            "14/14 [==============================] - 0s 17ms/step - loss: 0.0014 - val_loss: 0.0011\n",
            "Epoch 88/100\n",
            "14/14 [==============================] - 0s 18ms/step - loss: 0.0014 - val_loss: 0.0011\n",
            "Epoch 89/100\n",
            "14/14 [==============================] - 0s 19ms/step - loss: 0.0014 - val_loss: 0.0011\n",
            "Epoch 90/100\n",
            "14/14 [==============================] - 0s 18ms/step - loss: 0.0014 - val_loss: 0.0011\n",
            "Epoch 91/100\n",
            "14/14 [==============================] - 0s 18ms/step - loss: 0.0014 - val_loss: 0.0011\n",
            "Epoch 92/100\n",
            "14/14 [==============================] - 0s 19ms/step - loss: 0.0014 - val_loss: 0.0011\n",
            "Epoch 93/100\n",
            "14/14 [==============================] - 0s 17ms/step - loss: 0.0014 - val_loss: 0.0011\n",
            "Epoch 94/100\n",
            "14/14 [==============================] - 0s 18ms/step - loss: 0.0013 - val_loss: 0.0010\n",
            "Epoch 95/100\n",
            "14/14 [==============================] - 0s 20ms/step - loss: 0.0013 - val_loss: 0.0010\n",
            "Epoch 96/100\n",
            "14/14 [==============================] - 0s 20ms/step - loss: 0.0013 - val_loss: 0.0010\n",
            "Epoch 97/100\n",
            "14/14 [==============================] - 0s 18ms/step - loss: 0.0013 - val_loss: 0.0010\n",
            "Epoch 98/100\n",
            "14/14 [==============================] - 0s 17ms/step - loss: 0.0013 - val_loss: 0.0010\n",
            "Epoch 99/100\n",
            "14/14 [==============================] - 0s 17ms/step - loss: 0.0013 - val_loss: 0.0010\n",
            "Epoch 100/100\n",
            "14/14 [==============================] - 0s 18ms/step - loss: 0.0013 - val_loss: 0.0010\n"
          ]
        }
      ],
      "source": [
        "fit_hist= model.fit(X_train, Y_train, epochs=100, validation_data=(X_test, Y_test), shuffle= False)\n",
        "#valuedation split은 훈련데이터에서 랜덤하게 몇프로를 뽑아서 그거가지고 매 애폭마다 평가하는 거였지.\n",
        "# 근데 매 애폭마다 검증셋을 따로 뽑으니까 모든 데이터가 학습될거야\n",
        "#validation_data는 검증만 해? loss값 찾아서 loss값만 주고 핛브 안해. test data set에 대한 학습은 안돼. 쟤로는 학습 안하고 검증만 한다고. \n",
        "# 대신 훈련셋을 매번 다쓰니까 학습이 더 되겠지.\n",
        "#shuffle false는 랜덤하게 뽑지 않겠다. 순서대로 하라고. 이거 안주면 디폴트값은 랜덤임. 앞부터 순서대로 학습이 아니라 랜덤하게 하나씩 뽑아서함."
      ]
    },
    {
      "cell_type": "code",
      "execution_count": 32,
      "metadata": {
        "colab": {
          "base_uri": "https://localhost:8080/",
          "height": 265
        },
        "id": "SmL6oA4RhiW4",
        "outputId": "56d67145-97ea-4f9e-dc4f-0c07fd9cbdba"
      },
      "outputs": [
        {
          "data": {
            "image/png": "[encoded data removed]",
            "text/plain": [
              "<Figure size 432x288 with 1 Axes>"
            ]
          },
          "metadata": {
            "needs_background": "light"
          },
          "output_type": "display_data"
        }
      ],
      "source": [
        "plt.plot(fit_hist.history['loss'][10:], label='loss')\n",
        "plt.plot(fit_hist.history['val_loss'][10:], label='val_loss')\n",
        "plt.legend()\n",
        "plt.show()"
      ]
    },
    {
      "cell_type": "code",
      "execution_count": 33,
      "metadata": {
        "id": "fVR3HXwyh84w"
      },
      "outputs": [],
      "source": [
        "model.save('./stock_close_predict.h5')"
      ]
    },
    {
      "cell_type": "code",
      "execution_count": 34,
      "metadata": {
        "id": "ZHcE2y9biVM_"
      },
      "outputs": [],
      "source": [
        "pred= model.predict(X_test)"
      ]
    },
    {
      "cell_type": "code",
      "execution_count": 36,
      "metadata": {
        "colab": {
          "base_uri": "https://localhost:8080/",
          "height": 265
        },
        "id": "utlxwa-gid3X",
        "outputId": "8257dc2c-958f-416d-b75c-a743cdf5507c"
      },
      "outputs": [
        {
          "data": {
            "image/png": "[encoded data removed]",
            "text/plain": [
              "<Figure size 432x288 with 1 Axes>"
            ]
          },
          "metadata": {
            "needs_background": "light"
          },
          "output_type": "display_data"
        }
      ],
      "source": [
        "plt.plot(Y_test[:30], label ='actual')\n",
        "plt.plot(pred[:30], label= 'predict')\n",
        "plt.legend()\n",
        "plt.show()"
      ]
    },
    {
      "cell_type": "code",
      "execution_count": 41,
      "metadata": {
        "id": "W4uaSkrJit0w"
      },
      "outputs": [],
      "source": [
        "last_data_30= scaled_data[-30:].reshape(1,30,1)"
      ]
    },
    {
      "cell_type": "code",
      "execution_count": 42,
      "metadata": {
        "colab": {
          "base_uri": "https://localhost:8080/"
        },
        "id": "rPStIqVvl9zC",
        "outputId": "b976646e-a8dc-420b-c3a1-cda1f3889d8e"
      },
      "outputs": [
        {
          "name": "stdout",
          "output_type": "stream",
          "text": [
            "[[0.5571547]]\n"
          ]
        }
      ],
      "source": [
        "today_close = model.predict(last_data_30)\n",
        "\n",
        "print(today_close)"
      ]
    },
    {
      "cell_type": "code",
      "execution_count": 43,
      "metadata": {
        "id": "ropZwy-omICX"
      },
      "outputs": [],
      "source": [
        "today_close_value = minmaxscaler.inverse_transform(today_close)"
      ]
    },
    {
      "cell_type": "code",
      "execution_count": 44,
      "metadata": {
        "colab": {
          "base_uri": "https://localhost:8080/"
        },
        "id": "JMZqex0bmzqo",
        "outputId": "4adb35e3-d2db-40b0-a00c-d427f8666a07"
      },
      "outputs": [
        {
          "name": "stdout",
          "output_type": "stream",
          "text": [
            "[[69522.01]]\n"
          ]
        }
      ],
      "source": [
        "print(today_close_value)"
      ]
    },
    {
      "cell_type": "code",
      "execution_count": 48,
      "metadata": {
        "colab": {
          "base_uri": "https://localhost:8080/"
        },
        "id": "N0y7BlA_m15f",
        "outputId": "7b39e2ea-4acf-4bc4-8dcd-8998b0dc5023"
      },
      "outputs": [
        {
          "name": "stdout",
          "output_type": "stream",
          "text": [
            "[[0.57113402]]\n"
          ]
        },
        {
          "name": "stderr",
          "output_type": "stream",
          "text": [
            "/usr/local/lib/python3.7/dist-packages/sklearn/base.py:451: UserWarning: X does not have valid feature names, but MinMaxScaler was fitted with feature names\n",
            "  \"X does not have valid feature names, but\"\n"
          ]
        }
      ],
      "source": [
        "today_actual = 70200\n",
        "today_actual = np.array(today_actual).reshape(1,1)\n",
        "scaled_today_actual = minmaxscaler.transform(today_actual)\n",
        "print(scaled_today_actual)\n"
      ]
    },
    {
      "cell_type": "code",
      "execution_count": 51,
      "metadata": {
        "colab": {
          "base_uri": "https://localhost:8080/"
        },
        "id": "GG64kru4n41n",
        "outputId": "019132a8-d0f6-412e-fdc2-7623bf4d0b56"
      },
      "outputs": [
        {
          "name": "stdout",
          "output_type": "stream",
          "text": [
            "(1, 30, 1)\n"
          ]
        }
      ],
      "source": [
        "last_data_29 = scaled_data[-29:].reshape(1,29,1)\n",
        "last_30_data= np.append(last_data_29, scaled_today_actual)\n",
        "last_30_data= last_30_data.reshape(1,30,1)\n",
        "print(last_30_data.shape)"
      ]
    },
    {
      "cell_type": "code",
      "execution_count": 52,
      "metadata": {
        "id": "bTn-NLDMpCSI"
      },
      "outputs": [],
      "source": [
        "tommorrow_pred = model.predict(last_30_data)\n",
        "tommorrow_predicted_value = minmaxscaler.inverse_transform(tommorrow_pred)"
      ]
    },
    {
      "cell_type": "code",
      "execution_count": 55,
      "metadata": {
        "colab": {
          "base_uri": "https://localhost:8080/"
        },
        "id": "TcoIhjuupjnH",
        "outputId": "d28b3203-a1f3-49a8-c819-cb9c36b432a1"
      },
      "outputs": [
        {
          "name": "stdout",
          "output_type": "stream",
          "text": [
            "69554 원\n"
          ]
        }
      ],
      "source": [
        "print('%d 원'%tommorrow_predicted_value[0][0])"
      ]
    },
    {
      "cell_type": "code",
      "execution_count": null,
      "metadata": {
        "id": "BU8Kn01bp1LI"
      },
      "outputs": [],
      "source": []
    }
  ],
  "metadata": {
    "colab": {
      "authorship_tag": "ABX9TyMhY11wcvHZgXmtvJ9KDneG",
      "include_colab_link": true,
      "name": "exam18_predict_daily_stock.ipynb",
      "provenance": []
    },
    "kernelspec": {
      "display_name": "Python 3",
      "name": "python3"
    },
    "language_info": {
      "name": "python"
    }
  },
  "nbformat": 4,
  "nbformat_minor": 0
}
