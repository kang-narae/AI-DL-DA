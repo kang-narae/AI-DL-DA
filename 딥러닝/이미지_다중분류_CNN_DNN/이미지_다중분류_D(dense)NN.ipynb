{
  "nbformat": 4,
  "nbformat_minor": 0,
  "metadata": {
    "colab": {
      "name": "이미지분류_D(dense)NN.ipynb",
      "provenance": [],
      "collapsed_sections": [],
      "authorship_tag": "ABX9TyMbeJBGcNuMWg1ZZx2+W6QT",
      "include_colab_link": true
    },
    "kernelspec": {
      "name": "python3",
      "display_name": "Python 3"
    },
    "language_info": {
      "name": "python"
    }
  },
  "cells": [
    {
      "cell_type": "markdown",
      "metadata": {
        "id": "view-in-github",
        "colab_type": "text"
      },
      "source": [
        "<a href=\"https://colab.research.google.com/github/kang-narae/AI-DL-DA/blob/main/%EB%A8%B8%EC%8B%A0%EB%9F%AC%EB%8B%9D/%EC%9D%B4%EB%AF%B8%EC%A7%80%EB%B6%84%EB%A5%98_D(dense)NN.ipynb\" target=\"_parent\"><img src=\"https://colab.research.google.com/assets/colab-badge.svg\" alt=\"Open In Colab\"/></a>"
      ]
    },
    {
      "cell_type": "code",
      "execution_count": null,
      "metadata": {
        "id": "vhOTwJOtXndV"
      },
      "outputs": [],
      "source": [
        "import numpy as np\n",
        "import matplotlib.pyplot as plt\n",
        "from tensorflow.keras.models import Sequential\n",
        "from tensorflow.keras.layers import Dense\n",
        "from tensorflow.keras import datasets\n",
        "from keras.utils import np_utils"
      ]
    },
    {
      "cell_type": "code",
      "source": [
        "(X_train, Y_train), (X_test, Y_test) = datasets.fashion_mnist.load_data()\n",
        "print(X_train.shape, Y_train.shape)   #학습용 6만개\n",
        "print(X_test.shape, Y_test.shape)   #검증용 만개로 애초에 잘려있음\n",
        "\n",
        "\n",
        "#얘도 28x28임."
      ],
      "metadata": {
        "colab": {
          "base_uri": "https://localhost:8080/"
        },
        "id": "nvWuNCOvYK_5",
        "outputId": "c4628a5c-4c8f-41b9-912e-628efdb5e892"
      },
      "execution_count": null,
      "outputs": [
        {
          "output_type": "stream",
          "name": "stdout",
          "text": [
            "Downloading data from https://storage.googleapis.com/tensorflow/tf-keras-datasets/train-labels-idx1-ubyte.gz\n",
            "32768/29515 [=================================] - 0s 0us/step\n",
            "40960/29515 [=========================================] - 0s 0us/step\n",
            "Downloading data from https://storage.googleapis.com/tensorflow/tf-keras-datasets/train-images-idx3-ubyte.gz\n",
            "26427392/26421880 [==============================] - 0s 0us/step\n",
            "26435584/26421880 [==============================] - 0s 0us/step\n",
            "Downloading data from https://storage.googleapis.com/tensorflow/tf-keras-datasets/t10k-labels-idx1-ubyte.gz\n",
            "16384/5148 [===============================================================================================] - 0s 0us/step\n",
            "Downloading data from https://storage.googleapis.com/tensorflow/tf-keras-datasets/t10k-images-idx3-ubyte.gz\n",
            "4423680/4422102 [==============================] - 0s 0us/step\n",
            "4431872/4422102 [==============================] - 0s 0us/step\n",
            "(60000, 28, 28) (60000,)\n",
            "(10000, 28, 28) (10000,)\n"
          ]
        }
      ]
    },
    {
      "cell_type": "code",
      "source": [
        "label = ['T-shirt', 'trouser', 'pullover', 'dress', 'coat',\n",
        "         'sandal', 'shirt', 'sneaker', 'bag', 'ankle boot']"
      ],
      "metadata": {
        "id": "bc-9pgW63Bul"
      },
      "execution_count": null,
      "outputs": []
    },
    {
      "cell_type": "code",
      "source": [
        "my_sample = np.random.randint(60000)\n",
        "plt.imshow(X_train[my_sample])   #원래모노칼라임. 단색만 가짐. 0~255까지 검정 흰색 사이의 범위.  camp='gray'넣으면 원본.\n",
        "plt.show()\n",
        "print(Y_train[my_sample])\n",
        "print(X_train[my_sample])"
      ],
      "metadata": {
        "colab": {
          "base_uri": "https://localhost:8080/",
          "height": 1000
        },
        "id": "UTgtZplPYlsK",
        "outputId": "cc46043d-fd9b-4987-ef42-a0724d67d5d5"
      },
      "execution_count": null,
      "outputs": [
        {
          "output_type": "display_data",
          "data": {
            "text/plain": [
              "<Figure size 432x288 with 1 Axes>"
            ],
            "image/png": "[encoded data removed]"
          },
          "metadata": {
            "needs_background": "light"
          }
        },
        {
          "output_type": "stream",
          "name": "stdout",
          "text": [
            "2\n",
            "[[  0   0   0   0   0   0   0   0   0   2  20  20  13  12  31  60  55  49\n",
            "   30   0   0   0   0   0   0   0   0   0]\n",
            " [  0   0   0   0   0   0   0   0 124 236 210 187 181 189 198 193 189 192\n",
            "  208 153   0   0   0   0   0   0   0   0]\n",
            " [  0   0   0   0   0   0   0   0 173 126 136 176 151 135 109 100 126 170\n",
            "  159 211  77   0   5   0   0   0   0   0]\n",
            " [  0   0   0   0   1   0   0  42 213 186 162 228 242 194 229 253 240 223\n",
            "  162 214 136   0   0   0   0   0   0   0]\n",
            " [  0   0   0   0   0   0  22 199 216 225 233 205 206 181 190 226 225 183\n",
            "  214 213 206 128   0   0   0   0   0   0]\n",
            " [  0   0   0   0   0   4 189 207 195 194 204 220 207 216 210 198 200 205\n",
            "  206 208 199 223 174   0   0   0   0   0]\n",
            " [  0   0   0   0   0  95 216 195 204 203 201 200 216 200 200 200 203 204\n",
            "  206 199 200 202 205  24   0   0   0   0]\n",
            " [  0   0   0   0   0 148 218 200 192 199 203 204 157 195 206 206 204 206\n",
            "  204 204 211 197 210  99   0   0   0   0]\n",
            " [  0   0   0   0   0 191 216 206 191 196 199 170 135 137 209 161 168 178\n",
            "  181 201 201 196 217 148   0   0   0   0]\n",
            " [  0   0   0   0   0 216 214 211 189 212 143 149 197 132 176 179 172 164\n",
            "  115 182 204 199 207 187   0   0   0   0]\n",
            " [  0   0   0   0  18 217 211 217 188 189 133  72  91  94  90  93  93  88\n",
            "  136 207 203 201 199 212   0   0   0   0]\n",
            " [  0   0   0   0  52 220 207 218 191 190 130  65 113  97  99  73 108  57\n",
            "   73 158 210 201 199 215   0   0   0   0]\n",
            " [  0   0   0   0  79 219 206 232 187 200 152 150 184 186 198 187 197 165\n",
            "  147 201 197 203 198 224   5   0   0   0]\n",
            " [  0   0   0   0  88 217 203 233 183 202 181 158 134 131 174 172 135 178\n",
            "  176 200 191 202 196 227  29   0   0   0]\n",
            " [  0   0   0   0 103 215 193 235 187 198 195 212 170 206 206 198 199 206\n",
            "  202 197 188 207 197 224  47   0   0   0]\n",
            " [  0   0   0   0 118 212 190 236 182 196 201 197 208 199 198 197 194 192\n",
            "  196 198 185 212 198 221  58   0   0   0]\n",
            " [  0   0   0   0 128 210 191 234 179 200 200 197 198 198 198 198 197 198\n",
            "  202 207 190 212 198 225  72   0   0   0]\n",
            " [  0   0   0   0 142 210 193 240 193 199 199 194 195 195 195 194 193 193\n",
            "  197 203 190 212 194 223  82   0   0   0]\n",
            " [  0   0   0   0 154 209 192 237 192 196 207 194 193 195 196 195 195 192\n",
            "  197 203 193 211 194 222  94   0   0   0]\n",
            " [  0   0   0   0 163 204 190 229 186 207 203 197 202 205 203 202 203 198\n",
            "  197 206 196 211 192 221 106   0   0   0]\n",
            " [  0   0   0   0 165 204 192 226 185 207 197 198 201 203 199 199 199 197\n",
            "  196 205 201 220 190 218 116   0   0   0]\n",
            " [  0   0   0   0 167 206 194 220 195 201 199 201 201 203 201 200 201 200\n",
            "  199 201 197 222 191 212 125   0   0   0]\n",
            " [  0   0   0   0 164 208 193 219 195 197 199 202 202 204 204 203 203 201\n",
            "  197 196 193 226 197 210 137   0   0   0]\n",
            " [  0   0   0   0 160 208 188 237 216 194 202 201 202 203 205 204 206 201\n",
            "  197 195 198 223 197 209 139   0   0   0]\n",
            " [  0   0   0   0 164 208 202 190 194 196 196 199 198 198 201 201 201 201\n",
            "  203 197 198 224 202 209 157   0   0   0]\n",
            " [  0   0   0   0 150 198 208 124 165 220 205 204 202 201 200 200 199 200\n",
            "  200 198 188 218 204 203 122   0   0   0]\n",
            " [  0   0   0   0 118 222 255 106 186 255 221 242 243 243 240 241 243 240\n",
            "  239 237 232 246 223 255 124   0   0   0]\n",
            " [  0   0   0   0  56 141 158  25   5 122  99 106 105 106 108 110 112 114\n",
            "  115 120  77  23  87  90   5   0   0   0]]\n"
          ]
        }
      ]
    },
    {
      "cell_type": "code",
      "source": [
        "y_train = np_utils.to_categorical(Y_train)  #이러면 원핫인코딩 됨.\n",
        "y_test= np_utils.to_categorical(Y_test)\n",
        "print(Y_train[5000])\n",
        "print(y_train[5000])"
      ],
      "metadata": {
        "colab": {
          "base_uri": "https://localhost:8080/"
        },
        "id": "QiC0nDTzZX2z",
        "outputId": "ff7a3ed2-bd2e-4740-c4c0-10857eefe246"
      },
      "execution_count": null,
      "outputs": [
        {
          "output_type": "stream",
          "name": "stdout",
          "text": [
            "4\n",
            "[0. 0. 0. 0. 1. 0. 0. 0. 0. 0.]\n"
          ]
        }
      ]
    },
    {
      "cell_type": "code",
      "source": [
        "x_train = X_train.reshape(-1, 28*28)\n",
        "x_test = X_test.reshape(-1 , 28*28)\n",
        "x_train = x_train/255    #민맥스 스케일링. \n",
        "x_test = x_test/ 255\n",
        "print(x_train.shape)"
      ],
      "metadata": {
        "colab": {
          "base_uri": "https://localhost:8080/"
        },
        "id": "XU9Vm1L1ca05",
        "outputId": "713bbaa0-4463-4771-d830-4b8e1cae3d20"
      },
      "execution_count": null,
      "outputs": [
        {
          "output_type": "stream",
          "name": "stdout",
          "text": [
            "(60000, 784)\n"
          ]
        }
      ]
    },
    {
      "cell_type": "code",
      "source": [
        "model= Sequential()\n",
        "model.add(Dense(128, input_dim= 28*28, activation='relu'))\n",
        "model.add(Dense(128, activation='relu'))\n",
        "model.add(Dense(10, activation='softmax'))"
      ],
      "metadata": {
        "id": "ai9kpPYwddd3"
      },
      "execution_count": null,
      "outputs": []
    },
    {
      "cell_type": "code",
      "source": [
        "model.compile(optimizer= 'adam', loss='categorical_crossentropy',\n",
        "              metrics=['accuracy'])\n",
        "print(model.summary())"
      ],
      "metadata": {
        "colab": {
          "base_uri": "https://localhost:8080/"
        },
        "id": "b027R_xedw-4",
        "outputId": "f440a527-76b8-483a-f878-0bba42c76bda"
      },
      "execution_count": null,
      "outputs": [
        {
          "output_type": "stream",
          "name": "stdout",
          "text": [
            "Model: \"sequential\"\n",
            "_________________________________________________________________\n",
            " Layer (type)                Output Shape              Param #   \n",
            "=================================================================\n",
            " dense (Dense)               (None, 128)               100480    \n",
            "                                                                 \n",
            " dense_1 (Dense)             (None, 128)               16512     \n",
            "                                                                 \n",
            " dense_2 (Dense)             (None, 10)                1290      \n",
            "                                                                 \n",
            "=================================================================\n",
            "Total params: 118,282\n",
            "Trainable params: 118,282\n",
            "Non-trainable params: 0\n",
            "_________________________________________________________________\n",
            "None\n"
          ]
        }
      ]
    },
    {
      "cell_type": "code",
      "source": [
        "fit_hist = model.fit(x_train, y_train, batch_size= 128, epochs=15, validation_split=0.2, verbose=1)"
      ],
      "metadata": {
        "colab": {
          "base_uri": "https://localhost:8080/"
        },
        "id": "dLJuOLzReQjI",
        "outputId": "2eadbeb3-889e-442f-eb9e-564737f7c2f1"
      },
      "execution_count": null,
      "outputs": [
        {
          "output_type": "stream",
          "name": "stdout",
          "text": [
            "Epoch 1/15\n",
            "375/375 [==============================] - 3s 6ms/step - loss: 0.5697 - accuracy: 0.8022 - val_loss: 0.4308 - val_accuracy: 0.8493\n",
            "Epoch 2/15\n",
            "375/375 [==============================] - 2s 5ms/step - loss: 0.3977 - accuracy: 0.8571 - val_loss: 0.3717 - val_accuracy: 0.8684\n",
            "Epoch 3/15\n",
            "375/375 [==============================] - 2s 5ms/step - loss: 0.3579 - accuracy: 0.8699 - val_loss: 0.3794 - val_accuracy: 0.8593\n",
            "Epoch 4/15\n",
            "375/375 [==============================] - 2s 5ms/step - loss: 0.3283 - accuracy: 0.8801 - val_loss: 0.3463 - val_accuracy: 0.8767\n",
            "Epoch 5/15\n",
            "375/375 [==============================] - 2s 5ms/step - loss: 0.3109 - accuracy: 0.8857 - val_loss: 0.3771 - val_accuracy: 0.8641\n",
            "Epoch 6/15\n",
            "375/375 [==============================] - 2s 6ms/step - loss: 0.2975 - accuracy: 0.8898 - val_loss: 0.3437 - val_accuracy: 0.8765\n",
            "Epoch 7/15\n",
            "375/375 [==============================] - 2s 6ms/step - loss: 0.2787 - accuracy: 0.8971 - val_loss: 0.3272 - val_accuracy: 0.8832\n",
            "Epoch 8/15\n",
            "375/375 [==============================] - 2s 6ms/step - loss: 0.2676 - accuracy: 0.9004 - val_loss: 0.3223 - val_accuracy: 0.8852\n",
            "Epoch 9/15\n",
            "375/375 [==============================] - 2s 5ms/step - loss: 0.2550 - accuracy: 0.9053 - val_loss: 0.3106 - val_accuracy: 0.8884\n",
            "Epoch 10/15\n",
            "375/375 [==============================] - 2s 6ms/step - loss: 0.2474 - accuracy: 0.9076 - val_loss: 0.3095 - val_accuracy: 0.8907\n",
            "Epoch 11/15\n",
            "375/375 [==============================] - 2s 5ms/step - loss: 0.2356 - accuracy: 0.9116 - val_loss: 0.3337 - val_accuracy: 0.8827\n",
            "Epoch 12/15\n",
            "375/375 [==============================] - 2s 6ms/step - loss: 0.2295 - accuracy: 0.9147 - val_loss: 0.3110 - val_accuracy: 0.8910\n",
            "Epoch 13/15\n",
            "375/375 [==============================] - 2s 6ms/step - loss: 0.2228 - accuracy: 0.9163 - val_loss: 0.3257 - val_accuracy: 0.8905\n",
            "Epoch 14/15\n",
            "375/375 [==============================] - 2s 6ms/step - loss: 0.2173 - accuracy: 0.9185 - val_loss: 0.3325 - val_accuracy: 0.8842\n",
            "Epoch 15/15\n",
            "375/375 [==============================] - 2s 5ms/step - loss: 0.2088 - accuracy: 0.9224 - val_loss: 0.3145 - val_accuracy: 0.8923\n"
          ]
        }
      ]
    },
    {
      "cell_type": "code",
      "source": [
        "# 검증해보자\n",
        "\n",
        "score= model.evaluate(x_test, y_test, verbose=0)\n",
        "print('Final test set accuracy:', score[1])"
      ],
      "metadata": {
        "colab": {
          "base_uri": "https://localhost:8080/"
        },
        "id": "J3h1XVYeexN4",
        "outputId": "ba196345-d834-40e0-cd4c-516c3269f118"
      },
      "execution_count": null,
      "outputs": [
        {
          "output_type": "stream",
          "name": "stdout",
          "text": [
            "Final test set accuracy: 0.8845000267028809\n"
          ]
        }
      ]
    },
    {
      "cell_type": "code",
      "source": [
        "plt.plot(fit_hist.history['accuracy'])\n",
        "plt.plot(fit_hist.history['val_accuracy'])\n",
        "plt.show()"
      ],
      "metadata": {
        "colab": {
          "base_uri": "https://localhost:8080/",
          "height": 265
        },
        "id": "0z3H9qxyfoy3",
        "outputId": "4cbbedb3-6132-4dfb-e608-1f6f32486cb4"
      },
      "execution_count": null,
      "outputs": [
        {
          "output_type": "display_data",
          "data": {
            "text/plain": [
              "<Figure size 432x288 with 1 Axes>"
            ],
            "image/png": "[encoded data removed]"
          },
          "metadata": {
            "needs_background": "light"
          }
        }
      ]
    },
    {
      "cell_type": "code",
      "source": [
        "my_sample=np.random.randint(10000)\n",
        "plt.imshow(X_test[my_sample], cmap='gray')  #입력값\n",
        "print(label[Y_test[my_sample]])\n",
        "print(Y_test[my_sample])    #정답\n",
        "pred= model.predict(x_test[my_sample].reshape(-1, 28*28)) #입력값으로 에측한 값\n",
        "print(pred)\n",
        "print(np.argmax(pred))\n",
        "print(label[np.argmax(pred)])"
      ],
      "metadata": {
        "colab": {
          "base_uri": "https://localhost:8080/",
          "height": 375
        },
        "id": "ttzOiqlaf14n",
        "outputId": "a2ad0d01-8c45-4b66-9b1a-f251309e90e2"
      },
      "execution_count": null,
      "outputs": [
        {
          "output_type": "stream",
          "name": "stdout",
          "text": [
            "bag\n",
            "8\n",
            "[[5.3186522e-09 1.1191260e-09 3.9552220e-10 3.6503002e-11 8.7098712e-08\n",
            "  2.6345235e-11 6.5588984e-12 1.1311457e-09 9.9999988e-01 5.7672190e-14]]\n",
            "8\n",
            "bag\n"
          ]
        },
        {
          "output_type": "display_data",
          "data": {
            "text/plain": [
              "<Figure size 432x288 with 1 Axes>"
            ],
            "image/png": "[encoded data removed]"
          },
          "metadata": {
            "needs_background": "light"
          }
        }
      ]
    },
    {
      "cell_type": "code",
      "source": [
        "\n",
        "\n",
        "# 지금까지 한 건 그냥 NN. neural network.\n",
        "#굳이 하나 더 붙이자면 dnn. dense neural network. 조밀하게 연결되어있는.  (용어 맞아? ,,,)\n",
        "\n",
        "#앞으로 할 거는 cnn. convolutional(합성곱) nueral network. 이미지 분류에 특화됨."
      ],
      "metadata": {
        "id": "Tr-HzqVRgmyX"
      },
      "execution_count": null,
      "outputs": []
    }
  ]
}