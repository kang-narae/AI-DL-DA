{
 "cells": [
  {
   "cell_type": "markdown",
   "id": "519449ce",
   "metadata": {},
   "source": [
    "# 정규표현식\n",
    "\n",
    "\n",
    "### .은 한 개의 임의의 문자"
   ]
  },
  {
   "cell_type": "code",
   "execution_count": 1,
   "id": "0ba9ebbb",
   "metadata": {},
   "outputs": [
    {
     "data": {
      "text/plain": [
       "<re.Match object; span=(0, 3), match='abc'>"
      ]
     },
     "execution_count": 1,
     "metadata": {},
     "output_type": "execute_result"
    }
   ],
   "source": [
    "import re\n",
    "r= re.compile('a.c')\n",
    "r.search('abc')"
   ]
  },
  {
   "cell_type": "markdown",
   "id": "a4fee4fc",
   "metadata": {},
   "source": [
    "### ?는 ?앞의 문자가 존재할 수도 있고 존재하지 않을 수도 있는 경우"
   ]
  },
  {
   "cell_type": "code",
   "execution_count": 3,
   "id": "096e2680",
   "metadata": {},
   "outputs": [],
   "source": [
    "r= re.compile('ab?c')   # a (b) c\n",
    "r.search('abbc')   # 없음."
   ]
  },
  {
   "cell_type": "code",
   "execution_count": 4,
   "id": "6b47004a",
   "metadata": {},
   "outputs": [
    {
     "data": {
      "text/plain": [
       "<re.Match object; span=(0, 3), match='abc'>"
      ]
     },
     "execution_count": 4,
     "metadata": {},
     "output_type": "execute_result"
    }
   ],
   "source": [
    "r.search('abc')"
   ]
  },
  {
   "cell_type": "code",
   "execution_count": 5,
   "id": "75032ba7",
   "metadata": {},
   "outputs": [
    {
     "data": {
      "text/plain": [
       "<re.Match object; span=(0, 2), match='ac'>"
      ]
     },
     "execution_count": 5,
     "metadata": {},
     "output_type": "execute_result"
    }
   ],
   "source": [
    "r.search('ac')"
   ]
  },
  {
   "cell_type": "markdown",
   "id": "6cd9c670",
   "metadata": {},
   "source": [
    "### *은 바로 앞의 문자가 0개 이상일 경우"
   ]
  },
  {
   "cell_type": "code",
   "execution_count": 7,
   "id": "b4271135",
   "metadata": {},
   "outputs": [
    {
     "name": "stdout",
     "output_type": "stream",
     "text": [
      "None\n",
      "<re.Match object; span=(0, 2), match='ac'>\n",
      "<re.Match object; span=(0, 3), match='abc'>\n",
      "<re.Match object; span=(0, 7), match='abbbbbc'>\n"
     ]
    }
   ],
   "source": [
    "r = re.compile(\"ab*c\")\n",
    "print(r.search(\"a\"))\n",
    "print(r.search(\"ac\"))\n",
    "print(r.search(\"abc\"))\n",
    "print(r.search(\"abbbbbc\"))"
   ]
  },
  {
   "cell_type": "markdown",
   "id": "5c949475",
   "metadata": {},
   "source": [
    "### 문자 뒤 {숫자1, 숫자2} =해당 문자를 숫자1 이상 숫자2 이하만큼 반복"
   ]
  },
  {
   "cell_type": "code",
   "execution_count": 9,
   "id": "4f284b5f",
   "metadata": {},
   "outputs": [
    {
     "name": "stdout",
     "output_type": "stream",
     "text": [
      "None\n",
      "None\n",
      "None\n",
      "<re.Match object; span=(0, 7), match='abbbbbc'>\n"
     ]
    }
   ],
   "source": [
    "r = re.compile(\"ab{2,8}c\")\n",
    "\n",
    "# 아무런 결과도 출력되지 않는다.\n",
    "print(r.search(\"ac\"))\n",
    "print(r.search(\"abc\"))\n",
    "print(r.search(\"abbbbbbbbbc\"))\n",
    "print(r.search('abbbbbc'))"
   ]
  },
  {
   "cell_type": "code",
   "execution_count": null,
   "id": "a567bc41",
   "metadata": {},
   "outputs": [],
   "source": []
  }
 ],
 "metadata": {
  "kernelspec": {
   "display_name": "Python 3 (ipykernel)",
   "language": "python",
   "name": "python3"
  },
  "language_info": {
   "codemirror_mode": {
    "name": "ipython",
    "version": 3
   },
   "file_extension": ".py",
   "mimetype": "text/x-python",
   "name": "python",
   "nbconvert_exporter": "python",
   "pygments_lexer": "ipython3",
   "version": "3.9.7"
  }
 },
 "nbformat": 4,
 "nbformat_minor": 5
}
