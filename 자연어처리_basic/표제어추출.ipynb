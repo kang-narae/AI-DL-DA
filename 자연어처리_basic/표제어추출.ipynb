{
 "cells": [
  {
   "cell_type": "markdown",
   "id": "3a458ec8",
   "metadata": {},
   "source": [
    "# 표제어 추출\n",
    "## '표제어' 또는 '기본 사전형 단어' \n",
    "## 표제어 추출은 단어들로부터 표제어를 찾아가는 과정"
   ]
  },
  {
   "cell_type": "code",
   "execution_count": 1,
   "id": "a3083957",
   "metadata": {},
   "outputs": [
    {
     "name": "stdout",
     "output_type": "stream",
     "text": [
      "표제어 추출 전 : ['policy', 'doing', 'organization', 'have', 'going', 'love', 'lives', 'fly', 'dies', 'watched', 'has', 'starting']\n",
      "표제어 추출 후 : ['policy', 'doing', 'organization', 'have', 'going', 'love', 'life', 'fly', 'dy', 'watched', 'ha', 'starting']\n"
     ]
    }
   ],
   "source": [
    "from nltk.stem import WordNetLemmatizer  #표제어 추출 위한 도구\n",
    "lemmatizer= WordNetLemmatizer()\n",
    "words = ['policy', 'doing', 'organization', 'have', 'going', 'love', 'lives', 'fly', 'dies', 'watched', 'has', 'starting']\n",
    "\n",
    "print('표제어 추출 전 :',words)\n",
    "print('표제어 추출 후 :',[lemmatizer.lemmatize(word) for word in words])"
   ]
  },
  {
   "cell_type": "markdown",
   "id": "f2fba7fb",
   "metadata": {},
   "source": [
    "### 이상하게 나오는 것들이 생김. 본래 단어의 품사 정보를 모르기 때문.\n",
    "\n",
    "### 단어의 품사를 알려주면 정확한 표제어를 추출해줌."
   ]
  },
  {
   "cell_type": "code",
   "execution_count": 2,
   "id": "9312cc37",
   "metadata": {},
   "outputs": [
    {
     "data": {
      "text/plain": [
       "'die'"
      ]
     },
     "execution_count": 2,
     "metadata": {},
     "output_type": "execute_result"
    }
   ],
   "source": [
    "\n",
    "\n",
    "lemmatizer.lemmatize('dies','v') "
   ]
  },
  {
   "cell_type": "markdown",
   "id": "78a9d284",
   "metadata": {},
   "source": []
  },
  {
   "cell_type": "code",
   "execution_count": null,
   "id": "e92c1523",
   "metadata": {},
   "outputs": [],
   "source": []
  }
 ],
 "metadata": {
  "kernelspec": {
   "display_name": "Python 3 (ipykernel)",
   "language": "python",
   "name": "python3"
  },
  "language_info": {
   "codemirror_mode": {
    "name": "ipython",
    "version": 3
   },
   "file_extension": ".py",
   "mimetype": "text/x-python",
   "name": "python",
   "nbconvert_exporter": "python",
   "pygments_lexer": "ipython3",
   "version": "3.9.7"
  }
 },
 "nbformat": 4,
 "nbformat_minor": 5
}
