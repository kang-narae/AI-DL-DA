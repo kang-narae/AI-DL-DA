{
  "nbformat": 4,
  "nbformat_minor": 0,
  "metadata": {
    "colab": {
      "name": "exam13_iris_classfication.ipynb",
      "provenance": [],
      "authorship_tag": "ABX9TyM/CU+RI1ohP2pWH2nW4/U1",
      "include_colab_link": true
    },
    "kernelspec": {
      "name": "python3",
      "display_name": "Python 3"
    },
    "language_info": {
      "name": "python"
    }
  },
  "cells": [
    {
      "cell_type": "markdown",
      "metadata": {
        "id": "view-in-github",
        "colab_type": "text"
      },
      "source": [
        "<a href=\"https://colab.research.google.com/github/kang-narae/AI-DL-DA/blob/main/%EB%A8%B8%EC%8B%A0%EB%9F%AC%EB%8B%9D/%EB%8B%A4%EC%A4%91%EB%B6%84%EB%A5%98_multi_classification.ipynb\" target=\"_parent\"><img src=\"https://colab.research.google.com/assets/colab-badge.svg\" alt=\"Open In Colab\"/></a>"
      ]
    },
    {
      "cell_type": "code",
      "execution_count": null,
      "metadata": {
        "id": "Ef2LlO3T-QXO"
      },
      "outputs": [],
      "source": [
        "from tensorflow.keras.models import Sequential\n",
        "from tensorflow.keras.layers import Dense, Dropout\n",
        "import numpy as np\n",
        "import matplotlib.pyplot as plt\n",
        "import pandas as pd\n",
        "import seaborn as sns\n",
        "from sklearn.preprocessing import StandardScaler\n",
        "from sklearn.model_selection import train_test_split\n",
        "from sklearn.datasets import load_iris   #sklearn: 파이썬으로 통계분석할 때 쓰는 패키지.\n",
        "from sklearn.preprocessing import OneHotEncoder\n",
        "from tensorflow.keras.optimizers import Adam"
      ]
    },
    {
      "cell_type": "code",
      "source": [
        "iris = load_iris()\n",
        "print(type(iris))"
      ],
      "metadata": {
        "colab": {
          "base_uri": "https://localhost:8080/"
        },
        "id": "Fm7h_rd-_Fvr",
        "outputId": "5895cef2-8fee-4c4f-b8f1-86ce46c6a3e8"
      },
      "execution_count": null,
      "outputs": [
        {
          "output_type": "stream",
          "name": "stdout",
          "text": [
            "<class 'sklearn.utils.Bunch'>\n"
          ]
        }
      ]
    },
    {
      "cell_type": "code",
      "source": [
        "print('Data:', iris.data.shape)   #4개씩(컬럼) 묶어서  150개의 자료(row)\n",
        "print('Label:', iris.target.shape)\n",
        "print('feature name:', iris.feature_names)\n",
        "print('target name', iris.target_names)\n",
        "print('iris dataset keys \\n ', iris.keys())   #iris는 딕셔너리와 유사한 타입. 정확히는 bunch이긴한데, 딕셔너리와 유사함."
      ],
      "metadata": {
        "colab": {
          "base_uri": "https://localhost:8080/"
        },
        "id": "rlC_5AiV_cfJ",
        "outputId": "392696dd-a460-4c9b-87da-2033ccea2bae"
      },
      "execution_count": null,
      "outputs": [
        {
          "output_type": "stream",
          "name": "stdout",
          "text": [
            "Data: (150, 4)\n",
            "Label: (150,)\n",
            "feature name: ['sepal length (cm)', 'sepal width (cm)', 'petal length (cm)', 'petal width (cm)']\n",
            "target name ['setosa' 'versicolor' 'virginica']\n",
            "iris dataset keys \n",
            "  dict_keys(['data', 'target', 'frame', 'target_names', 'DESCR', 'feature_names', 'filename', 'data_module'])\n"
          ]
        }
      ]
    },
    {
      "cell_type": "code",
      "source": [
        "x= iris.data\n",
        "y= iris.target"
      ],
      "metadata": {
        "id": "bSoH-SDE_5x7"
      },
      "execution_count": null,
      "outputs": []
    },
    {
      "cell_type": "code",
      "source": [
        "# 세가지로 분류할때는 이진분류기 3개를 쓴다.   각각, a번인지 아닌지/ b번인지 아닌지 / c번인지 아닌지.\n",
        "\n",
        "#생물학적 남잔지 여잔지는 이진분류기.  개냐 고양이냐는? 개랑고양이가 이미지 안에 다 있을수도있고, 개랑고양이 둘다 아닐수도 있어. 이러면 다중 분류기인데 두가지로 나오는 거지.\n",
        "# 클래스 자체가 애초에 2개뿐이어야 이진분류기다.\n",
        "\n",
        "\n",
        "#y를 원핫인코더로 만들자.\n",
        "\n",
        "# encoder=OneHotEncoder()\n",
        "encoder= OneHotEncoder(sparse=False)\n",
        "y= y.reshape(-1,1)   #하나씩 묶을수있는만큼 묶어라\n",
        "encoded_y = encoder.fit_transform(y)\n",
        "print(encoded_y.shape)\n",
        "print(encoded_y)\n",
        "print(y)\n",
        "\n",
        "#앞에 50개가 셀토사, 그다음 50개가 버진어쩌고, 그다음50개가 베로어쩌고..인 거임\n",
        "\n",
        "\n",
        "\n"
      ],
      "metadata": {
        "colab": {
          "base_uri": "https://localhost:8080/"
        },
        "id": "5V6luGFwD5ig",
        "outputId": "b2b09c4c-c416-415d-aef9-5e0f8619a8ee"
      },
      "execution_count": null,
      "outputs": [
        {
          "output_type": "stream",
          "name": "stdout",
          "text": [
            "(150, 3)\n",
            "[[1. 0. 0.]\n",
            " [1. 0. 0.]\n",
            " [1. 0. 0.]\n",
            " [1. 0. 0.]\n",
            " [1. 0. 0.]\n",
            " [1. 0. 0.]\n",
            " [1. 0. 0.]\n",
            " [1. 0. 0.]\n",
            " [1. 0. 0.]\n",
            " [1. 0. 0.]\n",
            " [1. 0. 0.]\n",
            " [1. 0. 0.]\n",
            " [1. 0. 0.]\n",
            " [1. 0. 0.]\n",
            " [1. 0. 0.]\n",
            " [1. 0. 0.]\n",
            " [1. 0. 0.]\n",
            " [1. 0. 0.]\n",
            " [1. 0. 0.]\n",
            " [1. 0. 0.]\n",
            " [1. 0. 0.]\n",
            " [1. 0. 0.]\n",
            " [1. 0. 0.]\n",
            " [1. 0. 0.]\n",
            " [1. 0. 0.]\n",
            " [1. 0. 0.]\n",
            " [1. 0. 0.]\n",
            " [1. 0. 0.]\n",
            " [1. 0. 0.]\n",
            " [1. 0. 0.]\n",
            " [1. 0. 0.]\n",
            " [1. 0. 0.]\n",
            " [1. 0. 0.]\n",
            " [1. 0. 0.]\n",
            " [1. 0. 0.]\n",
            " [1. 0. 0.]\n",
            " [1. 0. 0.]\n",
            " [1. 0. 0.]\n",
            " [1. 0. 0.]\n",
            " [1. 0. 0.]\n",
            " [1. 0. 0.]\n",
            " [1. 0. 0.]\n",
            " [1. 0. 0.]\n",
            " [1. 0. 0.]\n",
            " [1. 0. 0.]\n",
            " [1. 0. 0.]\n",
            " [1. 0. 0.]\n",
            " [1. 0. 0.]\n",
            " [1. 0. 0.]\n",
            " [1. 0. 0.]\n",
            " [0. 1. 0.]\n",
            " [0. 1. 0.]\n",
            " [0. 1. 0.]\n",
            " [0. 1. 0.]\n",
            " [0. 1. 0.]\n",
            " [0. 1. 0.]\n",
            " [0. 1. 0.]\n",
            " [0. 1. 0.]\n",
            " [0. 1. 0.]\n",
            " [0. 1. 0.]\n",
            " [0. 1. 0.]\n",
            " [0. 1. 0.]\n",
            " [0. 1. 0.]\n",
            " [0. 1. 0.]\n",
            " [0. 1. 0.]\n",
            " [0. 1. 0.]\n",
            " [0. 1. 0.]\n",
            " [0. 1. 0.]\n",
            " [0. 1. 0.]\n",
            " [0. 1. 0.]\n",
            " [0. 1. 0.]\n",
            " [0. 1. 0.]\n",
            " [0. 1. 0.]\n",
            " [0. 1. 0.]\n",
            " [0. 1. 0.]\n",
            " [0. 1. 0.]\n",
            " [0. 1. 0.]\n",
            " [0. 1. 0.]\n",
            " [0. 1. 0.]\n",
            " [0. 1. 0.]\n",
            " [0. 1. 0.]\n",
            " [0. 1. 0.]\n",
            " [0. 1. 0.]\n",
            " [0. 1. 0.]\n",
            " [0. 1. 0.]\n",
            " [0. 1. 0.]\n",
            " [0. 1. 0.]\n",
            " [0. 1. 0.]\n",
            " [0. 1. 0.]\n",
            " [0. 1. 0.]\n",
            " [0. 1. 0.]\n",
            " [0. 1. 0.]\n",
            " [0. 1. 0.]\n",
            " [0. 1. 0.]\n",
            " [0. 1. 0.]\n",
            " [0. 1. 0.]\n",
            " [0. 1. 0.]\n",
            " [0. 1. 0.]\n",
            " [0. 1. 0.]\n",
            " [0. 1. 0.]\n",
            " [0. 0. 1.]\n",
            " [0. 0. 1.]\n",
            " [0. 0. 1.]\n",
            " [0. 0. 1.]\n",
            " [0. 0. 1.]\n",
            " [0. 0. 1.]\n",
            " [0. 0. 1.]\n",
            " [0. 0. 1.]\n",
            " [0. 0. 1.]\n",
            " [0. 0. 1.]\n",
            " [0. 0. 1.]\n",
            " [0. 0. 1.]\n",
            " [0. 0. 1.]\n",
            " [0. 0. 1.]\n",
            " [0. 0. 1.]\n",
            " [0. 0. 1.]\n",
            " [0. 0. 1.]\n",
            " [0. 0. 1.]\n",
            " [0. 0. 1.]\n",
            " [0. 0. 1.]\n",
            " [0. 0. 1.]\n",
            " [0. 0. 1.]\n",
            " [0. 0. 1.]\n",
            " [0. 0. 1.]\n",
            " [0. 0. 1.]\n",
            " [0. 0. 1.]\n",
            " [0. 0. 1.]\n",
            " [0. 0. 1.]\n",
            " [0. 0. 1.]\n",
            " [0. 0. 1.]\n",
            " [0. 0. 1.]\n",
            " [0. 0. 1.]\n",
            " [0. 0. 1.]\n",
            " [0. 0. 1.]\n",
            " [0. 0. 1.]\n",
            " [0. 0. 1.]\n",
            " [0. 0. 1.]\n",
            " [0. 0. 1.]\n",
            " [0. 0. 1.]\n",
            " [0. 0. 1.]\n",
            " [0. 0. 1.]\n",
            " [0. 0. 1.]\n",
            " [0. 0. 1.]\n",
            " [0. 0. 1.]\n",
            " [0. 0. 1.]\n",
            " [0. 0. 1.]\n",
            " [0. 0. 1.]\n",
            " [0. 0. 1.]\n",
            " [0. 0. 1.]\n",
            " [0. 0. 1.]]\n",
            "[[0]\n",
            " [0]\n",
            " [0]\n",
            " [0]\n",
            " [0]\n",
            " [0]\n",
            " [0]\n",
            " [0]\n",
            " [0]\n",
            " [0]\n",
            " [0]\n",
            " [0]\n",
            " [0]\n",
            " [0]\n",
            " [0]\n",
            " [0]\n",
            " [0]\n",
            " [0]\n",
            " [0]\n",
            " [0]\n",
            " [0]\n",
            " [0]\n",
            " [0]\n",
            " [0]\n",
            " [0]\n",
            " [0]\n",
            " [0]\n",
            " [0]\n",
            " [0]\n",
            " [0]\n",
            " [0]\n",
            " [0]\n",
            " [0]\n",
            " [0]\n",
            " [0]\n",
            " [0]\n",
            " [0]\n",
            " [0]\n",
            " [0]\n",
            " [0]\n",
            " [0]\n",
            " [0]\n",
            " [0]\n",
            " [0]\n",
            " [0]\n",
            " [0]\n",
            " [0]\n",
            " [0]\n",
            " [0]\n",
            " [0]\n",
            " [1]\n",
            " [1]\n",
            " [1]\n",
            " [1]\n",
            " [1]\n",
            " [1]\n",
            " [1]\n",
            " [1]\n",
            " [1]\n",
            " [1]\n",
            " [1]\n",
            " [1]\n",
            " [1]\n",
            " [1]\n",
            " [1]\n",
            " [1]\n",
            " [1]\n",
            " [1]\n",
            " [1]\n",
            " [1]\n",
            " [1]\n",
            " [1]\n",
            " [1]\n",
            " [1]\n",
            " [1]\n",
            " [1]\n",
            " [1]\n",
            " [1]\n",
            " [1]\n",
            " [1]\n",
            " [1]\n",
            " [1]\n",
            " [1]\n",
            " [1]\n",
            " [1]\n",
            " [1]\n",
            " [1]\n",
            " [1]\n",
            " [1]\n",
            " [1]\n",
            " [1]\n",
            " [1]\n",
            " [1]\n",
            " [1]\n",
            " [1]\n",
            " [1]\n",
            " [1]\n",
            " [1]\n",
            " [1]\n",
            " [1]\n",
            " [2]\n",
            " [2]\n",
            " [2]\n",
            " [2]\n",
            " [2]\n",
            " [2]\n",
            " [2]\n",
            " [2]\n",
            " [2]\n",
            " [2]\n",
            " [2]\n",
            " [2]\n",
            " [2]\n",
            " [2]\n",
            " [2]\n",
            " [2]\n",
            " [2]\n",
            " [2]\n",
            " [2]\n",
            " [2]\n",
            " [2]\n",
            " [2]\n",
            " [2]\n",
            " [2]\n",
            " [2]\n",
            " [2]\n",
            " [2]\n",
            " [2]\n",
            " [2]\n",
            " [2]\n",
            " [2]\n",
            " [2]\n",
            " [2]\n",
            " [2]\n",
            " [2]\n",
            " [2]\n",
            " [2]\n",
            " [2]\n",
            " [2]\n",
            " [2]\n",
            " [2]\n",
            " [2]\n",
            " [2]\n",
            " [2]\n",
            " [2]\n",
            " [2]\n",
            " [2]\n",
            " [2]\n",
            " [2]\n",
            " [2]]\n"
          ]
        }
      ]
    },
    {
      "cell_type": "code",
      "source": [
        "X_train, X_test, Y_train, Y_test = train_test_split(\n",
        "    x, encoded_y, test_size=0.2)\n",
        "print(X_train.shape, Y_train.shape)\n",
        "print(X_test.shape, Y_test.shape)\n"
      ],
      "metadata": {
        "colab": {
          "base_uri": "https://localhost:8080/"
        },
        "id": "oDXLwYc2NIc-",
        "outputId": "f3803517-d80b-4124-f88e-c5efdae39a94"
      },
      "execution_count": null,
      "outputs": [
        {
          "output_type": "stream",
          "name": "stdout",
          "text": [
            "(120, 4) (120, 3)\n",
            "(30, 4) (30, 3)\n"
          ]
        }
      ]
    },
    {
      "cell_type": "code",
      "source": [
        "model = Sequential()\n",
        "model.add(Dense(256, input_dim=4, activation='relu'))   #feature name 4개였지 data shape도 그렇고\n",
        "model.add(Dense(128, activation='relu'))\n",
        "model.add(Dense(512, activation='relu'))\n",
        "model.add(Dense(3, activation='softmax'))   #3개의 값을 확률값으로 바꿔줌. 즉 출력의 3가지 경우의 확률 합하면 1이됨.\n"
      ],
      "metadata": {
        "id": "VVAHGBxhGpjY"
      },
      "execution_count": null,
      "outputs": []
    },
    {
      "cell_type": "code",
      "source": [
        "opt= Adam(lr= 0.001)  #경사하강알고리즘에서 러닝레이트. 아담은 러닝레이트 안 줘도 지가 알아서 잡음. 지역최저점에 안 빠지게 모멘텀값도 잡음.\n",
        "#근데 그래도 정밀하게 가고 싶으면 아담에도 러닝레이트를 지정해주는 거임. 여기서도 아담이 조절해가면서 학습함.\n",
        "\n",
        "#암튼 지금 아담 객체 따로 만들어준거.\n",
        "\n",
        "model.compile(opt, loss= 'categorical_crossentropy', metrics=['accuracy'])\n",
        "model.summary()"
      ],
      "metadata": {
        "colab": {
          "base_uri": "https://localhost:8080/"
        },
        "id": "ohXPgMQwLKw2",
        "outputId": "df04cd4e-c39a-4940-d9a1-ecfd2ab70bf9"
      },
      "execution_count": null,
      "outputs": [
        {
          "output_type": "stream",
          "name": "stdout",
          "text": [
            "Model: \"sequential_1\"\n",
            "_________________________________________________________________\n",
            " Layer (type)                Output Shape              Param #   \n",
            "=================================================================\n",
            " dense_4 (Dense)             (None, 256)               1280      \n",
            "                                                                 \n",
            " dense_5 (Dense)             (None, 128)               32896     \n",
            "                                                                 \n",
            " dense_6 (Dense)             (None, 512)               66048     \n",
            "                                                                 \n",
            " dense_7 (Dense)             (None, 3)                 1539      \n",
            "                                                                 \n",
            "=================================================================\n",
            "Total params: 101,763\n",
            "Trainable params: 101,763\n",
            "Non-trainable params: 0\n",
            "_________________________________________________________________\n"
          ]
        },
        {
          "output_type": "stream",
          "name": "stderr",
          "text": [
            "/usr/local/lib/python3.7/dist-packages/keras/optimizer_v2/adam.py:105: UserWarning: The `lr` argument is deprecated, use `learning_rate` instead.\n",
            "  super(Adam, self).__init__(name, **kwargs)\n"
          ]
        }
      ]
    },
    {
      "cell_type": "code",
      "source": [
        "#학습 시키자\n",
        "\n",
        "fit_hist= model.fit(X_train, Y_train, batch_size=5, epochs=50, verbose=1)"
      ],
      "metadata": {
        "colab": {
          "base_uri": "https://localhost:8080/"
        },
        "id": "pAjbDElNNAAf",
        "outputId": "ab4179f6-7af5-455b-c6d4-8dd4aa894332"
      },
      "execution_count": null,
      "outputs": [
        {
          "output_type": "stream",
          "name": "stdout",
          "text": [
            "Epoch 1/50\n",
            "24/24 [==============================] - 1s 4ms/step - loss: 0.7555 - accuracy: 0.6750\n",
            "Epoch 2/50\n",
            "24/24 [==============================] - 0s 4ms/step - loss: 0.3133 - accuracy: 0.8667\n",
            "Epoch 3/50\n",
            "24/24 [==============================] - 0s 6ms/step - loss: 0.2126 - accuracy: 0.8833\n",
            "Epoch 4/50\n",
            "24/24 [==============================] - 0s 5ms/step - loss: 0.2225 - accuracy: 0.9083\n",
            "Epoch 5/50\n",
            "24/24 [==============================] - 0s 4ms/step - loss: 0.1852 - accuracy: 0.9333\n",
            "Epoch 6/50\n",
            "24/24 [==============================] - 0s 4ms/step - loss: 0.1892 - accuracy: 0.9250\n",
            "Epoch 7/50\n",
            "24/24 [==============================] - 0s 6ms/step - loss: 0.1448 - accuracy: 0.9417\n",
            "Epoch 8/50\n",
            "24/24 [==============================] - 0s 4ms/step - loss: 0.0999 - accuracy: 0.9583\n",
            "Epoch 9/50\n",
            "24/24 [==============================] - 0s 4ms/step - loss: 0.1159 - accuracy: 0.9417\n",
            "Epoch 10/50\n",
            "24/24 [==============================] - 0s 5ms/step - loss: 0.1237 - accuracy: 0.9500\n",
            "Epoch 11/50\n",
            "24/24 [==============================] - 0s 4ms/step - loss: 0.1492 - accuracy: 0.9333\n",
            "Epoch 12/50\n",
            "24/24 [==============================] - 0s 4ms/step - loss: 0.1198 - accuracy: 0.9333\n",
            "Epoch 13/50\n",
            "24/24 [==============================] - 0s 5ms/step - loss: 0.2087 - accuracy: 0.9167\n",
            "Epoch 14/50\n",
            "24/24 [==============================] - 0s 6ms/step - loss: 0.1048 - accuracy: 0.9667\n",
            "Epoch 15/50\n",
            "24/24 [==============================] - 0s 5ms/step - loss: 0.0908 - accuracy: 0.9583\n",
            "Epoch 16/50\n",
            "24/24 [==============================] - 0s 6ms/step - loss: 0.2127 - accuracy: 0.9250\n",
            "Epoch 17/50\n",
            "24/24 [==============================] - 0s 6ms/step - loss: 0.1181 - accuracy: 0.9250\n",
            "Epoch 18/50\n",
            "24/24 [==============================] - 0s 4ms/step - loss: 0.0908 - accuracy: 0.9583\n",
            "Epoch 19/50\n",
            "24/24 [==============================] - 0s 5ms/step - loss: 0.1964 - accuracy: 0.9250\n",
            "Epoch 20/50\n",
            "24/24 [==============================] - 0s 4ms/step - loss: 0.1069 - accuracy: 0.9500\n",
            "Epoch 21/50\n",
            "24/24 [==============================] - 0s 4ms/step - loss: 0.1481 - accuracy: 0.9500\n",
            "Epoch 22/50\n",
            "24/24 [==============================] - 0s 4ms/step - loss: 0.2002 - accuracy: 0.9000\n",
            "Epoch 23/50\n",
            "24/24 [==============================] - 0s 4ms/step - loss: 0.1219 - accuracy: 0.9417\n",
            "Epoch 24/50\n",
            "24/24 [==============================] - 0s 5ms/step - loss: 0.0856 - accuracy: 0.9667\n",
            "Epoch 25/50\n",
            "24/24 [==============================] - 0s 5ms/step - loss: 0.0906 - accuracy: 0.9750\n",
            "Epoch 26/50\n",
            "24/24 [==============================] - 0s 5ms/step - loss: 0.0940 - accuracy: 0.9500\n",
            "Epoch 27/50\n",
            "24/24 [==============================] - 0s 6ms/step - loss: 0.1184 - accuracy: 0.9500\n",
            "Epoch 28/50\n",
            "24/24 [==============================] - 0s 6ms/step - loss: 0.1641 - accuracy: 0.9250\n",
            "Epoch 29/50\n",
            "24/24 [==============================] - 0s 5ms/step - loss: 0.1303 - accuracy: 0.9500\n",
            "Epoch 30/50\n",
            "24/24 [==============================] - 0s 6ms/step - loss: 0.1088 - accuracy: 0.9667\n",
            "Epoch 31/50\n",
            "24/24 [==============================] - 0s 6ms/step - loss: 0.1707 - accuracy: 0.9167\n",
            "Epoch 32/50\n",
            "24/24 [==============================] - 0s 5ms/step - loss: 0.0969 - accuracy: 0.9583\n",
            "Epoch 33/50\n",
            "24/24 [==============================] - 0s 5ms/step - loss: 0.1287 - accuracy: 0.9417\n",
            "Epoch 34/50\n",
            "24/24 [==============================] - 0s 6ms/step - loss: 0.0738 - accuracy: 0.9667\n",
            "Epoch 35/50\n",
            "24/24 [==============================] - 0s 6ms/step - loss: 0.0765 - accuracy: 0.9583\n",
            "Epoch 36/50\n",
            "24/24 [==============================] - 0s 5ms/step - loss: 0.0900 - accuracy: 0.9500\n",
            "Epoch 37/50\n",
            "24/24 [==============================] - 0s 6ms/step - loss: 0.1048 - accuracy: 0.9583\n",
            "Epoch 38/50\n",
            "24/24 [==============================] - 0s 5ms/step - loss: 0.0879 - accuracy: 0.9667\n",
            "Epoch 39/50\n",
            "24/24 [==============================] - 0s 4ms/step - loss: 0.0852 - accuracy: 0.9417\n",
            "Epoch 40/50\n",
            "24/24 [==============================] - 0s 6ms/step - loss: 0.1094 - accuracy: 0.9583\n",
            "Epoch 41/50\n",
            "24/24 [==============================] - 0s 5ms/step - loss: 0.1034 - accuracy: 0.9417\n",
            "Epoch 42/50\n",
            "24/24 [==============================] - 0s 4ms/step - loss: 0.0716 - accuracy: 0.9667\n",
            "Epoch 43/50\n",
            "24/24 [==============================] - 0s 4ms/step - loss: 0.0975 - accuracy: 0.9417\n",
            "Epoch 44/50\n",
            "24/24 [==============================] - 0s 4ms/step - loss: 0.1009 - accuracy: 0.9500\n",
            "Epoch 45/50\n",
            "24/24 [==============================] - 0s 5ms/step - loss: 0.0664 - accuracy: 0.9750\n",
            "Epoch 46/50\n",
            "24/24 [==============================] - 0s 4ms/step - loss: 0.1089 - accuracy: 0.9583\n",
            "Epoch 47/50\n",
            "24/24 [==============================] - 0s 4ms/step - loss: 0.0725 - accuracy: 0.9750\n",
            "Epoch 48/50\n",
            "24/24 [==============================] - 0s 4ms/step - loss: 0.0745 - accuracy: 0.9667\n",
            "Epoch 49/50\n",
            "24/24 [==============================] - 0s 5ms/step - loss: 0.0658 - accuracy: 0.9750\n",
            "Epoch 50/50\n",
            "24/24 [==============================] - 0s 4ms/step - loss: 0.0655 - accuracy: 0.9667\n"
          ]
        }
      ]
    },
    {
      "cell_type": "code",
      "source": [
        "score= model.evaluate(X_test, Y_test, verbose=0)"
      ],
      "metadata": {
        "id": "VBX_nOsYN1Nk"
      },
      "execution_count": null,
      "outputs": []
    },
    {
      "cell_type": "code",
      "source": [
        "print('Final test set accuracy:', score[1])"
      ],
      "metadata": {
        "colab": {
          "base_uri": "https://localhost:8080/"
        },
        "id": "qB0Up_eqOBXM",
        "outputId": "b686a8ca-7396-43df-d548-64aadde34fb7"
      },
      "execution_count": null,
      "outputs": [
        {
          "output_type": "stream",
          "name": "stdout",
          "text": [
            "Final test set accuracy: 0.9333333373069763\n"
          ]
        }
      ]
    },
    {
      "cell_type": "code",
      "source": [
        "plt.plot(fit_hist.history['accuracy'])\n",
        "plt.show()"
      ],
      "metadata": {
        "colab": {
          "base_uri": "https://localhost:8080/",
          "height": 265
        },
        "id": "SO-rjmIQOIhl",
        "outputId": "795463f4-2491-4be2-9f27-814a18ed8230"
      },
      "execution_count": null,
      "outputs": [
        {
          "output_type": "display_data",
          "data": {
            "text/plain": [
              "<Figure size 432x288 with 1 Axes>"
            ],
            "image/png": "[encoded data removed]"
          },
          "metadata": {
            "needs_background": "light"
          }
        }
      ]
    },
    {
      "cell_type": "code",
      "source": [
        "my_sample= np.random.randint(30)\n",
        "sample = X_test[my_sample]  #랜덤값으로 인덱싱해서 뽑아낸 샘플\n",
        "print(sample)   #한 row의 네개의 컬럼값이 나온 거지."
      ],
      "metadata": {
        "colab": {
          "base_uri": "https://localhost:8080/"
        },
        "id": "YKhF18NcOgNN",
        "outputId": "f965a965-2c93-4296-ab01-6f11ee1c08b5"
      },
      "execution_count": null,
      "outputs": [
        {
          "output_type": "stream",
          "name": "stdout",
          "text": [
            "[5.  2.3 3.3 1. ]\n"
          ]
        }
      ]
    },
    {
      "cell_type": "code",
      "source": [
        "sample= sample.reshape(-1,4)   #모델은 리스트안에 있는걸 하나씩 뽑아가는데, 4개르 한번에 뽑아가도록 해야하니까 다시 안쪽에서 리스트로 묶는 것.\n",
        "print(sample)   "
      ],
      "metadata": {
        "colab": {
          "base_uri": "https://localhost:8080/"
        },
        "id": "leBoulqmQ94V",
        "outputId": "4b4ffd07-0d70-4ea6-be16-52922a0963de"
      },
      "execution_count": null,
      "outputs": [
        {
          "output_type": "stream",
          "name": "stdout",
          "text": [
            "[[5.  2.3 3.3 1. ]]\n"
          ]
        }
      ]
    },
    {
      "cell_type": "code",
      "source": [
        "pred = model.predict(sample)  #모델한테 예측시켜봄\n",
        "print('pred is :', pred )\n",
        "print('actual is : ', Y_test[my_sample])\n",
        "print('Target:', iris.target_names[np.argmax(Y_test[my_sample])])\n",
        "print('Prediction after learning is:', iris.target_names[np.argmax(pred)])   "
      ],
      "metadata": {
        "colab": {
          "base_uri": "https://localhost:8080/"
        },
        "id": "xdaQORUrRQ_U",
        "outputId": "acafa63d-aca9-4895-b86d-153e97f74c57"
      },
      "execution_count": null,
      "outputs": [
        {
          "output_type": "stream",
          "name": "stdout",
          "text": [
            "pred is : [[2.123134e-04 9.997540e-01 3.370945e-05]]\n",
            "actual is :  [0. 1. 0.]\n",
            "Target: versicolor\n",
            "Prediction after learning is: versicolor\n"
          ]
        }
      ]
    },
    {
      "cell_type": "code",
      "source": [
        ""
      ],
      "metadata": {
        "id": "VX74g6syRpBk"
      },
      "execution_count": null,
      "outputs": []
    }
  ]
}