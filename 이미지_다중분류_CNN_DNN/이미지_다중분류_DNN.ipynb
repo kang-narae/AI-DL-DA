{
  "nbformat": 4,
  "nbformat_minor": 0,
  "metadata": {
    "colab": {
      "name": "이미지_다중분류_손글씨_DNN.ipynb",
      "provenance": [],
      "collapsed_sections": [],
      "authorship_tag": "ABX9TyN+0vIKxUKHI+pknqMb4DrU",
      "include_colab_link": true
    },
    "kernelspec": {
      "name": "python3",
      "display_name": "Python 3"
    },
    "language_info": {
      "name": "python"
    }
  },
  "cells": [
    {
      "cell_type": "markdown",
      "metadata": {
        "id": "view-in-github",
        "colab_type": "text"
      },
      "source": [
        "<a href=\"https://colab.research.google.com/github/kang-narae/AI-DL-DA/blob/main/%EB%A8%B8%EC%8B%A0%EB%9F%AC%EB%8B%9D/%EC%9D%B4%EB%AF%B8%EC%A7%80_%EB%8B%A4%EC%A4%91%EB%B6%84%EB%A5%98_%EC%86%90%EA%B8%80%EC%94%A8_DNN.ipynb\" target=\"_parent\"><img src=\"https://colab.research.google.com/assets/colab-badge.svg\" alt=\"Open In Colab\"/></a>"
      ]
    },
    {
      "cell_type": "code",
      "execution_count": null,
      "metadata": {
        "id": "vhOTwJOtXndV"
      },
      "outputs": [],
      "source": [
        "import numpy as np\n",
        "import matplotlib.pyplot as plt\n",
        "from tensorflow.keras.models import Sequential\n",
        "from tensorflow.keras.layers import Dense\n",
        "from tensorflow.keras import datasets\n",
        "from keras.utils import np_utils"
      ]
    },
    {
      "cell_type": "code",
      "source": [
        "(X_train, Y_train), (X_test, Y_test) = datasets.mnist.load_data()\n",
        "print(X_train.shape, Y_train.shape)   #학습용 6만개\n",
        "print(X_test.shape, Y_test.shape)   #검증용 만개로 애초에 잘려있음"
      ],
      "metadata": {
        "colab": {
          "base_uri": "https://localhost:8080/"
        },
        "id": "nvWuNCOvYK_5",
        "outputId": "f31aa79e-c5e5-4749-f26a-6c970efc51b1"
      },
      "execution_count": null,
      "outputs": [
        {
          "output_type": "stream",
          "name": "stdout",
          "text": [
            "Downloading data from https://storage.googleapis.com/tensorflow/tf-keras-datasets/mnist.npz\n",
            "11493376/11490434 [==============================] - 0s 0us/step\n",
            "11501568/11490434 [==============================] - 0s 0us/step\n",
            "(60000, 28, 28) (60000,)\n",
            "(10000, 28, 28) (10000,)\n"
          ]
        }
      ]
    },
    {
      "cell_type": "code",
      "source": [
        "my_sample = np.random.randint(60000)\n",
        "plt.imshow(X_train[my_sample])   #원래모노칼라임. 단색만 가짐. 0~255까지 검정 흰색 사이의 범위.  camp='gray'넣으면 원본.\n",
        "plt.show()\n",
        "print(Y_train[my_sample])\n",
        "print(X_train[my_sample])"
      ],
      "metadata": {
        "colab": {
          "base_uri": "https://localhost:8080/",
          "height": 1000
        },
        "id": "UTgtZplPYlsK",
        "outputId": "f41a29d7-2879-4b01-e5b6-9c7d6b2c9f79"
      },
      "execution_count": null,
      "outputs": [
        {
          "output_type": "display_data",
          "data": {
            "text/plain": [
              "<Figure size 432x288 with 1 Axes>"
            ],
            "image/png": "[encoded data removed]"
          },
          "metadata": {
            "needs_background": "light"
          }
        },
        {
          "output_type": "stream",
          "name": "stdout",
          "text": [
            "5\n",
            "[[  0   0   0   0   0   0   0   0   0   0   0   0   0   0   0   0   0   0\n",
            "    0   0   0   0   0   0   0   0   0   0]\n",
            " [  0   0   0   0   0   0   0   0   0   0   0   0   0   0   0   0   0   0\n",
            "    0   0   0   0   0   0   0   0   0   0]\n",
            " [  0   0   0   0   0   0   0   0   0   0   0   0   0   0   0   0   0   0\n",
            "    0   0   0   0   0   0   0   0   0   0]\n",
            " [  0   0   0   0   0   0   0   0   0   0   0   0   0   0   0   0   0   0\n",
            "    0   0   0   0   0   0   0   0   0   0]\n",
            " [  0   0   0   0   0   0   0   0   0   0   0   0   0   0   0   0   0   0\n",
            "    0   0   0   0   0   0   0   0   0   0]\n",
            " [  0   0   0   0   0   0   0   0   0   0   0   0   0   0   0   0   0   0\n",
            "    0   0   0   0   0   0   0   0   0   0]\n",
            " [  0   0   0   0   0   0   0   0   0   0   0   0   0   0   0   0   0   0\n",
            "    0   0  29  86  86  86  86   0   0   0]\n",
            " [  0   0   0   0   0   0   0   0   0   0   0   0   0   0   0   0   0 114\n",
            "  170 198 255 255 255 255 255 226 141   0]\n",
            " [  0   0   0   0   0   0   0   0   0   0   0   0   0   0  86   0 226 255\n",
            "  255 255 198 170 141  86  86  86  29   0]\n",
            " [  0   0   0   0   0   0   0   0   0   0   0   0  57 226 255 255 198 114\n",
            "   57   0   0   0   0   0   0   0   0   0]\n",
            " [  0   0   0   0   0   0   0   0   0   0   0 170 255 255 255 255   0   0\n",
            "    0   0   0   0   0   0   0   0   0   0]\n",
            " [  0   0   0   0   0   0   0   0   0   0 198 255 255  29 114 170   0   0\n",
            "    0   0   0   0   0   0   0   0   0   0]\n",
            " [  0   0   0   0   0   0   0   0   0  86 255 255  57   0   0   0   0   0\n",
            "    0   0   0   0   0   0   0   0   0   0]\n",
            " [  0   0   0   0   0   0   0   0  29 255 255  86   0   0   0   0   0   0\n",
            "    0   0   0   0   0   0   0   0   0   0]\n",
            " [  0   0   0   0   0   0   0   0 141 255 198   0   0   0   0   0   0   0\n",
            "    0   0   0   0   0   0   0   0   0   0]\n",
            " [  0   0   0   0   0   0   0   0  86 255 255 198  57   0   0   0   0   0\n",
            "    0   0   0   0   0   0   0   0   0   0]\n",
            " [  0   0   0   0   0   0   0   0   0  86 255 255 255 170  29   0   0   0\n",
            "    0   0   0   0   0   0   0   0   0   0]\n",
            " [  0   0   0   0   0   0   0   0   0   0   0 141 255 255 255  86   0   0\n",
            "    0   0   0   0   0   0   0   0   0   0]\n",
            " [  0   0   0   0   0   0   0   0   0   0   0   0   0 114 255 255   0   0\n",
            "    0   0   0   0   0   0   0   0   0   0]\n",
            " [  0   0   0   0   0   0   0 114 170   0   0   0   0  29 255 255  86   0\n",
            "    0   0   0   0   0   0   0   0   0   0]\n",
            " [  0   0   0   0   0   0   0 255 170   0   0  86 141 255 255 226   0   0\n",
            "    0   0   0   0   0   0   0   0   0   0]\n",
            " [  0   0   0   0   0   0   0 255 255 255 255 255 255 255 170   0   0   0\n",
            "    0   0   0   0   0   0   0   0   0   0]\n",
            " [  0   0   0   0   0   0   0 114 226 255 226 170  86  57   0   0   0   0\n",
            "    0   0   0   0   0   0   0   0   0   0]\n",
            " [  0   0   0   0   0   0   0   0   0   0   0   0   0   0   0   0   0   0\n",
            "    0   0   0   0   0   0   0   0   0   0]\n",
            " [  0   0   0   0   0   0   0   0   0   0   0   0   0   0   0   0   0   0\n",
            "    0   0   0   0   0   0   0   0   0   0]\n",
            " [  0   0   0   0   0   0   0   0   0   0   0   0   0   0   0   0   0   0\n",
            "    0   0   0   0   0   0   0   0   0   0]\n",
            " [  0   0   0   0   0   0   0   0   0   0   0   0   0   0   0   0   0   0\n",
            "    0   0   0   0   0   0   0   0   0   0]\n",
            " [  0   0   0   0   0   0   0   0   0   0   0   0   0   0   0   0   0   0\n",
            "    0   0   0   0   0   0   0   0   0   0]]\n"
          ]
        }
      ]
    },
    {
      "cell_type": "code",
      "source": [
        "y_train = np_utils.to_categorical(Y_train)  #이러면 원핫인코딩 됨.\n",
        "y_test= np_utils.to_categorical(Y_test)\n",
        "print(Y_train[5000])\n",
        "print(y_train[5000])"
      ],
      "metadata": {
        "colab": {
          "base_uri": "https://localhost:8080/"
        },
        "id": "QiC0nDTzZX2z",
        "outputId": "6cec1ddf-7c3f-48bb-e777-d3027481b8ef"
      },
      "execution_count": null,
      "outputs": [
        {
          "output_type": "stream",
          "name": "stdout",
          "text": [
            "7\n",
            "[0. 0. 0. 0. 0. 0. 0. 1. 0. 0.]\n"
          ]
        }
      ]
    },
    {
      "cell_type": "code",
      "source": [
        "x_train = X_train.reshape(-1, 28*28)\n",
        "x_test = X_test.reshape(-1 , 28*28)\n",
        "x_train = x_train/255    #민맥스 스케일링. \n",
        "x_test = x_test/ 255\n",
        "print(x_train.shape)"
      ],
      "metadata": {
        "colab": {
          "base_uri": "https://localhost:8080/"
        },
        "id": "XU9Vm1L1ca05",
        "outputId": "9a0567f0-d0fd-4c7f-eb6c-de456dd01b2c"
      },
      "execution_count": null,
      "outputs": [
        {
          "output_type": "stream",
          "name": "stdout",
          "text": [
            "(60000, 784)\n"
          ]
        }
      ]
    },
    {
      "cell_type": "code",
      "source": [
        "model= Sequential()\n",
        "model.add(Dense(128, input_dim= 28*28, activation='relu'))\n",
        "model.add(Dense(128, activation='relu'))\n",
        "model.add(Dense(10, activation='softmax'))"
      ],
      "metadata": {
        "id": "ai9kpPYwddd3"
      },
      "execution_count": null,
      "outputs": []
    },
    {
      "cell_type": "code",
      "source": [
        "model.compile(optimizer= 'adam', loss='categorical_crossentropy',\n",
        "              metrics=['accuracy'])\n",
        "print(model.summary())"
      ],
      "metadata": {
        "colab": {
          "base_uri": "https://localhost:8080/"
        },
        "id": "b027R_xedw-4",
        "outputId": "d53539be-d542-498c-993b-7856866f44e9"
      },
      "execution_count": null,
      "outputs": [
        {
          "output_type": "stream",
          "name": "stdout",
          "text": [
            "Model: \"sequential_1\"\n",
            "_________________________________________________________________\n",
            " Layer (type)                Output Shape              Param #   \n",
            "=================================================================\n",
            " dense_1 (Dense)             (None, 128)               100480    \n",
            "                                                                 \n",
            " dense_2 (Dense)             (None, 128)               16512     \n",
            "                                                                 \n",
            " dense_3 (Dense)             (None, 10)                1290      \n",
            "                                                                 \n",
            "=================================================================\n",
            "Total params: 118,282\n",
            "Trainable params: 118,282\n",
            "Non-trainable params: 0\n",
            "_________________________________________________________________\n",
            "None\n"
          ]
        }
      ]
    },
    {
      "cell_type": "code",
      "source": [
        "fit_hist = model.fit(x_train, y_train, batch_size= 128, epochs=15, validation_split=0.2, verbose=1)"
      ],
      "metadata": {
        "colab": {
          "base_uri": "https://localhost:8080/"
        },
        "id": "dLJuOLzReQjI",
        "outputId": "59b3f8e3-bee2-4ee4-d058-0ebbdbfdd565"
      },
      "execution_count": null,
      "outputs": [
        {
          "output_type": "stream",
          "name": "stdout",
          "text": [
            "Epoch 1/15\n",
            "375/375 [==============================] - 3s 6ms/step - loss: 0.3488 - accuracy: 0.9015 - val_loss: 0.1710 - val_accuracy: 0.9483\n",
            "Epoch 2/15\n",
            "375/375 [==============================] - 2s 5ms/step - loss: 0.1440 - accuracy: 0.9582 - val_loss: 0.1223 - val_accuracy: 0.9638\n",
            "Epoch 3/15\n",
            "375/375 [==============================] - 2s 5ms/step - loss: 0.0987 - accuracy: 0.9706 - val_loss: 0.1076 - val_accuracy: 0.9682\n",
            "Epoch 4/15\n",
            "375/375 [==============================] - 2s 5ms/step - loss: 0.0746 - accuracy: 0.9774 - val_loss: 0.0947 - val_accuracy: 0.9712\n",
            "Epoch 5/15\n",
            "375/375 [==============================] - 2s 5ms/step - loss: 0.0557 - accuracy: 0.9834 - val_loss: 0.0828 - val_accuracy: 0.9755\n",
            "Epoch 6/15\n",
            "375/375 [==============================] - 2s 5ms/step - loss: 0.0457 - accuracy: 0.9862 - val_loss: 0.0887 - val_accuracy: 0.9736\n",
            "Epoch 7/15\n",
            "375/375 [==============================] - 2s 5ms/step - loss: 0.0345 - accuracy: 0.9897 - val_loss: 0.0846 - val_accuracy: 0.9757\n",
            "Epoch 8/15\n",
            "375/375 [==============================] - 2s 5ms/step - loss: 0.0289 - accuracy: 0.9917 - val_loss: 0.0922 - val_accuracy: 0.9738\n",
            "Epoch 9/15\n",
            "375/375 [==============================] - 2s 5ms/step - loss: 0.0227 - accuracy: 0.9934 - val_loss: 0.0877 - val_accuracy: 0.9763\n",
            "Epoch 10/15\n",
            "375/375 [==============================] - 2s 5ms/step - loss: 0.0198 - accuracy: 0.9942 - val_loss: 0.0956 - val_accuracy: 0.9749\n",
            "Epoch 11/15\n",
            "375/375 [==============================] - 2s 5ms/step - loss: 0.0161 - accuracy: 0.9955 - val_loss: 0.0985 - val_accuracy: 0.9746\n",
            "Epoch 12/15\n",
            "375/375 [==============================] - 2s 5ms/step - loss: 0.0147 - accuracy: 0.9954 - val_loss: 0.1036 - val_accuracy: 0.9748\n",
            "Epoch 13/15\n",
            "375/375 [==============================] - 2s 5ms/step - loss: 0.0116 - accuracy: 0.9965 - val_loss: 0.1015 - val_accuracy: 0.9764\n",
            "Epoch 14/15\n",
            "375/375 [==============================] - 2s 5ms/step - loss: 0.0127 - accuracy: 0.9958 - val_loss: 0.1072 - val_accuracy: 0.9746\n",
            "Epoch 15/15\n",
            "375/375 [==============================] - 2s 5ms/step - loss: 0.0118 - accuracy: 0.9960 - val_loss: 0.1056 - val_accuracy: 0.9776\n"
          ]
        }
      ]
    },
    {
      "cell_type": "code",
      "source": [
        "# 검증해보자\n",
        "\n",
        "score= model.evaluate(x_test, y_test, verbose=0)\n",
        "print('Final test set accuracy:', score[1])"
      ],
      "metadata": {
        "colab": {
          "base_uri": "https://localhost:8080/"
        },
        "id": "J3h1XVYeexN4",
        "outputId": "65ae625e-557a-4918-ffd7-a144e04f6d47"
      },
      "execution_count": null,
      "outputs": [
        {
          "output_type": "stream",
          "name": "stdout",
          "text": [
            "Final test set accuracy: 0.9763000011444092\n"
          ]
        }
      ]
    },
    {
      "cell_type": "code",
      "source": [
        "plt.plot(fit_hist.history['accuracy'])\n",
        "plt.plot(fit_hist.history['val_accuracy'])\n",
        "plt.show()"
      ],
      "metadata": {
        "colab": {
          "base_uri": "https://localhost:8080/",
          "height": 267
        },
        "id": "0z3H9qxyfoy3",
        "outputId": "47da8761-cc7e-461c-f6d4-aee147cbb12a"
      },
      "execution_count": null,
      "outputs": [
        {
          "output_type": "display_data",
          "data": {
            "text/plain": [
              "<Figure size 432x288 with 1 Axes>"
            ],
            "image/png": "[encoded data removed]"
          },
          "metadata": {
            "needs_background": "light"
          }
        }
      ]
    },
    {
      "cell_type": "code",
      "source": [
        "my_sample=np.random.randint(10000)\n",
        "plt.imshow(X_test[my_sample], cmap='gray')  #입력값\n",
        "print(Y_test[my_sample])    #정답\n",
        "pred= model.predict(x_test[my_sample].reshape(-1, 28*28)) #입력값으로 에측한 값\n",
        "print(pred)\n",
        "print(np.argmax(pred))"
      ],
      "metadata": {
        "colab": {
          "base_uri": "https://localhost:8080/",
          "height": 338
        },
        "id": "ttzOiqlaf14n",
        "outputId": "5076f223-3183-4bfc-be24-b5ab5b6436bf"
      },
      "execution_count": null,
      "outputs": [
        {
          "output_type": "stream",
          "name": "stdout",
          "text": [
            "7\n",
            "[[4.6366674e-10 4.1498714e-11 1.3138184e-07 2.7947599e-05 1.0613732e-18\n",
            "  9.9626823e-14 2.3146008e-20 9.9997199e-01 1.9620176e-12 4.0823071e-08]]\n",
            "7\n"
          ]
        },
        {
          "output_type": "display_data",
          "data": {
            "text/plain": [
              "<Figure size 432x288 with 1 Axes>"
            ],
            "image/png": "[encoded data removed]"
          },
          "metadata": {
            "needs_background": "light"
          }
        }
      ]
    },
    {
      "cell_type": "code",
      "source": [
        ""
      ],
      "metadata": {
        "id": "Tr-HzqVRgmyX"
      },
      "execution_count": null,
      "outputs": []
    }
  ]
}