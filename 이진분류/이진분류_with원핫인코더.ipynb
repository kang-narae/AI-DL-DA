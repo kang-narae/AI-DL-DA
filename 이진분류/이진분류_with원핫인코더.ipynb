{
  "nbformat": 4,
  "nbformat_minor": 0,
  "metadata": {
    "colab": {
      "name": "titanic_생존율예측_원핫인코더.ipynb",
      "provenance": [],
      "collapsed_sections": [],
      "authorship_tag": "ABX9TyO5i7SsDga03GiskBQbPTmA",
      "include_colab_link": true
    },
    "kernelspec": {
      "name": "python3",
      "display_name": "Python 3"
    },
    "language_info": {
      "name": "python"
    }
  },
  "cells": [
    {
      "cell_type": "markdown",
      "metadata": {
        "id": "view-in-github",
        "colab_type": "text"
      },
      "source": [
        "<a href=\"https://colab.research.google.com/github/kang-narae/AI-DL-DA/blob/main/%EB%A8%B8%EC%8B%A0%EB%9F%AC%EB%8B%9D/titanic_%EC%83%9D%EC%A1%B4%EC%9C%A8%EC%98%88%EC%B8%A1_%EC%9B%90%ED%95%AB%EC%9D%B8%EC%BD%94%EB%8D%94.ipynb\" target=\"_parent\"><img src=\"https://colab.research.google.com/assets/colab-badge.svg\" alt=\"Open In Colab\"/></a>"
      ]
    },
    {
      "cell_type": "markdown",
      "source": [
        "# 원핫인코더 방식으로 titanic 생존율 예측하기"
      ],
      "metadata": {
        "id": "C5YWQcQhdL2R"
      }
    },
    {
      "cell_type": "code",
      "execution_count": null,
      "metadata": {
        "id": "miJuY9jaoH6d"
      },
      "outputs": [],
      "source": [
        "from tensorflow.keras.models import Sequential\n",
        "from tensorflow.keras.layers import Dense, Dropout\n",
        "import numpy as np\n",
        "import matplotlib.pyplot as plt\n",
        "import pandas as pd\n",
        "import seaborn as sns"
      ]
    },
    {
      "cell_type": "markdown",
      "source": [
        "# 우선 데이터셋 불러옴"
      ],
      "metadata": {
        "id": "Etj0MkT7dTki"
      }
    },
    {
      "cell_type": "code",
      "source": [
        "raw_data= sns.load_dataset('titanic')\n",
        "print(raw_data.head())"
      ],
      "metadata": {
        "colab": {
          "base_uri": "https://localhost:8080/"
        },
        "id": "nfVXicqBo5-a",
        "outputId": "112d3256-0486-4933-94f1-08d8cee9571e"
      },
      "execution_count": null,
      "outputs": [
        {
          "output_type": "stream",
          "name": "stdout",
          "text": [
            "   survived  pclass     sex   age  sibsp  parch     fare embarked  class  \\\n",
            "0         0       3    male  22.0      1      0   7.2500        S  Third   \n",
            "1         1       1  female  38.0      1      0  71.2833        C  First   \n",
            "2         1       3  female  26.0      0      0   7.9250        S  Third   \n",
            "3         1       1  female  35.0      1      0  53.1000        S  First   \n",
            "4         0       3    male  35.0      0      0   8.0500        S  Third   \n",
            "\n",
            "     who  adult_male deck  embark_town alive  alone  \n",
            "0    man        True  NaN  Southampton    no  False  \n",
            "1  woman       False    C    Cherbourg   yes  False  \n",
            "2  woman       False  NaN  Southampton   yes   True  \n",
            "3  woman       False    C  Southampton   yes  False  \n",
            "4    man        True  NaN  Southampton    no   True  \n"
          ]
        }
      ]
    },
    {
      "cell_type": "code",
      "source": [
        "print(raw_data.isnull().sum())"
      ],
      "metadata": {
        "colab": {
          "base_uri": "https://localhost:8080/"
        },
        "id": "YWsj6tFvpALj",
        "outputId": "a46f70a8-1db9-4744-cefd-bf68cdb1ab69"
      },
      "execution_count": null,
      "outputs": [
        {
          "output_type": "stream",
          "name": "stdout",
          "text": [
            "survived         0\n",
            "pclass           0\n",
            "sex              0\n",
            "age            177\n",
            "sibsp            0\n",
            "parch            0\n",
            "fare             0\n",
            "embarked         2\n",
            "class            0\n",
            "who              0\n",
            "adult_male       0\n",
            "deck           688\n",
            "embark_town      2\n",
            "alive            0\n",
            "alone            0\n",
            "dtype: int64\n"
          ]
        }
      ]
    },
    {
      "cell_type": "markdown",
      "source": [
        "#결측값 있는 column : 삭제 혹은 대체"
      ],
      "metadata": {
        "id": "tskraw5cdZ9q"
      }
    },
    {
      "cell_type": "code",
      "source": [
        "clean_data= raw_data.dropna(axis=1, thresh=500)   #컬럼기준으로 넌값 500개이상인거 지우겠다\n",
        "print(clean_data.columns)"
      ],
      "metadata": {
        "colab": {
          "base_uri": "https://localhost:8080/"
        },
        "id": "mW3LuspJpRvT",
        "outputId": "3932da68-b11e-4fbd-a32b-f3a6f0c62b79"
      },
      "execution_count": null,
      "outputs": [
        {
          "output_type": "stream",
          "name": "stdout",
          "text": [
            "Index(['survived', 'pclass', 'sex', 'age', 'sibsp', 'parch', 'fare',\n",
            "       'embarked', 'class', 'who', 'adult_male', 'embark_town', 'alive',\n",
            "       'alone'],\n",
            "      dtype='object')\n"
          ]
        }
      ]
    },
    {
      "cell_type": "code",
      "source": [
        "mean_age= clean_data['age'].mean()\n",
        "print(mean_age)"
      ],
      "metadata": {
        "colab": {
          "base_uri": "https://localhost:8080/"
        },
        "id": "VNmw1c8fpeR7",
        "outputId": "4f57618d-28da-421a-dc05-88424846eae5"
      },
      "execution_count": null,
      "outputs": [
        {
          "output_type": "stream",
          "name": "stdout",
          "text": [
            "29.69911764705882\n"
          ]
        }
      ]
    },
    {
      "cell_type": "code",
      "source": [
        "clean_data['age'].fillna(mean_age, inplace=True)\n",
        "print(clean_data.head())"
      ],
      "metadata": {
        "colab": {
          "base_uri": "https://localhost:8080/"
        },
        "id": "UJeXCKqapnhz",
        "outputId": "348ab3b4-bcd9-4741-b562-28553388083e"
      },
      "execution_count": null,
      "outputs": [
        {
          "output_type": "stream",
          "name": "stdout",
          "text": [
            "   survived  pclass     sex   age  sibsp  parch     fare embarked  class  \\\n",
            "0         0       3    male  22.0      1      0   7.2500        S  Third   \n",
            "1         1       1  female  38.0      1      0  71.2833        C  First   \n",
            "2         1       3  female  26.0      0      0   7.9250        S  Third   \n",
            "3         1       1  female  35.0      1      0  53.1000        S  First   \n",
            "4         0       3    male  35.0      0      0   8.0500        S  Third   \n",
            "\n",
            "     who  adult_male  embark_town alive  alone  \n",
            "0    man        True  Southampton    no  False  \n",
            "1  woman       False    Cherbourg   yes  False  \n",
            "2  woman       False  Southampton   yes   True  \n",
            "3  woman       False  Southampton   yes  False  \n",
            "4    man        True  Southampton    no   True  \n"
          ]
        },
        {
          "output_type": "stream",
          "name": "stderr",
          "text": [
            "/usr/local/lib/python3.7/dist-packages/pandas/core/generic.py:6392: SettingWithCopyWarning: \n",
            "A value is trying to be set on a copy of a slice from a DataFrame\n",
            "\n",
            "See the caveats in the documentation: https://pandas.pydata.org/pandas-docs/stable/user_guide/indexing.html#returning-a-view-versus-a-copy\n",
            "  return self._update_inplace(result)\n"
          ]
        }
      ]
    },
    {
      "cell_type": "markdown",
      "source": [
        "# 중복컬럼 삭제"
      ],
      "metadata": {
        "id": "K8kv54pVdiaX"
      }
    },
    {
      "cell_type": "code",
      "source": [
        "clean_data.drop(['embark_town', 'alive'], axis=1, inplace=True)"
      ],
      "metadata": {
        "colab": {
          "base_uri": "https://localhost:8080/"
        },
        "id": "GCWy4YP_p4uC",
        "outputId": "306194b6-8196-4b8e-8146-a41a159c16d2"
      },
      "execution_count": null,
      "outputs": [
        {
          "output_type": "stream",
          "name": "stderr",
          "text": [
            "/usr/local/lib/python3.7/dist-packages/pandas/core/frame.py:4913: SettingWithCopyWarning: \n",
            "A value is trying to be set on a copy of a slice from a DataFrame\n",
            "\n",
            "See the caveats in the documentation: https://pandas.pydata.org/pandas-docs/stable/user_guide/indexing.html#returning-a-view-versus-a-copy\n",
            "  errors=errors,\n"
          ]
        }
      ]
    },
    {
      "cell_type": "code",
      "source": [
        "print(clean_data.head())"
      ],
      "metadata": {
        "colab": {
          "base_uri": "https://localhost:8080/"
        },
        "id": "KfHHdNG6qNyi",
        "outputId": "d7179b14-38d0-4b89-f918-81f088dd344e"
      },
      "execution_count": null,
      "outputs": [
        {
          "output_type": "stream",
          "name": "stdout",
          "text": [
            "   survived  pclass     sex   age  sibsp  parch     fare embarked  class  \\\n",
            "0         0       3    male  22.0      1      0   7.2500        S  Third   \n",
            "1         1       1  female  38.0      1      0  71.2833        C  First   \n",
            "2         1       3  female  26.0      0      0   7.9250        S  Third   \n",
            "3         1       1  female  35.0      1      0  53.1000        S  First   \n",
            "4         0       3    male  35.0      0      0   8.0500        S  Third   \n",
            "\n",
            "     who  adult_male  alone  \n",
            "0    man        True  False  \n",
            "1  woman       False  False  \n",
            "2  woman       False   True  \n",
            "3  woman       False  False  \n",
            "4    man        True   True  \n"
          ]
        }
      ]
    },
    {
      "cell_type": "code",
      "source": [
        "clean_data['embarked'].fillna(\n",
        "    method='ffill', inplace=True\n",
        ")\n",
        "print(clean_data.isnull().sum())"
      ],
      "metadata": {
        "colab": {
          "base_uri": "https://localhost:8080/"
        },
        "id": "thj5GdMHqT76",
        "outputId": "809a8fe3-9dce-4d21-8fe6-a1aaccbbe600"
      },
      "execution_count": null,
      "outputs": [
        {
          "output_type": "stream",
          "name": "stdout",
          "text": [
            "survived      0\n",
            "pclass        0\n",
            "sex           0\n",
            "age           0\n",
            "sibsp         0\n",
            "parch         0\n",
            "fare          0\n",
            "embarked      0\n",
            "class         0\n",
            "who           0\n",
            "adult_male    0\n",
            "alone         0\n",
            "dtype: int64\n"
          ]
        },
        {
          "output_type": "stream",
          "name": "stderr",
          "text": [
            "/usr/local/lib/python3.7/dist-packages/pandas/core/generic.py:6392: SettingWithCopyWarning: \n",
            "A value is trying to be set on a copy of a slice from a DataFrame\n",
            "\n",
            "See the caveats in the documentation: https://pandas.pydata.org/pandas-docs/stable/user_guide/indexing.html#returning-a-view-versus-a-copy\n",
            "  return self._update_inplace(result)\n"
          ]
        }
      ]
    },
    {
      "cell_type": "code",
      "source": [
        "print(clean_data.info())"
      ],
      "metadata": {
        "colab": {
          "base_uri": "https://localhost:8080/"
        },
        "id": "olG3M8pKPmA4",
        "outputId": "510fb5e5-f348-4998-fae0-5c12a9492ffd"
      },
      "execution_count": null,
      "outputs": [
        {
          "output_type": "stream",
          "name": "stdout",
          "text": [
            "<class 'pandas.core.frame.DataFrame'>\n",
            "RangeIndex: 891 entries, 0 to 890\n",
            "Data columns (total 12 columns):\n",
            " #   Column      Non-Null Count  Dtype   \n",
            "---  ------      --------------  -----   \n",
            " 0   survived    891 non-null    int64   \n",
            " 1   pclass      891 non-null    int64   \n",
            " 2   sex         891 non-null    object  \n",
            " 3   age         891 non-null    float64 \n",
            " 4   sibsp       891 non-null    int64   \n",
            " 5   parch       891 non-null    int64   \n",
            " 6   fare        891 non-null    float64 \n",
            " 7   embarked    891 non-null    object  \n",
            " 8   class       891 non-null    category\n",
            " 9   who         891 non-null    object  \n",
            " 10  adult_male  891 non-null    bool    \n",
            " 11  alone       891 non-null    bool    \n",
            "dtypes: bool(2), category(1), float64(2), int64(4), object(3)\n",
            "memory usage: 65.5+ KB\n",
            "None\n"
          ]
        }
      ]
    },
    {
      "cell_type": "markdown",
      "source": [
        "#요인값(독립변수)과 타겟값(종속변수,정답) 분리.\n",
        "#요인값:traing_data / 타겟값: target"
      ],
      "metadata": {
        "id": "oqOCjh-ddqpI"
      }
    },
    {
      "cell_type": "code",
      "source": [
        "label = list(clean_data.columns)\n",
        "keep= label.pop(0)  #0번껄 빼옴\n",
        "target = clean_data[[keep]]   #생존값 즉 결과 정답값. 타겟값.\n",
        "training_data = clean_data[label]  #다른 요인값들\n",
        "print(training_data.head())\n",
        "print(target.head())\n",
        "\n"
      ],
      "metadata": {
        "colab": {
          "base_uri": "https://localhost:8080/"
        },
        "id": "5YyRhx71qrYb",
        "outputId": "8345f1e4-765f-42bc-dc5b-b6b2d5c8a312"
      },
      "execution_count": null,
      "outputs": [
        {
          "output_type": "stream",
          "name": "stdout",
          "text": [
            "   pclass     sex   age  sibsp  parch     fare embarked  class    who  \\\n",
            "0       3    male  22.0      1      0   7.2500        S  Third    man   \n",
            "1       1  female  38.0      1      0  71.2833        C  First  woman   \n",
            "2       3  female  26.0      0      0   7.9250        S  Third  woman   \n",
            "3       1  female  35.0      1      0  53.1000        S  First  woman   \n",
            "4       3    male  35.0      0      0   8.0500        S  Third    man   \n",
            "\n",
            "   adult_male  alone  \n",
            "0        True  False  \n",
            "1       False  False  \n",
            "2       False   True  \n",
            "3       False  False  \n",
            "4        True   True  \n",
            "   survived\n",
            "0         0\n",
            "1         1\n",
            "2         1\n",
            "3         1\n",
            "4         0\n"
          ]
        }
      ]
    },
    {
      "cell_type": "markdown",
      "source": [
        "# 원핫인코더로 못 바꾸는 애들은 value_data로"
      ],
      "metadata": {
        "id": "TA4hI8jFe2Ag"
      }
    },
    {
      "cell_type": "code",
      "source": [
        "value_data= training_data[['age', 'fare']]\n",
        "print(value_data.head())"
      ],
      "metadata": {
        "colab": {
          "base_uri": "https://localhost:8080/"
        },
        "id": "h3dfCCPEq9PK",
        "outputId": "8fd0f1d9-1b7a-4077-dba8-ebb14a64d140"
      },
      "execution_count": null,
      "outputs": [
        {
          "output_type": "stream",
          "name": "stdout",
          "text": [
            "    age     fare\n",
            "0  22.0   7.2500\n",
            "1  38.0  71.2833\n",
            "2  26.0   7.9250\n",
            "3  35.0  53.1000\n",
            "4  35.0   8.0500\n"
          ]
        }
      ]
    },
    {
      "cell_type": "markdown",
      "source": [
        "# value_data 0~1 사이로 스케일링"
      ],
      "metadata": {
        "id": "VczhpnHTe815"
      }
    },
    {
      "cell_type": "code",
      "source": [
        "from sklearn.preprocessing import StandardScaler\n",
        "scaler= StandardScaler()\n",
        "scaled_data = scaler.fit_transform(value_data)\n",
        "value_data = pd.DataFrame(scaled_data, columns=value_data.columns)\n",
        "print(value_data.describe())"
      ],
      "metadata": {
        "colab": {
          "base_uri": "https://localhost:8080/"
        },
        "id": "W5ePlqaVr57q",
        "outputId": "869cab91-3af3-4c8c-9db3-12d40aaeb4d4"
      },
      "execution_count": null,
      "outputs": [
        {
          "output_type": "stream",
          "name": "stdout",
          "text": [
            "                age          fare\n",
            "count  8.910000e+02  8.910000e+02\n",
            "mean   2.562796e-16 -4.373606e-17\n",
            "std    1.000562e+00  1.000562e+00\n",
            "min   -2.253155e+00 -6.484217e-01\n",
            "25%   -5.924806e-01 -4.891482e-01\n",
            "50%    0.000000e+00 -3.573909e-01\n",
            "75%    4.079260e-01 -2.424635e-02\n",
            "max    3.870872e+00  9.667167e+00\n"
          ]
        }
      ]
    },
    {
      "cell_type": "code",
      "source": [
        "training_data.info()"
      ],
      "metadata": {
        "colab": {
          "base_uri": "https://localhost:8080/"
        },
        "id": "doGqFTJnsfvR",
        "outputId": "14b3abb9-ad88-4e44-d539-50768d023010"
      },
      "execution_count": null,
      "outputs": [
        {
          "output_type": "stream",
          "name": "stdout",
          "text": [
            "<class 'pandas.core.frame.DataFrame'>\n",
            "RangeIndex: 891 entries, 0 to 890\n",
            "Data columns (total 11 columns):\n",
            " #   Column      Non-Null Count  Dtype   \n",
            "---  ------      --------------  -----   \n",
            " 0   pclass      891 non-null    int64   \n",
            " 1   sex         891 non-null    object  \n",
            " 2   age         891 non-null    float64 \n",
            " 3   sibsp       891 non-null    int64   \n",
            " 4   parch       891 non-null    int64   \n",
            " 5   fare        891 non-null    float64 \n",
            " 6   embarked    891 non-null    object  \n",
            " 7   class       891 non-null    category\n",
            " 8   who         891 non-null    object  \n",
            " 9   adult_male  891 non-null    bool    \n",
            " 10  alone       891 non-null    bool    \n",
            "dtypes: bool(2), category(1), float64(2), int64(3), object(3)\n",
            "memory usage: 58.6+ KB\n"
          ]
        }
      ]
    },
    {
      "cell_type": "markdown",
      "source": [
        "# training_data에서 value값 컬럼들 뺌"
      ],
      "metadata": {
        "id": "S1hziUXKfZdC"
      }
    },
    {
      "cell_type": "code",
      "source": [
        "training_data.drop(['age','fare'], axis=1, inplace=True)"
      ],
      "metadata": {
        "colab": {
          "base_uri": "https://localhost:8080/"
        },
        "id": "o0fYoqKVuMNy",
        "outputId": "af0d1211-6e45-4c41-ff2d-f355edb0186e"
      },
      "execution_count": null,
      "outputs": [
        {
          "output_type": "stream",
          "name": "stderr",
          "text": [
            "/usr/local/lib/python3.7/dist-packages/pandas/core/frame.py:4913: SettingWithCopyWarning: \n",
            "A value is trying to be set on a copy of a slice from a DataFrame\n",
            "\n",
            "See the caveats in the documentation: https://pandas.pydata.org/pandas-docs/stable/user_guide/indexing.html#returning-a-view-versus-a-copy\n",
            "  errors=errors,\n"
          ]
        }
      ]
    },
    {
      "cell_type": "markdown",
      "source": [
        "# pd.get_dummies함수 이용하여 training_data를 원핫 데이터 객체로 "
      ],
      "metadata": {
        "id": "W42ORs-8ffAe"
      }
    },
    {
      "cell_type": "code",
      "source": [
        "onehot_data= pd.get_dummies(training_data, columns= training_data.columns)   #디폴트로는 int타입은 안해주니까 columns에 전체 컬럼 넣는다고 대입함.\n",
        "               #training_data를 get_dummies함수로 원핫데이터로 바꿈.\n",
        "print(onehot_data.head())"
      ],
      "metadata": {
        "colab": {
          "base_uri": "https://localhost:8080/"
        },
        "id": "Yg6rae7TuflS",
        "outputId": "0cd7c294-2f67-4fb7-c5e8-c9de698c1c9a"
      },
      "execution_count": null,
      "outputs": [
        {
          "output_type": "stream",
          "name": "stdout",
          "text": [
            "   pclass_1  pclass_2  pclass_3  sex_female  sex_male  sibsp_0  sibsp_1  \\\n",
            "0         0         0         1           0         1        0        1   \n",
            "1         1         0         0           1         0        0        1   \n",
            "2         0         0         1           1         0        1        0   \n",
            "3         1         0         0           1         0        0        1   \n",
            "4         0         0         1           0         1        1        0   \n",
            "\n",
            "   sibsp_2  sibsp_3  sibsp_4  ...  class_First  class_Second  class_Third  \\\n",
            "0        0        0        0  ...            0             0            1   \n",
            "1        0        0        0  ...            1             0            0   \n",
            "2        0        0        0  ...            0             0            1   \n",
            "3        0        0        0  ...            1             0            0   \n",
            "4        0        0        0  ...            0             0            1   \n",
            "\n",
            "   who_child  who_man  who_woman  adult_male_False  adult_male_True  \\\n",
            "0          0        1          0                 0                1   \n",
            "1          0        0          1                 1                0   \n",
            "2          0        0          1                 1                0   \n",
            "3          0        0          1                 1                0   \n",
            "4          0        1          0                 0                1   \n",
            "\n",
            "   alone_False  alone_True  \n",
            "0            1           0  \n",
            "1            1           0  \n",
            "2            0           1  \n",
            "3            1           0  \n",
            "4            0           1  \n",
            "\n",
            "[5 rows x 32 columns]\n"
          ]
        }
      ]
    },
    {
      "cell_type": "code",
      "source": [
        "print(onehot_data.info())\n",
        "print(training_data.shape)\n",
        "print(target.shape)"
      ],
      "metadata": {
        "colab": {
          "base_uri": "https://localhost:8080/"
        },
        "id": "MPIq03OPul56",
        "outputId": "32fe8e54-a77f-453e-a0c8-3a39f830e848"
      },
      "execution_count": null,
      "outputs": [
        {
          "output_type": "stream",
          "name": "stdout",
          "text": [
            "<class 'pandas.core.frame.DataFrame'>\n",
            "RangeIndex: 891 entries, 0 to 890\n",
            "Data columns (total 32 columns):\n",
            " #   Column            Non-Null Count  Dtype\n",
            "---  ------            --------------  -----\n",
            " 0   pclass_1          891 non-null    uint8\n",
            " 1   pclass_2          891 non-null    uint8\n",
            " 2   pclass_3          891 non-null    uint8\n",
            " 3   sex_female        891 non-null    uint8\n",
            " 4   sex_male          891 non-null    uint8\n",
            " 5   sibsp_0           891 non-null    uint8\n",
            " 6   sibsp_1           891 non-null    uint8\n",
            " 7   sibsp_2           891 non-null    uint8\n",
            " 8   sibsp_3           891 non-null    uint8\n",
            " 9   sibsp_4           891 non-null    uint8\n",
            " 10  sibsp_5           891 non-null    uint8\n",
            " 11  sibsp_8           891 non-null    uint8\n",
            " 12  parch_0           891 non-null    uint8\n",
            " 13  parch_1           891 non-null    uint8\n",
            " 14  parch_2           891 non-null    uint8\n",
            " 15  parch_3           891 non-null    uint8\n",
            " 16  parch_4           891 non-null    uint8\n",
            " 17  parch_5           891 non-null    uint8\n",
            " 18  parch_6           891 non-null    uint8\n",
            " 19  embarked_C        891 non-null    uint8\n",
            " 20  embarked_Q        891 non-null    uint8\n",
            " 21  embarked_S        891 non-null    uint8\n",
            " 22  class_First       891 non-null    uint8\n",
            " 23  class_Second      891 non-null    uint8\n",
            " 24  class_Third       891 non-null    uint8\n",
            " 25  who_child         891 non-null    uint8\n",
            " 26  who_man           891 non-null    uint8\n",
            " 27  who_woman         891 non-null    uint8\n",
            " 28  adult_male_False  891 non-null    uint8\n",
            " 29  adult_male_True   891 non-null    uint8\n",
            " 30  alone_False       891 non-null    uint8\n",
            " 31  alone_True        891 non-null    uint8\n",
            "dtypes: uint8(32)\n",
            "memory usage: 28.0 KB\n",
            "None\n",
            "(891, 34)\n",
            "(891, 1)\n"
          ]
        }
      ]
    },
    {
      "cell_type": "markdown",
      "source": [
        "# 원핫데이터와 value데이터 합침"
      ],
      "metadata": {
        "id": "WHPAWrIZft6l"
      }
    },
    {
      "cell_type": "code",
      "source": [
        "training_data= pd.concat((onehot_data, value_data), axis=1)   #원핫데이터랑, 원핫데이터로 안바꿔진 valuedata 합친 걸 training_data로 받음\n",
        "\n",
        "print(training_data.info())\n",
        "print(training_data.shape)\n",
        "print(target.shape)"
      ],
      "metadata": {
        "id": "NDnqAb9qgJjm"
      },
      "execution_count": null,
      "outputs": []
    },
    {
      "cell_type": "markdown",
      "source": [
        "# training_data 쪼갠다.\n",
        "# 입력_ training/ 입력_ test / 결과_training / 결과_test용 "
      ],
      "metadata": {
        "id": "p1AduOV7gQCh"
      }
    },
    {
      "cell_type": "code",
      "source": [
        "from sklearn.model_selection import train_test_split\n",
        "X_train, X_test, Y_train, Y_test = train_test_split(\n",
        "    training_data, target, test_size=0.2\n",
        ")\n",
        "print(X_train.shape, Y_train.shape)\n",
        "print(X_test.shape, Y_test.shape)"
      ],
      "metadata": {
        "colab": {
          "base_uri": "https://localhost:8080/"
        },
        "id": "sebFFFo6yKRA",
        "outputId": "b4da5eef-adbd-46ea-b960-be54834e5abc"
      },
      "execution_count": null,
      "outputs": [
        {
          "output_type": "stream",
          "name": "stdout",
          "text": [
            "(712, 34) (712, 1)\n",
            "(179, 34) (179, 1)\n"
          ]
        }
      ]
    },
    {
      "cell_type": "markdown",
      "source": [
        "# 모델 만들자"
      ],
      "metadata": {
        "id": "beaod2sHghOJ"
      }
    },
    {
      "cell_type": "code",
      "source": [
        "from tensorflow.keras.models import Sequential\n",
        "from tensorflow.keras.layers import Dense, Dropout"
      ],
      "metadata": {
        "id": "FpFfwWqlzAaH"
      },
      "execution_count": null,
      "outputs": []
    },
    {
      "cell_type": "markdown",
      "source": [
        "### 컬럼 34개니까 input_dim = 34\n",
        "### 이진분류니까 마지막은 sigmoid"
      ],
      "metadata": {
        "id": "hCVqnCQ8g1d2"
      }
    },
    {
      "cell_type": "code",
      "source": [
        "\n",
        "model = Sequential()\n",
        "model.add(Dense(128, input_dim = 34, activation = 'relu'))\n",
        "model.add(Dropout(0.02))\n",
        "model.add(Dense(256, activation = 'relu'))\n",
        "model.add(Dropout(0.02))\n",
        "model.add(Dense(512, activation = 'relu'))\n",
        "model.add(Dropout(0.02))\n",
        "model.add(Dense(128, activation = 'relu'))\n",
        "model.add(Dropout(0.02))\n",
        "model.add(Dense(64, activation = 'relu'))\n",
        "model.add(Dropout(0.02))\n",
        "model.add(Dense(32, activation = 'relu'))\n",
        "model.add(Dropout(0.02))\n",
        "model.add(Dense(1, activation = 'sigmoid'))\n",
        "model.summary()"
      ],
      "metadata": {
        "colab": {
          "base_uri": "https://localhost:8080/"
        },
        "id": "7-WpZOlvzQu4",
        "outputId": "6a665be3-9e2b-46aa-954d-687a2bd0161d"
      },
      "execution_count": null,
      "outputs": [
        {
          "output_type": "stream",
          "name": "stdout",
          "text": [
            "Model: \"sequential_3\"\n",
            "_________________________________________________________________\n",
            " Layer (type)                Output Shape              Param #   \n",
            "=================================================================\n",
            " dense_3 (Dense)             (None, 128)               4480      \n",
            "                                                                 \n",
            " dropout (Dropout)           (None, 128)               0         \n",
            "                                                                 \n",
            " dense_4 (Dense)             (None, 256)               33024     \n",
            "                                                                 \n",
            " dropout_1 (Dropout)         (None, 256)               0         \n",
            "                                                                 \n",
            " dense_5 (Dense)             (None, 512)               131584    \n",
            "                                                                 \n",
            " dropout_2 (Dropout)         (None, 512)               0         \n",
            "                                                                 \n",
            " dense_6 (Dense)             (None, 128)               65664     \n",
            "                                                                 \n",
            " dropout_3 (Dropout)         (None, 128)               0         \n",
            "                                                                 \n",
            " dense_7 (Dense)             (None, 64)                8256      \n",
            "                                                                 \n",
            " dropout_4 (Dropout)         (None, 64)                0         \n",
            "                                                                 \n",
            " dense_8 (Dense)             (None, 32)                2080      \n",
            "                                                                 \n",
            " dropout_5 (Dropout)         (None, 32)                0         \n",
            "                                                                 \n",
            " dense_9 (Dense)             (None, 1)                 33        \n",
            "                                                                 \n",
            "=================================================================\n",
            "Total params: 245,121\n",
            "Trainable params: 245,121\n",
            "Non-trainable params: 0\n",
            "_________________________________________________________________\n"
          ]
        }
      ]
    },
    {
      "cell_type": "markdown",
      "source": [
        "# 모델 학습시키자\n",
        "### X_train 데이터와 Y_train 데이터 사용해서"
      ],
      "metadata": {
        "id": "L_Aju3jahfpD"
      }
    },
    {
      "cell_type": "code",
      "source": [
        "model.compile(loss='mse', optimizer = 'adam',         #모델 컴파일?? 무슨뜻이지??\n",
        "              metrics=['binary_accuracy'])\n",
        "fit_hist = model.fit(\n",
        "    X_train, Y_train, batch_size=50, epochs=30,\n",
        "    validation_split=0.2, verbose=1\n",
        ")"
      ],
      "metadata": {
        "colab": {
          "base_uri": "https://localhost:8080/"
        },
        "id": "iXgSqJJp492A",
        "outputId": "df4d19bd-d0d6-47a8-f05a-2e44113c38be"
      },
      "execution_count": null,
      "outputs": [
        {
          "output_type": "stream",
          "name": "stdout",
          "text": [
            "Epoch 1/30\n",
            "12/12 [==============================] - 2s 30ms/step - loss: 0.1917 - binary_accuracy: 0.7329 - val_loss: 0.1257 - val_binary_accuracy: 0.8322\n",
            "Epoch 2/30\n",
            "12/12 [==============================] - 0s 11ms/step - loss: 0.1461 - binary_accuracy: 0.8032 - val_loss: 0.1063 - val_binary_accuracy: 0.8392\n",
            "Epoch 3/30\n",
            "12/12 [==============================] - 0s 10ms/step - loss: 0.1301 - binary_accuracy: 0.8243 - val_loss: 0.1100 - val_binary_accuracy: 0.8392\n",
            "Epoch 4/30\n",
            "12/12 [==============================] - 0s 11ms/step - loss: 0.1255 - binary_accuracy: 0.8366 - val_loss: 0.1172 - val_binary_accuracy: 0.8392\n",
            "Epoch 5/30\n",
            "12/12 [==============================] - 0s 11ms/step - loss: 0.1238 - binary_accuracy: 0.8366 - val_loss: 0.1156 - val_binary_accuracy: 0.8322\n",
            "Epoch 6/30\n",
            "12/12 [==============================] - 0s 12ms/step - loss: 0.1183 - binary_accuracy: 0.8541 - val_loss: 0.1190 - val_binary_accuracy: 0.8252\n",
            "Epoch 7/30\n",
            "12/12 [==============================] - 0s 10ms/step - loss: 0.1159 - binary_accuracy: 0.8489 - val_loss: 0.1272 - val_binary_accuracy: 0.8042\n",
            "Epoch 8/30\n",
            "12/12 [==============================] - 0s 10ms/step - loss: 0.1145 - binary_accuracy: 0.8559 - val_loss: 0.1260 - val_binary_accuracy: 0.8182\n",
            "Epoch 9/30\n",
            "12/12 [==============================] - 0s 11ms/step - loss: 0.1174 - binary_accuracy: 0.8418 - val_loss: 0.1411 - val_binary_accuracy: 0.7902\n",
            "Epoch 10/30\n",
            "12/12 [==============================] - 0s 11ms/step - loss: 0.1164 - binary_accuracy: 0.8436 - val_loss: 0.1354 - val_binary_accuracy: 0.7902\n",
            "Epoch 11/30\n",
            "12/12 [==============================] - 0s 9ms/step - loss: 0.1100 - binary_accuracy: 0.8594 - val_loss: 0.1228 - val_binary_accuracy: 0.8392\n",
            "Epoch 12/30\n",
            "12/12 [==============================] - 0s 10ms/step - loss: 0.1092 - binary_accuracy: 0.8559 - val_loss: 0.1431 - val_binary_accuracy: 0.8042\n",
            "Epoch 13/30\n",
            "12/12 [==============================] - 0s 10ms/step - loss: 0.1100 - binary_accuracy: 0.8594 - val_loss: 0.1367 - val_binary_accuracy: 0.8252\n",
            "Epoch 14/30\n",
            "12/12 [==============================] - 0s 11ms/step - loss: 0.1107 - binary_accuracy: 0.8612 - val_loss: 0.1364 - val_binary_accuracy: 0.8322\n",
            "Epoch 15/30\n",
            "12/12 [==============================] - 0s 11ms/step - loss: 0.1099 - binary_accuracy: 0.8559 - val_loss: 0.1488 - val_binary_accuracy: 0.8042\n",
            "Epoch 16/30\n",
            "12/12 [==============================] - 0s 10ms/step - loss: 0.1087 - binary_accuracy: 0.8559 - val_loss: 0.1413 - val_binary_accuracy: 0.8112\n",
            "Epoch 17/30\n",
            "12/12 [==============================] - 0s 11ms/step - loss: 0.1037 - binary_accuracy: 0.8717 - val_loss: 0.1522 - val_binary_accuracy: 0.7832\n",
            "Epoch 18/30\n",
            "12/12 [==============================] - 0s 11ms/step - loss: 0.1036 - binary_accuracy: 0.8559 - val_loss: 0.1431 - val_binary_accuracy: 0.8322\n",
            "Epoch 19/30\n",
            "12/12 [==============================] - 0s 10ms/step - loss: 0.1036 - binary_accuracy: 0.8664 - val_loss: 0.1679 - val_binary_accuracy: 0.7832\n",
            "Epoch 20/30\n",
            "12/12 [==============================] - 0s 10ms/step - loss: 0.1023 - binary_accuracy: 0.8735 - val_loss: 0.1422 - val_binary_accuracy: 0.8182\n",
            "Epoch 21/30\n",
            "12/12 [==============================] - 0s 10ms/step - loss: 0.1034 - binary_accuracy: 0.8612 - val_loss: 0.1528 - val_binary_accuracy: 0.7972\n",
            "Epoch 22/30\n",
            "12/12 [==============================] - 0s 10ms/step - loss: 0.0949 - binary_accuracy: 0.8805 - val_loss: 0.1614 - val_binary_accuracy: 0.7832\n",
            "Epoch 23/30\n",
            "12/12 [==============================] - 0s 11ms/step - loss: 0.1122 - binary_accuracy: 0.8576 - val_loss: 0.1629 - val_binary_accuracy: 0.7832\n",
            "Epoch 24/30\n",
            "12/12 [==============================] - 0s 11ms/step - loss: 0.1027 - binary_accuracy: 0.8717 - val_loss: 0.1396 - val_binary_accuracy: 0.8182\n",
            "Epoch 25/30\n",
            "12/12 [==============================] - 0s 11ms/step - loss: 0.0972 - binary_accuracy: 0.8682 - val_loss: 0.1397 - val_binary_accuracy: 0.8252\n",
            "Epoch 26/30\n",
            "12/12 [==============================] - 0s 11ms/step - loss: 0.0937 - binary_accuracy: 0.8840 - val_loss: 0.1502 - val_binary_accuracy: 0.8112\n",
            "Epoch 27/30\n",
            "12/12 [==============================] - 0s 10ms/step - loss: 0.0929 - binary_accuracy: 0.8858 - val_loss: 0.1418 - val_binary_accuracy: 0.8042\n",
            "Epoch 28/30\n",
            "12/12 [==============================] - 0s 11ms/step - loss: 0.0896 - binary_accuracy: 0.8963 - val_loss: 0.1615 - val_binary_accuracy: 0.7902\n",
            "Epoch 29/30\n",
            "12/12 [==============================] - 0s 12ms/step - loss: 0.0932 - binary_accuracy: 0.8805 - val_loss: 0.1563 - val_binary_accuracy: 0.7972\n",
            "Epoch 30/30\n",
            "12/12 [==============================] - 0s 10ms/step - loss: 0.0964 - binary_accuracy: 0.8717 - val_loss: 0.1500 - val_binary_accuracy: 0.8112\n"
          ]
        }
      ]
    },
    {
      "cell_type": "markdown",
      "source": [
        "# 정확도 체크"
      ],
      "metadata": {
        "id": "nO7P3dBkhs1k"
      }
    },
    {
      "cell_type": "code",
      "source": [
        "import matplotlib.pyplot as plt\n",
        "plt.plot(fit_hist.history['binary_accuracy'])\n",
        "plt.plot(fit_hist.history['val_binary_accuracy'])\n",
        "plt.show()   #그림보니 5에폭정도가 적당할거같지"
      ],
      "metadata": {
        "colab": {
          "base_uri": "https://localhost:8080/",
          "height": 265
        },
        "id": "CgjHCxVA5BBX",
        "outputId": "0988a6de-7bbf-467c-f791-40738ce7c3ad"
      },
      "execution_count": null,
      "outputs": [
        {
          "output_type": "display_data",
          "data": {
            "text/plain": [
              "<Figure size 432x288 with 1 Axes>"
            ],
            "image/png": "[encoded data removed]"
          },
          "metadata": {
            "needs_background": "light"
          }
        }
      ]
    },
    {
      "cell_type": "markdown",
      "source": [
        "# 모델 평가"
      ],
      "metadata": {
        "id": "G-HLi3gmhvU4"
      }
    },
    {
      "cell_type": "code",
      "source": [
        "score= model.evaluate(X_test, Y_test, verbose=0)\n",
        "print('loss', score[0])\n",
        "print('accuracy', score[1])"
      ],
      "metadata": {
        "colab": {
          "base_uri": "https://localhost:8080/"
        },
        "id": "Eh3TjNkx5jUA",
        "outputId": "dfed86a6-8936-42a3-fc74-2fb96c144885"
      },
      "execution_count": null,
      "outputs": [
        {
          "output_type": "stream",
          "name": "stdout",
          "text": [
            "loss 0.1659363955259323\n",
            "accuracy 0.7653631567955017\n"
          ]
        }
      ]
    },
    {
      "cell_type": "code",
      "source": [
        ""
      ],
      "metadata": {
        "id": "LSpfz3s152y9"
      },
      "execution_count": null,
      "outputs": []
    }
  ]
}