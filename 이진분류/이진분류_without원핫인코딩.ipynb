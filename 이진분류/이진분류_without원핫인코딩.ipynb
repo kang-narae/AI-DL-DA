{
  "nbformat": 4,
  "nbformat_minor": 0,
  "metadata": {
    "colab": {
      "name": "titanic_생존율예측_수치값으로만.ipynb",
      "provenance": [],
      "collapsed_sections": [],
      "authorship_tag": "ABX9TyMp7lKMkAOYzPP5GCcw6s8b",
      "include_colab_link": true
    },
    "kernelspec": {
      "name": "python3",
      "display_name": "Python 3"
    },
    "language_info": {
      "name": "python"
    }
  },
  "cells": [
    {
      "cell_type": "markdown",
      "metadata": {
        "id": "view-in-github",
        "colab_type": "text"
      },
      "source": [
        "<a href=\"https://colab.research.google.com/github/kang-narae/AI-DL-DA/blob/main/%EB%A8%B8%EC%8B%A0%EB%9F%AC%EB%8B%9D/titanic_%EC%83%9D%EC%A1%B4%EC%9C%A8%EC%98%88%EC%B8%A1_%EC%88%98%EC%B9%98%EA%B0%92%EC%9C%BC%EB%A1%9C%EB%A7%8C.ipynb\" target=\"_parent\"><img src=\"https://colab.research.google.com/assets/colab-badge.svg\" alt=\"Open In Colab\"/></a>"
      ]
    },
    {
      "cell_type": "code",
      "execution_count": null,
      "metadata": {
        "id": "miJuY9jaoH6d"
      },
      "outputs": [],
      "source": [
        "from tensorflow.keras.models import Sequential\n",
        "from tensorflow.keras.layers import Dense, Dropout\n",
        "import numpy as np\n",
        "import matplotlib.pyplot as plt\n",
        "import pandas as pd\n",
        "import seaborn as sns"
      ]
    },
    {
      "cell_type": "code",
      "source": [
        "raw_data= sns.load_dataset('titanic')\n",
        "print(raw_data.head())"
      ],
      "metadata": {
        "colab": {
          "base_uri": "https://localhost:8080/"
        },
        "id": "nfVXicqBo5-a",
        "outputId": "a606d6d7-715f-43ee-b167-f4b7c08ed29c"
      },
      "execution_count": null,
      "outputs": [
        {
          "output_type": "stream",
          "name": "stdout",
          "text": [
            "   survived  pclass     sex   age  sibsp  parch     fare embarked  class  \\\n",
            "0         0       3    male  22.0      1      0   7.2500        S  Third   \n",
            "1         1       1  female  38.0      1      0  71.2833        C  First   \n",
            "2         1       3  female  26.0      0      0   7.9250        S  Third   \n",
            "3         1       1  female  35.0      1      0  53.1000        S  First   \n",
            "4         0       3    male  35.0      0      0   8.0500        S  Third   \n",
            "\n",
            "     who  adult_male deck  embark_town alive  alone  \n",
            "0    man        True  NaN  Southampton    no  False  \n",
            "1  woman       False    C    Cherbourg   yes  False  \n",
            "2  woman       False  NaN  Southampton   yes   True  \n",
            "3  woman       False    C  Southampton   yes  False  \n",
            "4    man        True  NaN  Southampton    no   True  \n"
          ]
        }
      ]
    },
    {
      "cell_type": "code",
      "source": [
        "print(raw_data.isnull().sum())"
      ],
      "metadata": {
        "colab": {
          "base_uri": "https://localhost:8080/"
        },
        "id": "YWsj6tFvpALj",
        "outputId": "68c632bd-b866-47e7-f357-3f496b436de3"
      },
      "execution_count": null,
      "outputs": [
        {
          "output_type": "stream",
          "name": "stdout",
          "text": [
            "survived         0\n",
            "pclass           0\n",
            "sex              0\n",
            "age            177\n",
            "sibsp            0\n",
            "parch            0\n",
            "fare             0\n",
            "embarked         2\n",
            "class            0\n",
            "who              0\n",
            "adult_male       0\n",
            "deck           688\n",
            "embark_town      2\n",
            "alive            0\n",
            "alone            0\n",
            "dtype: int64\n"
          ]
        }
      ]
    },
    {
      "cell_type": "code",
      "source": [
        "clean_data= raw_data.dropna(axis=1, thresh=500)   #컬럼기준으로 넌값 500개이상인거 지우겠다\n",
        "print(clean_data.columns)"
      ],
      "metadata": {
        "colab": {
          "base_uri": "https://localhost:8080/"
        },
        "id": "mW3LuspJpRvT",
        "outputId": "aa0ccad9-7b4a-434b-8a4b-6443b92c0ee7"
      },
      "execution_count": null,
      "outputs": [
        {
          "output_type": "stream",
          "name": "stdout",
          "text": [
            "Index(['survived', 'pclass', 'sex', 'age', 'sibsp', 'parch', 'fare',\n",
            "       'embarked', 'class', 'who', 'adult_male', 'embark_town', 'alive',\n",
            "       'alone'],\n",
            "      dtype='object')\n"
          ]
        }
      ]
    },
    {
      "cell_type": "code",
      "source": [
        "mean_age= clean_data['age'].mean()\n",
        "print(mean_age)"
      ],
      "metadata": {
        "colab": {
          "base_uri": "https://localhost:8080/"
        },
        "id": "VNmw1c8fpeR7",
        "outputId": "7ffaf9d3-098c-42ea-942d-9f7e851bd23f"
      },
      "execution_count": null,
      "outputs": [
        {
          "output_type": "stream",
          "name": "stdout",
          "text": [
            "29.69911764705882\n"
          ]
        }
      ]
    },
    {
      "cell_type": "code",
      "source": [
        "clean_data['age'].fillna(mean_age, inplace=True)\n",
        "print(clean_data.head())"
      ],
      "metadata": {
        "colab": {
          "base_uri": "https://localhost:8080/"
        },
        "id": "UJeXCKqapnhz",
        "outputId": "002bdf98-4998-4569-d0ed-afc1c36de39c"
      },
      "execution_count": null,
      "outputs": [
        {
          "output_type": "stream",
          "name": "stdout",
          "text": [
            "   survived  pclass     sex   age  sibsp  parch     fare embarked  class  \\\n",
            "0         0       3    male  22.0      1      0   7.2500        S  Third   \n",
            "1         1       1  female  38.0      1      0  71.2833        C  First   \n",
            "2         1       3  female  26.0      0      0   7.9250        S  Third   \n",
            "3         1       1  female  35.0      1      0  53.1000        S  First   \n",
            "4         0       3    male  35.0      0      0   8.0500        S  Third   \n",
            "\n",
            "     who  adult_male  embark_town alive  alone  \n",
            "0    man        True  Southampton    no  False  \n",
            "1  woman       False    Cherbourg   yes  False  \n",
            "2  woman       False  Southampton   yes   True  \n",
            "3  woman       False  Southampton   yes  False  \n",
            "4    man        True  Southampton    no   True  \n"
          ]
        },
        {
          "output_type": "stream",
          "name": "stderr",
          "text": [
            "/usr/local/lib/python3.7/dist-packages/pandas/core/generic.py:6392: SettingWithCopyWarning: \n",
            "A value is trying to be set on a copy of a slice from a DataFrame\n",
            "\n",
            "See the caveats in the documentation: https://pandas.pydata.org/pandas-docs/stable/user_guide/indexing.html#returning-a-view-versus-a-copy\n",
            "  return self._update_inplace(result)\n"
          ]
        }
      ]
    },
    {
      "cell_type": "code",
      "source": [
        "clean_data.drop(['embark_town', 'alive', 'who'], axis=1, inplace=True)   #sex랑 중복되니까 who도 삭제"
      ],
      "metadata": {
        "id": "s9fN-t8WjWUd"
      },
      "execution_count": null,
      "outputs": []
    },
    {
      "cell_type": "code",
      "source": [
        "print(clean_data.head())"
      ],
      "metadata": {
        "colab": {
          "base_uri": "https://localhost:8080/"
        },
        "id": "KfHHdNG6qNyi",
        "outputId": "7df794d2-368a-4a14-c57b-09d641e38229"
      },
      "execution_count": null,
      "outputs": [
        {
          "output_type": "stream",
          "name": "stdout",
          "text": [
            "   survived  pclass     sex   age  sibsp  parch     fare embarked  class  \\\n",
            "0         0       3    male  22.0      1      0   7.2500        S  Third   \n",
            "1         1       1  female  38.0      1      0  71.2833        C  First   \n",
            "2         1       3  female  26.0      0      0   7.9250        S  Third   \n",
            "3         1       1  female  35.0      1      0  53.1000        S  First   \n",
            "4         0       3    male  35.0      0      0   8.0500        S  Third   \n",
            "\n",
            "   adult_male  alone  \n",
            "0        True  False  \n",
            "1       False  False  \n",
            "2       False   True  \n",
            "3       False  False  \n",
            "4        True   True  \n"
          ]
        }
      ]
    },
    {
      "cell_type": "code",
      "source": [
        "clean_data['embarked'].fillna(\n",
        "    method='ffill', inplace=True\n",
        ")\n",
        "print(clean_data.isnull().sum())"
      ],
      "metadata": {
        "colab": {
          "base_uri": "https://localhost:8080/"
        },
        "id": "thj5GdMHqT76",
        "outputId": "3ed7e6b6-d382-4508-b674-026b8edd8a6f"
      },
      "execution_count": null,
      "outputs": [
        {
          "output_type": "stream",
          "name": "stdout",
          "text": [
            "survived      0\n",
            "pclass        0\n",
            "sex           0\n",
            "age           0\n",
            "sibsp         0\n",
            "parch         0\n",
            "fare          0\n",
            "embarked      0\n",
            "class         0\n",
            "adult_male    0\n",
            "alone         0\n",
            "dtype: int64\n"
          ]
        },
        {
          "output_type": "stream",
          "name": "stderr",
          "text": [
            "/usr/local/lib/python3.7/dist-packages/pandas/core/generic.py:6392: SettingWithCopyWarning: \n",
            "A value is trying to be set on a copy of a slice from a DataFrame\n",
            "\n",
            "See the caveats in the documentation: https://pandas.pydata.org/pandas-docs/stable/user_guide/indexing.html#returning-a-view-versus-a-copy\n",
            "  return self._update_inplace(result)\n"
          ]
        }
      ]
    },
    {
      "cell_type": "code",
      "source": [
        "print(clean_data.info())"
      ],
      "metadata": {
        "colab": {
          "base_uri": "https://localhost:8080/"
        },
        "id": "olG3M8pKPmA4",
        "outputId": "f78c5b58-9adb-4363-8e78-124085c974ff"
      },
      "execution_count": null,
      "outputs": [
        {
          "output_type": "stream",
          "name": "stdout",
          "text": [
            "<class 'pandas.core.frame.DataFrame'>\n",
            "RangeIndex: 891 entries, 0 to 890\n",
            "Data columns (total 11 columns):\n",
            " #   Column      Non-Null Count  Dtype   \n",
            "---  ------      --------------  -----   \n",
            " 0   survived    891 non-null    int64   \n",
            " 1   pclass      891 non-null    int64   \n",
            " 2   sex         891 non-null    object  \n",
            " 3   age         891 non-null    float64 \n",
            " 4   sibsp       891 non-null    int64   \n",
            " 5   parch       891 non-null    int64   \n",
            " 6   fare        891 non-null    float64 \n",
            " 7   embarked    891 non-null    object  \n",
            " 8   class       891 non-null    category\n",
            " 9   adult_male  891 non-null    bool    \n",
            " 10  alone       891 non-null    bool    \n",
            "dtypes: bool(2), category(1), float64(2), int64(4), object(2)\n",
            "memory usage: 58.6+ KB\n",
            "None\n"
          ]
        }
      ]
    },
    {
      "cell_type": "code",
      "source": [
        "label = list(clean_data.columns)\n",
        "keep= label.pop(0)  #0번껄 빼옴\n",
        "target = clean_data[[keep]]   #생존값 즉 결과 정답값. 타겟값.\n",
        "training_data = clean_data[label]  #다른 요인값들\n",
        "print(training_data.head())\n",
        "print(target.head())\n",
        "\n"
      ],
      "metadata": {
        "colab": {
          "base_uri": "https://localhost:8080/"
        },
        "id": "5YyRhx71qrYb",
        "outputId": "9c30bd39-de4a-4799-a762-5a920b8019ac"
      },
      "execution_count": null,
      "outputs": [
        {
          "output_type": "stream",
          "name": "stdout",
          "text": [
            "   pclass     sex   age  sibsp  parch     fare embarked  class  adult_male  \\\n",
            "0       3    male  22.0      1      0   7.2500        S  Third        True   \n",
            "1       1  female  38.0      1      0  71.2833        C  First       False   \n",
            "2       3  female  26.0      0      0   7.9250        S  Third       False   \n",
            "3       1  female  35.0      1      0  53.1000        S  First       False   \n",
            "4       3    male  35.0      0      0   8.0500        S  Third        True   \n",
            "\n",
            "   alone  \n",
            "0  False  \n",
            "1  False  \n",
            "2   True  \n",
            "3  False  \n",
            "4   True  \n",
            "   survived\n",
            "0         0\n",
            "1         1\n",
            "2         1\n",
            "3         1\n",
            "4         0\n"
          ]
        }
      ]
    },
    {
      "cell_type": "code",
      "source": [
        "print(training_data.info())\n",
        "print(clean_data.info())\n",
        "print(training_data['class'])\n",
        "print(training_data['sex'])\n",
        "print(training_data['embarked'])"
      ],
      "metadata": {
        "colab": {
          "base_uri": "https://localhost:8080/"
        },
        "id": "ibtKmT_6Q4k_",
        "outputId": "ca48aba2-7afc-459d-f175-f30ae25a3ceb"
      },
      "execution_count": null,
      "outputs": [
        {
          "output_type": "stream",
          "name": "stdout",
          "text": [
            "<class 'pandas.core.frame.DataFrame'>\n",
            "RangeIndex: 891 entries, 0 to 890\n",
            "Data columns (total 10 columns):\n",
            " #   Column      Non-Null Count  Dtype   \n",
            "---  ------      --------------  -----   \n",
            " 0   pclass      891 non-null    int64   \n",
            " 1   sex         891 non-null    object  \n",
            " 2   age         891 non-null    float64 \n",
            " 3   sibsp       891 non-null    int64   \n",
            " 4   parch       891 non-null    int64   \n",
            " 5   fare        891 non-null    float64 \n",
            " 6   embarked    891 non-null    object  \n",
            " 7   class       891 non-null    category\n",
            " 8   adult_male  891 non-null    bool    \n",
            " 9   alone       891 non-null    bool    \n",
            "dtypes: bool(2), category(1), float64(2), int64(3), object(2)\n",
            "memory usage: 51.6+ KB\n",
            "None\n",
            "<class 'pandas.core.frame.DataFrame'>\n",
            "RangeIndex: 891 entries, 0 to 890\n",
            "Data columns (total 11 columns):\n",
            " #   Column      Non-Null Count  Dtype   \n",
            "---  ------      --------------  -----   \n",
            " 0   survived    891 non-null    int64   \n",
            " 1   pclass      891 non-null    int64   \n",
            " 2   sex         891 non-null    object  \n",
            " 3   age         891 non-null    float64 \n",
            " 4   sibsp       891 non-null    int64   \n",
            " 5   parch       891 non-null    int64   \n",
            " 6   fare        891 non-null    float64 \n",
            " 7   embarked    891 non-null    object  \n",
            " 8   class       891 non-null    category\n",
            " 9   adult_male  891 non-null    bool    \n",
            " 10  alone       891 non-null    bool    \n",
            "dtypes: bool(2), category(1), float64(2), int64(4), object(2)\n",
            "memory usage: 58.6+ KB\n",
            "None\n",
            "0       Third\n",
            "1       First\n",
            "2       Third\n",
            "3       First\n",
            "4       Third\n",
            "        ...  \n",
            "886    Second\n",
            "887     First\n",
            "888     Third\n",
            "889     First\n",
            "890     Third\n",
            "Name: class, Length: 891, dtype: category\n",
            "Categories (3, object): ['First', 'Second', 'Third']\n",
            "0        male\n",
            "1      female\n",
            "2      female\n",
            "3      female\n",
            "4        male\n",
            "        ...  \n",
            "886      male\n",
            "887    female\n",
            "888    female\n",
            "889      male\n",
            "890      male\n",
            "Name: sex, Length: 891, dtype: object\n",
            "0      S\n",
            "1      C\n",
            "2      S\n",
            "3      S\n",
            "4      S\n",
            "      ..\n",
            "886    S\n",
            "887    S\n",
            "888    S\n",
            "889    C\n",
            "890    Q\n",
            "Name: embarked, Length: 891, dtype: object\n"
          ]
        }
      ]
    },
    {
      "cell_type": "code",
      "source": [
        "# who 삭제\n",
        "#training_data.drop(['who'], axis=1, inplace=True)\n",
        "print(training_data.info())"
      ],
      "metadata": {
        "colab": {
          "base_uri": "https://localhost:8080/"
        },
        "id": "R2irEBTLSbbn",
        "outputId": "473ff7ec-8cf4-44be-ea4a-25faaa78a294"
      },
      "execution_count": null,
      "outputs": [
        {
          "output_type": "stream",
          "name": "stdout",
          "text": [
            "<class 'pandas.core.frame.DataFrame'>\n",
            "RangeIndex: 891 entries, 0 to 890\n",
            "Data columns (total 10 columns):\n",
            " #   Column      Non-Null Count  Dtype   \n",
            "---  ------      --------------  -----   \n",
            " 0   pclass      891 non-null    int64   \n",
            " 1   sex         891 non-null    object  \n",
            " 2   age         891 non-null    float64 \n",
            " 3   sibsp       891 non-null    int64   \n",
            " 4   parch       891 non-null    int64   \n",
            " 5   fare        891 non-null    float64 \n",
            " 6   embarked    891 non-null    object  \n",
            " 7   class       891 non-null    category\n",
            " 8   adult_male  891 non-null    bool    \n",
            " 9   alone       891 non-null    bool    \n",
            "dtypes: bool(2), category(1), float64(2), int64(3), object(2)\n",
            "memory usage: 51.6+ KB\n",
            "None\n"
          ]
        }
      ]
    },
    {
      "cell_type": "markdown",
      "source": [
        "# 원핫인코더를 안 쓰고 진행하기 위해 숫자가 아닌 범주 값들을, 숫자로 바꾼다.\n",
        "# 원핫인코딩을 한다면 범주값들이 원핫인코딩 데이터가 됐었다."
      ],
      "metadata": {
        "id": "d5of_R0GjsiH"
      }
    },
    {
      "cell_type": "code",
      "source": [
        "training_data['sex'].replace({'male':0, 'female':1}, inplace=True)\n",
        "training_data['class'].replace({'First':0, 'Second':1, 'Third':2}, inplace=True)\n",
        "training_data['embarked'].replace({'S':0, 'C':1, 'Q':2}, inplace=True)"
      ],
      "metadata": {
        "colab": {
          "base_uri": "https://localhost:8080/"
        },
        "id": "HFeIMTsJT0Sm",
        "outputId": "de30c1cb-0d65-480a-e73c-1ebbef586674"
      },
      "execution_count": null,
      "outputs": [
        {
          "output_type": "stream",
          "name": "stderr",
          "text": [
            "/usr/local/lib/python3.7/dist-packages/pandas/core/generic.py:6619: SettingWithCopyWarning: \n",
            "A value is trying to be set on a copy of a slice from a DataFrame\n",
            "\n",
            "See the caveats in the documentation: https://pandas.pydata.org/pandas-docs/stable/user_guide/indexing.html#returning-a-view-versus-a-copy\n",
            "  return self._update_inplace(result)\n"
          ]
        }
      ]
    },
    {
      "cell_type": "code",
      "source": [
        "# print(training_data.info())\n",
        "# training_data.drop(['who'], axis=1, inplace=True)\n",
        "print(training_data.info())"
      ],
      "metadata": {
        "colab": {
          "base_uri": "https://localhost:8080/"
        },
        "id": "fplMfvGHVRQ-",
        "outputId": "893e7a08-223b-4cca-a10f-5a402458c9f5"
      },
      "execution_count": null,
      "outputs": [
        {
          "output_type": "stream",
          "name": "stdout",
          "text": [
            "<class 'pandas.core.frame.DataFrame'>\n",
            "RangeIndex: 891 entries, 0 to 890\n",
            "Data columns (total 10 columns):\n",
            " #   Column      Non-Null Count  Dtype  \n",
            "---  ------      --------------  -----  \n",
            " 0   pclass      891 non-null    int64  \n",
            " 1   sex         891 non-null    int64  \n",
            " 2   age         891 non-null    float64\n",
            " 3   sibsp       891 non-null    int64  \n",
            " 4   parch       891 non-null    int64  \n",
            " 5   fare        891 non-null    float64\n",
            " 6   embarked    891 non-null    int64  \n",
            " 7   class       891 non-null    int64  \n",
            " 8   adult_male  891 non-null    bool   \n",
            " 9   alone       891 non-null    bool   \n",
            "dtypes: bool(2), float64(2), int64(6)\n",
            "memory usage: 57.6 KB\n",
            "None\n"
          ]
        }
      ]
    },
    {
      "cell_type": "markdown",
      "source": [
        "# 모든 값이 수치화됐고, 그것들을 스케일링한다."
      ],
      "metadata": {
        "id": "aNuhcHs1kGa-"
      }
    },
    {
      "cell_type": "code",
      "source": [
        "from sklearn.preprocessing import StandardScaler\n",
        "# column_name = list(clean_data.columns)\n",
        "scaler = StandardScaler()\n",
        "scaled_data = scaler.fit_transform(training_data)   #평균0 표준편차1인 정규분포 따르는 데이터로 바뀜.\n",
        "#training data를 스케일링, 트레이닝 데이터가 입력값임. 결과값 뺀 입력값.\n",
        "print(type(scaled_data))  #ndarray니까 바꿔줘야함\n",
        " #이전에 라벨로 컬럼명리스트 썼었는데 이거 컬럼네임에 넣어줌\n",
        "scaled_data= pd.DataFrame(scaled_data, columns=label)\n",
        "print(scaled_data.head())   #평균0 표준편차1인 정규분포 따르는 데이터를 가지는 df객체로 바뀜.\n",
        "print(scaled_data.shape)\n",
        "print(target.shape)\n"
      ],
      "metadata": {
        "colab": {
          "base_uri": "https://localhost:8080/"
        },
        "id": "t8kSkxQ5QLsH",
        "outputId": "920d4431-40e3-465b-af76-c4e0e83f9bec"
      },
      "execution_count": null,
      "outputs": [
        {
          "output_type": "stream",
          "name": "stdout",
          "text": [
            "<class 'numpy.ndarray'>\n",
            "     pclass       sex       age     sibsp     parch      fare  embarked  \\\n",
            "0  0.827377 -0.737695 -0.592481  0.432793 -0.473674 -0.502445 -0.571898   \n",
            "1 -1.566107  1.355574  0.638789  0.432793 -0.473674  0.786845  0.995982   \n",
            "2  0.827377  1.355574 -0.284663 -0.474545 -0.473674 -0.488854 -0.571898   \n",
            "3 -1.566107  1.355574  0.407926  0.432793 -0.473674  0.420730 -0.571898   \n",
            "4  0.827377 -0.737695  0.407926 -0.474545 -0.473674 -0.486337 -0.571898   \n",
            "\n",
            "      class  adult_male     alone  \n",
            "0  0.827377    0.811922 -1.231645  \n",
            "1 -1.566107   -1.231645 -1.231645  \n",
            "2  0.827377   -1.231645  0.811922  \n",
            "3 -1.566107   -1.231645 -1.231645  \n",
            "4  0.827377    0.811922  0.811922  \n",
            "(891, 10)\n",
            "(891, 1)\n"
          ]
        }
      ]
    },
    {
      "cell_type": "markdown",
      "source": [
        "# scaled_data(입력값)와 target(출력값)을  학습용과 검증용으로 나눈다"
      ],
      "metadata": {
        "id": "iVKCyHnYkYwn"
      }
    },
    {
      "cell_type": "code",
      "source": [
        "import numpy as np\n",
        "import matplotlib.pyplot as plt \n",
        "# scaled_data.boxplot(column=label, showmeans=True)  #df에 boxplot하면 그려짐\n",
        "# plt.show()\n",
        "\n",
        "from sklearn.model_selection import train_test_split\n",
        "X_train, X_test, Y_train, Y_test = train_test_split(scaled_data, target, test_size=0.3 )         #입력데이터, 출력데이터, 검증용 30프로로 나눠라\n",
        "print('X_train:', X_train.shape)\n",
        "print('X_test:', X_test.shape)\n",
        "print('Y_train:', Y_train.shape)\n",
        "print('Y_test:', Y_test.shape)\n",
        "\n"
      ],
      "metadata": {
        "colab": {
          "base_uri": "https://localhost:8080/"
        },
        "id": "PhDVxBHiXovN",
        "outputId": "697d2a82-5610-4388-b02b-edf3264926d2"
      },
      "execution_count": null,
      "outputs": [
        {
          "output_type": "stream",
          "name": "stdout",
          "text": [
            "X_train: (623, 10)\n",
            "X_test: (268, 10)\n",
            "Y_train: (623, 1)\n",
            "Y_test: (268, 1)\n"
          ]
        }
      ]
    },
    {
      "cell_type": "markdown",
      "source": [
        "# 모델 만들고, 모델 학습시키고, 검증하고, 평가한다"
      ],
      "metadata": {
        "id": "v1dL0_HAk08W"
      }
    },
    {
      "cell_type": "code",
      "source": [
        "\n",
        "\n",
        "model = Sequential()\n",
        "model.add(Dense(512, input_dim=10, activation='relu'))\n",
        "model.add(Dropout(0.25))\n",
        "model.add(Dense(256, activation='relu'))\n",
        "model.add(Dropout(0.2))\n",
        "model.add(Dense(128, activation='relu'))\n",
        "model.add(Dropout(0.1))\n",
        "model.add(Dense(1, activation='sigmoid'))  #맨마지막은 퍼셈트론 1개고 활성화함수는 시그모이드로 하면되지 분류니까0이냐 1이냐만 보면 되니까\n",
        "model.summary()\n",
        "\n",
        "model.compile(loss='mse', optimizer='adam', metrics=['binary_accuracy'])\n",
        "fit_hist = model.fit(X_train, Y_train, batch_size= 10, epochs=10, validation_split= 0.2, verbose=1)\n",
        "\n",
        "plt.plot(fit_hist.history['binary_accuracy'])   #테스트용 70 중 80퍼 가지고 구한 학습정확도. loss 계산으로.. 근데 분류할때는 loss는 상관없지. 정확도만 보면됨.\n",
        "                                        #이진분류가 얼마나 잘 됐는지.\n",
        "\n",
        "plt.plot(fit_hist.history['val_binary_accuracy'])  #이거는 검증정확도임.  검증정확도는 낮아지네?  과적합이 일어났다는 거임.\n",
        "plt.show()\n",
        "\n",
        "\n",
        "score= model.evaluate(X_test, Y_test, verbose=0)   #검증할 거임   #X가 입력 Y가 타겟. \n",
        "#이때는 forward만 가서 mse, 정확도만 구함.  테스트셋에 대한 학습은 x.\n",
        "print('keras DNN model loss :', score[0])\n",
        "print('keras DNN model accuracy:', score[1])"
      ],
      "metadata": {
        "colab": {
          "base_uri": "https://localhost:8080/",
          "height": 1000
        },
        "id": "biv_TtlMWF31",
        "outputId": "09c6f2dc-17d4-4c59-86e8-765b31fc231f"
      },
      "execution_count": null,
      "outputs": [
        {
          "output_type": "stream",
          "name": "stdout",
          "text": [
            "Model: \"sequential\"\n",
            "_________________________________________________________________\n",
            " Layer (type)                Output Shape              Param #   \n",
            "=================================================================\n",
            " dense (Dense)               (None, 512)               5632      \n",
            "                                                                 \n",
            " dropout (Dropout)           (None, 512)               0         \n",
            "                                                                 \n",
            " dense_1 (Dense)             (None, 256)               131328    \n",
            "                                                                 \n",
            " dropout_1 (Dropout)         (None, 256)               0         \n",
            "                                                                 \n",
            " dense_2 (Dense)             (None, 128)               32896     \n",
            "                                                                 \n",
            " dropout_2 (Dropout)         (None, 128)               0         \n",
            "                                                                 \n",
            " dense_3 (Dense)             (None, 1)                 129       \n",
            "                                                                 \n",
            "=================================================================\n",
            "Total params: 169,985\n",
            "Trainable params: 169,985\n",
            "Non-trainable params: 0\n",
            "_________________________________________________________________\n",
            "Epoch 1/10\n",
            "50/50 [==============================] - 2s 18ms/step - loss: 0.1559 - binary_accuracy: 0.7972 - val_loss: 0.1146 - val_binary_accuracy: 0.8400\n",
            "Epoch 2/10\n",
            "50/50 [==============================] - 1s 11ms/step - loss: 0.1360 - binary_accuracy: 0.8213 - val_loss: 0.1212 - val_binary_accuracy: 0.8400\n",
            "Epoch 3/10\n",
            "50/50 [==============================] - 1s 11ms/step - loss: 0.1319 - binary_accuracy: 0.8253 - val_loss: 0.1256 - val_binary_accuracy: 0.7920\n",
            "Epoch 4/10\n",
            "50/50 [==============================] - 1s 12ms/step - loss: 0.1352 - binary_accuracy: 0.8153 - val_loss: 0.1221 - val_binary_accuracy: 0.8080\n",
            "Epoch 5/10\n",
            "50/50 [==============================] - 1s 11ms/step - loss: 0.1258 - binary_accuracy: 0.8434 - val_loss: 0.1264 - val_binary_accuracy: 0.8160\n",
            "Epoch 6/10\n",
            "50/50 [==============================] - 1s 11ms/step - loss: 0.1271 - binary_accuracy: 0.8233 - val_loss: 0.1163 - val_binary_accuracy: 0.8320\n",
            "Epoch 7/10\n",
            "50/50 [==============================] - 1s 10ms/step - loss: 0.1269 - binary_accuracy: 0.8253 - val_loss: 0.1145 - val_binary_accuracy: 0.8560\n",
            "Epoch 8/10\n",
            "50/50 [==============================] - 0s 8ms/step - loss: 0.1252 - binary_accuracy: 0.8373 - val_loss: 0.1173 - val_binary_accuracy: 0.8640\n",
            "Epoch 9/10\n",
            "50/50 [==============================] - 0s 8ms/step - loss: 0.1228 - binary_accuracy: 0.8313 - val_loss: 0.1166 - val_binary_accuracy: 0.8240\n",
            "Epoch 10/10\n",
            "50/50 [==============================] - 0s 9ms/step - loss: 0.1225 - binary_accuracy: 0.8353 - val_loss: 0.1170 - val_binary_accuracy: 0.8320\n"
          ]
        },
        {
          "output_type": "display_data",
          "data": {
            "text/plain": [
              "<Figure size 432x288 with 1 Axes>"
            ],
            "image/png": "[encoded data removed]"
          },
          "metadata": {
            "needs_background": "light"
          }
        },
        {
          "output_type": "stream",
          "name": "stdout",
          "text": [
            "keras DNN model loss : 0.14038102328777313\n",
            "keras DNN model accuracy: 0.8097015023231506\n"
          ]
        }
      ]
    }
  ]
}