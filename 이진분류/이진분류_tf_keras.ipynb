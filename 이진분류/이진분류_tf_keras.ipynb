{
  "nbformat": 4,
  "nbformat_minor": 0,
  "metadata": {
    "colab": {
      "name": "heart_disease_predict_원핫인코더.ipynb",
      "provenance": [],
      "authorship_tag": "ABX9TyPO42SQJrv4kHytSsc49KVc",
      "include_colab_link": true
    },
    "kernelspec": {
      "name": "python3",
      "display_name": "Python 3"
    },
    "language_info": {
      "name": "python"
    }
  },
  "cells": [
    {
      "cell_type": "markdown",
      "metadata": {
        "id": "view-in-github",
        "colab_type": "text"
      },
      "source": [
        "<a href=\"https://colab.research.google.com/github/kang-narae/AI-DL-DA/blob/main/%EB%A8%B8%EC%8B%A0%EB%9F%AC%EB%8B%9D/heart_disease_predict_%EC%9B%90%ED%95%AB%EC%9D%B8%EC%BD%94%EB%8D%94.ipynb\" target=\"_parent\"><img src=\"https://colab.research.google.com/assets/colab-badge.svg\" alt=\"Open In Colab\"/></a>"
      ]
    },
    {
      "cell_type": "code",
      "execution_count": null,
      "metadata": {
        "id": "U1lkwY9s7Uqt"
      },
      "outputs": [],
      "source": [
        "from tensorflow.keras.models import Sequential\n",
        "from tensorflow.keras.layers import Dense, Dropout\n",
        "import numpy as np\n",
        "import matplotlib.pyplot as plt\n",
        "import pandas as pd\n",
        "\n",
        "\n"
      ]
    },
    {
      "cell_type": "markdown",
      "source": [
        "# df객체 만든다"
      ],
      "metadata": {
        "id": "CRvYNoVK6Tth"
      }
    },
    {
      "cell_type": "code",
      "source": [
        "column_name = ['age', 'sex', 'cp', 'treshbps', 'chol', \n",
        "               'fbs',\n",
        "               'restecg', 'thalach', 'exang', 'oldpeak', \n",
        "               'slope',\n",
        "               'ca', 'thal', 'HeartDisease']\n",
        "raw_data = pd.read_excel('./datasets/heart-disease.xlsx',\n",
        "                         header=None, names=column_name)\n",
        "print(raw_data.head(20))"
      ],
      "metadata": {
        "colab": {
          "base_uri": "https://localhost:8080/"
        },
        "id": "GIp9tH-k8fpu",
        "outputId": "8941c6b9-6264-49b9-8ac6-e26d1b2f7245"
      },
      "execution_count": null,
      "outputs": [
        {
          "output_type": "stream",
          "name": "stdout",
          "text": [
            "    age  sex  cp  treshbps chol  fbs  restecg  thalach  exang  oldpeak  slope  \\\n",
            "0    63    1   1       145  233    1        2      150      0      2.3      3   \n",
            "1    67    1   4       160  286    0        0      108      1      1.5      2   \n",
            "2    67    1   4       120    ?    0        2      129      1      2.6      2   \n",
            "3    37    1   3       130  250    0        0      187      0      3.5      3   \n",
            "4    41    0   2       130  204    0        2      172      0      1.4      1   \n",
            "5    56    1   2       120  236    0        0      178      0      0.8      1   \n",
            "6    62    0   4       140  268    0        2      160      0      3.6      3   \n",
            "7    57    0   4       120  354    0        0      163      1      0.6      1   \n",
            "8    63    1   4       130  254    0        2      147      0      1.4      2   \n",
            "9    53    1   4       140  203    1        2      155      1      3.1      3   \n",
            "10   57    1   4       140  192    0        0      148      0      0.4      2   \n",
            "11   56    0   2       140  294    0        2      153      0      1.3      2   \n",
            "12   56    1   3       130  256    1        2      142      1      0.6      2   \n",
            "13   44    1   2       120  263    0        0      173      0      0.0      1   \n",
            "14   52    1   3       172  199    1        0      162      0      0.5      1   \n",
            "15   57    1   3       150  168    0        0      174      0      1.6      1   \n",
            "16   48    1   2       110  229    0        0      168      0      1.0      3   \n",
            "17   54    1   4       140  239    0        0      160      0      1.2      1   \n",
            "18   48    0   3       130  275    0        0      139      0      0.2      1   \n",
            "19   49    1   2       130  266    0        0      171      0      0.6      1   \n",
            "\n",
            "   ca thal  HeartDisease  \n",
            "0   0    6             0  \n",
            "1   3    3             1  \n",
            "2   2    7             1  \n",
            "3   0    3             0  \n",
            "4   0    3             0  \n",
            "5   0    3             0  \n",
            "6   2    3             1  \n",
            "7   0    3             0  \n",
            "8   1    7             1  \n",
            "9   0    7             1  \n",
            "10  0    6             0  \n",
            "11  0    3             0  \n",
            "12  1    6             1  \n",
            "13  0    7             0  \n",
            "14  0    7             0  \n",
            "15  0    3             0  \n",
            "16  0    7             1  \n",
            "17  0    3             0  \n",
            "18  0    3             0  \n",
            "19  0    3             0  \n"
          ]
        }
      ]
    },
    {
      "cell_type": "code",
      "source": [
        "print(raw_data.describe().T)"
      ],
      "metadata": {
        "colab": {
          "base_uri": "https://localhost:8080/"
        },
        "id": "vvNn9c8W8hOU",
        "outputId": "496038fd-5126-4c2e-be0d-20eb868697ae"
      },
      "execution_count": null,
      "outputs": [
        {
          "output_type": "stream",
          "name": "stdout",
          "text": [
            "              count        mean        std   min    25%    50%    75%    max\n",
            "age           303.0   54.438944   9.038662  29.0   48.0   56.0   61.0   77.0\n",
            "sex           303.0    0.679868   0.467299   0.0    0.0    1.0    1.0    1.0\n",
            "cp            303.0    3.158416   0.960126   1.0    3.0    3.0    4.0    4.0\n",
            "treshbps      303.0  131.689769  17.599748  94.0  120.0  130.0  140.0  200.0\n",
            "fbs           303.0    0.148515   0.356198   0.0    0.0    0.0    0.0    1.0\n",
            "restecg       303.0    0.983498   0.994883   0.0    0.0    0.0    2.0    2.0\n",
            "thalach       303.0  149.607261  22.875003  71.0  133.5  153.0  166.0  202.0\n",
            "exang         303.0    0.326733   0.469794   0.0    0.0    0.0    1.0    1.0\n",
            "oldpeak       303.0    1.039604   1.161075   0.0    0.0    0.8    1.6    6.2\n",
            "slope         303.0    1.600660   0.616226   1.0    1.0    2.0    2.0    3.0\n",
            "HeartDisease  303.0    0.458746   0.499120   0.0    0.0    0.0    1.0    1.0\n"
          ]
        }
      ]
    },
    {
      "cell_type": "code",
      "source": [
        "raw_data.info()"
      ],
      "metadata": {
        "colab": {
          "base_uri": "https://localhost:8080/"
        },
        "id": "tWNO7K_X83qt",
        "outputId": "f8d22f65-aafb-47cd-9e3d-7443641acc30"
      },
      "execution_count": null,
      "outputs": [
        {
          "output_type": "stream",
          "name": "stdout",
          "text": [
            "<class 'pandas.core.frame.DataFrame'>\n",
            "RangeIndex: 303 entries, 0 to 302\n",
            "Data columns (total 14 columns):\n",
            " #   Column        Non-Null Count  Dtype  \n",
            "---  ------        --------------  -----  \n",
            " 0   age           303 non-null    int64  \n",
            " 1   sex           303 non-null    int64  \n",
            " 2   cp            303 non-null    int64  \n",
            " 3   treshbps      303 non-null    int64  \n",
            " 4   chol          303 non-null    object \n",
            " 5   fbs           303 non-null    int64  \n",
            " 6   restecg       303 non-null    int64  \n",
            " 7   thalach       303 non-null    int64  \n",
            " 8   exang         303 non-null    int64  \n",
            " 9   oldpeak       303 non-null    float64\n",
            " 10  slope         303 non-null    int64  \n",
            " 11  ca            303 non-null    object \n",
            " 12  thal          303 non-null    object \n",
            " 13  HeartDisease  303 non-null    int64  \n",
            "dtypes: float64(1), int64(10), object(3)\n",
            "memory usage: 33.3+ KB\n"
          ]
        }
      ]
    },
    {
      "cell_type": "markdown",
      "source": [
        "# 이상값을 결측값으로 대체 후\n",
        "# 결측값 있는 row 삭제"
      ],
      "metadata": {
        "id": "DbWSfIGk6WHg"
      }
    },
    {
      "cell_type": "code",
      "source": [
        "clean_data= raw_data.replace('?', np.nan)\n",
        "clean_data= clean_data.dropna()\n",
        "print(clean_data.info())"
      ],
      "metadata": {
        "colab": {
          "base_uri": "https://localhost:8080/"
        },
        "id": "VhRdlGf89FJl",
        "outputId": "aa5fba6f-f66b-4036-bcfb-0efba240f9a8"
      },
      "execution_count": null,
      "outputs": [
        {
          "output_type": "stream",
          "name": "stdout",
          "text": [
            "<class 'pandas.core.frame.DataFrame'>\n",
            "Int64Index: 296 entries, 0 to 301\n",
            "Data columns (total 14 columns):\n",
            " #   Column        Non-Null Count  Dtype  \n",
            "---  ------        --------------  -----  \n",
            " 0   age           296 non-null    int64  \n",
            " 1   sex           296 non-null    int64  \n",
            " 2   cp            296 non-null    int64  \n",
            " 3   treshbps      296 non-null    int64  \n",
            " 4   chol          296 non-null    float64\n",
            " 5   fbs           296 non-null    int64  \n",
            " 6   restecg       296 non-null    int64  \n",
            " 7   thalach       296 non-null    int64  \n",
            " 8   exang         296 non-null    int64  \n",
            " 9   oldpeak       296 non-null    float64\n",
            " 10  slope         296 non-null    int64  \n",
            " 11  ca            296 non-null    float64\n",
            " 12  thal          296 non-null    float64\n",
            " 13  HeartDisease  296 non-null    int64  \n",
            "dtypes: float64(4), int64(10)\n",
            "memory usage: 34.7 KB\n",
            "None\n"
          ]
        }
      ]
    },
    {
      "cell_type": "markdown",
      "source": [
        "# 입력컬럼 / 정답컬럼 분리\n",
        "# training_data  /  target"
      ],
      "metadata": {
        "id": "GBRq2M-a6k3H"
      }
    },
    {
      "cell_type": "code",
      "source": [
        "keep= column_name.pop()   #마지막꺼 빼서 keep에 넣고 원래의 column_name은 마지막 한개가 빠진 거 리턴받음\n",
        "#keep이 심장병 진단 결과값이지\n",
        "print(keep)\n",
        "print(column_name)"
      ],
      "metadata": {
        "colab": {
          "base_uri": "https://localhost:8080/"
        },
        "id": "IWs-tFc-9nr2",
        "outputId": "04ed5642-18fd-4a4f-fca6-7657a37b00e5"
      },
      "execution_count": null,
      "outputs": [
        {
          "output_type": "stream",
          "name": "stdout",
          "text": [
            "HeartDisease\n",
            "['age', 'sex', 'cp', 'treshbps', 'chol', 'fbs', 'restecg', 'thalach', 'exang', 'oldpeak', 'slope', 'ca', 'thal']\n"
          ]
        }
      ]
    },
    {
      "cell_type": "code",
      "source": [
        "training_data = clean_data[column_name]   #입력값\n",
        "target= clean_data[[keep]]     #정답값\n",
        "print(target)\n",
        "print(training_data.head())   \n",
        "print(target.head())\n",
        "print(training_data.shape)\n",
        "print(target.shape)"
      ],
      "metadata": {
        "colab": {
          "base_uri": "https://localhost:8080/"
        },
        "id": "jBeIQ0lN-OoY",
        "outputId": "58e89821-a02c-46d2-ebd4-4526ff2902b3"
      },
      "execution_count": null,
      "outputs": [
        {
          "output_type": "stream",
          "name": "stdout",
          "text": [
            "     HeartDisease\n",
            "0               0\n",
            "1               1\n",
            "3               0\n",
            "4               0\n",
            "5               0\n",
            "..            ...\n",
            "297             1\n",
            "298             1\n",
            "299             1\n",
            "300             1\n",
            "301             1\n",
            "\n",
            "[296 rows x 1 columns]\n",
            "   age  sex  cp  treshbps   chol  fbs  restecg  thalach  exang  oldpeak  \\\n",
            "0   63    1   1       145  233.0    1        2      150      0      2.3   \n",
            "1   67    1   4       160  286.0    0        0      108      1      1.5   \n",
            "3   37    1   3       130  250.0    0        0      187      0      3.5   \n",
            "4   41    0   2       130  204.0    0        2      172      0      1.4   \n",
            "5   56    1   2       120  236.0    0        0      178      0      0.8   \n",
            "\n",
            "   slope   ca  thal  \n",
            "0      3  0.0   6.0  \n",
            "1      2  3.0   3.0  \n",
            "3      3  0.0   3.0  \n",
            "4      1  0.0   3.0  \n",
            "5      1  0.0   3.0  \n",
            "   HeartDisease\n",
            "0             0\n",
            "1             1\n",
            "3             0\n",
            "4             0\n",
            "5             0\n",
            "(296, 13)\n",
            "(296, 1)\n"
          ]
        }
      ]
    },
    {
      "cell_type": "code",
      "source": [
        "print(target[keep].sum())    #이진분류일때 0, 1 비율이 비슷해야지. 하나만 많으면 그냥 다 그거라고 대답해도 정확도가 높잖아. 그럼 그렇게 학습된다구 요인분석을 안하고."
      ],
      "metadata": {
        "colab": {
          "base_uri": "https://localhost:8080/"
        },
        "id": "lw4hTVrh-34x",
        "outputId": "b810f5cd-6eda-45d3-ef66-fac22ca6c47d"
      },
      "execution_count": null,
      "outputs": [
        {
          "output_type": "stream",
          "name": "stdout",
          "text": [
            "136\n"
          ]
        }
      ]
    },
    {
      "cell_type": "code",
      "source": [
        "print(target[keep].mean())"
      ],
      "metadata": {
        "colab": {
          "base_uri": "https://localhost:8080/"
        },
        "id": "RzjaUyjM_EbI",
        "outputId": "716fa2b7-4996-4b87-82fb-bb33c802284d"
      },
      "execution_count": null,
      "outputs": [
        {
          "output_type": "stream",
          "name": "stdout",
          "text": [
            "0.4594594594594595\n"
          ]
        }
      ]
    },
    {
      "cell_type": "code",
      "source": [
        "#명목척도인 경우에는 원핫인코더를 해줌.       .......... 근데 강사님 귀차나서 원핫인코더 안하구 걍 다 스케일링 한댕\n",
        "#비율척도- 수치형자료는 , 스케일링을 해주고.    자료타입별 다른 전처리."
      ],
      "metadata": {
        "id": "D7Mx9wJu_9L7"
      },
      "execution_count": null,
      "outputs": []
    },
    {
      "cell_type": "markdown",
      "source": [
        "# 입력컬럼 스케일링"
      ],
      "metadata": {
        "id": "KyrB8yhe8zbd"
      }
    },
    {
      "cell_type": "code",
      "source": [
        "from sklearn.preprocessing import StandardScaler\n",
        "\n",
        "scaler = StandardScaler()\n",
        "scaled_data = scaler.fit_transform(training_data)   #평균0 표준편차1인 정규분포 따르는 데이터로 바뀜.\n",
        "print(type(scaled_data))  #ndarray니까 바꿔줘야함\n",
        "scaled_data= pd.DataFrame(scaled_data, columns=column_name)\n",
        "print(scaled_data.head())   #평균0 표준편차1인 정규분포 따르는 데이터를 가지는 df객체로 바뀜.\n",
        "print(training_data.shape)\n",
        "print(target.shape)\n"
      ],
      "metadata": {
        "colab": {
          "base_uri": "https://localhost:8080/"
        },
        "id": "vDJ89iXSCqKM",
        "outputId": "a1282d56-b739-45af-e3b0-cea9d5cebce2"
      },
      "execution_count": null,
      "outputs": [
        {
          "output_type": "stream",
          "name": "stdout",
          "text": [
            "<class 'numpy.ndarray'>\n",
            "        age       sex        cp  treshbps      chol       fbs   restecg  \\\n",
            "0  0.942285  0.692820 -2.236793  0.747441 -0.277228  2.425638  1.020526   \n",
            "1  1.385714  0.692820  0.876486  1.592523  0.742265 -0.412263 -0.993312   \n",
            "2 -1.939999  0.692820 -0.161274 -0.097641  0.049779 -0.412263 -0.993312   \n",
            "3 -1.496571 -1.443376 -1.199033 -0.097641 -0.835064 -0.412263  1.020526   \n",
            "4  0.166286  0.692820 -1.199033 -0.661029 -0.219521 -0.412263 -0.993312   \n",
            "\n",
            "    thalach     exang   oldpeak     slope        ca      thal  \n",
            "0  0.014451 -0.692820  1.074839  2.264087 -0.718421  0.660262  \n",
            "1 -1.818794  1.443376  0.386756  0.645320  2.487397 -0.890830  \n",
            "2  1.629453 -0.692820  2.106963  2.264087 -0.718421 -0.890830  \n",
            "3  0.974723 -0.692820  0.300746 -0.973448 -0.718421 -0.890830  \n",
            "4  1.236615 -0.692820 -0.215316 -0.973448 -0.718421 -0.890830  \n",
            "(296, 13)\n",
            "(296, 1)\n"
          ]
        }
      ]
    },
    {
      "cell_type": "markdown",
      "source": [
        "# sex 값도 걍 다 수치로 생각해서 스케일링 때려박음"
      ],
      "metadata": {
        "id": "ebW8hkMp84Ok"
      }
    },
    {
      "cell_type": "code",
      "source": [
        "print(scaled_data.describe().T)    #모든데이터가 평균은 0 표준편차는 1정도 따르는 값으로 스케일링 됐지"
      ],
      "metadata": {
        "colab": {
          "base_uri": "https://localhost:8080/"
        },
        "id": "QB3Zfh_YDArg",
        "outputId": "275e2863-3029-42c4-8b8e-0a4e8947c0c1"
      },
      "execution_count": null,
      "outputs": [
        {
          "output_type": "stream",
          "name": "stdout",
          "text": [
            "          count          mean       std       min       25%       50%  \\\n",
            "age       296.0  4.500904e-18  1.001693 -2.826856 -0.720571  0.166286   \n",
            "sex       296.0  2.850573e-17  1.001693 -1.443376 -1.443376  0.692820   \n",
            "cp        296.0  1.200241e-16  1.001693 -2.236793 -0.161274 -0.161274   \n",
            "treshbps  296.0  6.067781e-16  1.001693 -2.125838 -0.661029 -0.097641   \n",
            "chol      296.0  1.997276e-17  1.001693 -2.335451 -0.700414 -0.084871   \n",
            "fbs       296.0  7.501507e-19  1.001693 -0.412263 -0.412263 -0.412263   \n",
            "restecg   296.0  2.182939e-16  1.001693 -0.993312 -0.993312 -0.489853   \n",
            "thalach   296.0  6.458797e-16  1.001693 -3.433796 -0.694840  0.145397   \n",
            "exang     296.0  5.926190e-17  1.001693 -0.692820 -0.692820 -0.692820   \n",
            "oldpeak   296.0 -7.951597e-17  1.001693 -0.903399 -0.903399 -0.215316   \n",
            "slope     296.0  1.155232e-16  1.001693 -0.973448 -0.973448  0.645320   \n",
            "ca        296.0  6.526311e-17  1.001693 -0.718421 -0.718421 -0.718421   \n",
            "thal      296.0 -2.663035e-17  1.001693 -0.890830 -0.890830 -0.890830   \n",
            "\n",
            "               75%       max  \n",
            "age       0.720571  2.494285  \n",
            "sex       0.692820  0.692820  \n",
            "cp        0.876486  0.876486  \n",
            "treshbps  0.465747  3.846075  \n",
            "chol      0.554717  6.089796  \n",
            "fbs      -0.412263  2.425638  \n",
            "restecg   1.020526  1.020526  \n",
            "thalach   0.712830  2.284183  \n",
            "exang     1.443376  1.443376  \n",
            "oldpeak   0.472766  4.429243  \n",
            "slope     0.645320  2.264087  \n",
            "ca        0.350185  2.487397  \n",
            "thal      1.177293  1.177293  \n"
          ]
        }
      ]
    },
    {
      "cell_type": "code",
      "source": [
        "scaled_data.boxplot(column=column_name, showmeans=True)  #df에 boxplot하면 그려짐\n",
        "plt.show()"
      ],
      "metadata": {
        "colab": {
          "base_uri": "https://localhost:8080/",
          "height": 265
        },
        "id": "aJw-TaODDta4",
        "outputId": "57bdfecf-c6bd-4f8d-dfce-87b050eba16f"
      },
      "execution_count": null,
      "outputs": [
        {
          "output_type": "display_data",
          "data": {
            "text/plain": [
              "<Figure size 432x288 with 1 Axes>"
            ],
            "image/png": "[encoded data removed]"
          },
          "metadata": {
            "needs_background": "light"
          }
        }
      ]
    },
    {
      "cell_type": "markdown",
      "source": [
        "# 학습용과 검증용 나눔"
      ],
      "metadata": {
        "id": "_OMIsX0J-bx5"
      }
    },
    {
      "cell_type": "code",
      "source": [
        "#과적합 방지 위해 검증용 데이터 일부 떼어놓음.\n",
        "\n",
        "\n",
        "from sklearn.model_selection import train_test_split\n",
        "X_train, X_test, Y_train, Y_test = train_test_split(scaled_data, target, test_size=0.3 )         #입력데이터, 출력데이터, 검증용 30프로로 나눠라\n",
        "print('X_train:', X_train.shape)\n",
        "print('X_test:', X_test.shape)\n",
        "print('Y_train:', Y_train.shape)\n",
        "print('Y_test:', Y_test.shape)\n",
        "\n",
        "\n"
      ],
      "metadata": {
        "colab": {
          "base_uri": "https://localhost:8080/"
        },
        "id": "oKOGZzbQEHy5",
        "outputId": "7c0ea119-e5a0-4600-a99b-aea48d1123dc"
      },
      "execution_count": null,
      "outputs": [
        {
          "output_type": "stream",
          "name": "stdout",
          "text": [
            "X_train: (207, 13)\n",
            "X_test: (89, 13)\n",
            "Y_train: (207, 1)\n",
            "Y_test: (89, 1)\n"
          ]
        }
      ]
    },
    {
      "cell_type": "markdown",
      "source": [
        "# 모델 인풋차원과 활성화함수 만듦"
      ],
      "metadata": {
        "id": "Op6-auYP-et_"
      }
    },
    {
      "cell_type": "code",
      "source": [
        "model = Sequential()\n",
        "model.add(Dense(512, input_dim=13, activation='relu'))\n",
        "model.add(Dropout(0.25))\n",
        "model.add(Dense(256, activation='relu'))\n",
        "model.add(Dropout(0.2))\n",
        "model.add(Dense(128, activation='relu'))\n",
        "model.add(Dropout(0.1))\n",
        "model.add(Dense(1, activation='sigmoid'))  #맨마지막은 퍼셈트론 1개고 활성화함수는 시그모이드로 하면되지 분류니까0이냐 1이냐만 보면 되니까\n",
        "model.summary()\n",
        "\n",
        "\n",
        "#Dropout?\n",
        "# 매 에폭마다 weight중에 0.25(25프로를) 학습을 안 해. wieght랑 bias수정을 안한다는거. 특징 일부를 빼고 학습해도 맞출 수 있도록. 너무 과민하게 반응하지 않도록 해준다!@!!\n",
        "\n",
        "\n",
        "\n",
        "\n",
        "\n",
        "#첫번째 파람 7168은, 인풋 13 x weight 512  + bias 512의 의미다\n",
        "#두번째 파람은 (512+1) x 256"
      ],
      "metadata": {
        "colab": {
          "base_uri": "https://localhost:8080/"
        },
        "id": "06FcYDSNW8AC",
        "outputId": "7ef23b92-a92c-4d36-9fb1-dac92ee49346"
      },
      "execution_count": null,
      "outputs": [
        {
          "output_type": "stream",
          "name": "stdout",
          "text": [
            "Model: \"sequential_12\"\n",
            "_________________________________________________________________\n",
            " Layer (type)                Output Shape              Param #   \n",
            "=================================================================\n",
            " dense_57 (Dense)            (None, 512)               7168      \n",
            "                                                                 \n",
            " dropout_45 (Dropout)        (None, 512)               0         \n",
            "                                                                 \n",
            " dense_58 (Dense)            (None, 256)               131328    \n",
            "                                                                 \n",
            " dropout_46 (Dropout)        (None, 256)               0         \n",
            "                                                                 \n",
            " dense_59 (Dense)            (None, 128)               32896     \n",
            "                                                                 \n",
            " dropout_47 (Dropout)        (None, 128)               0         \n",
            "                                                                 \n",
            " dense_60 (Dense)            (None, 1)                 129       \n",
            "                                                                 \n",
            "=================================================================\n",
            "Total params: 171,521\n",
            "Trainable params: 171,521\n",
            "Non-trainable params: 0\n",
            "_________________________________________________________________\n"
          ]
        }
      ]
    },
    {
      "cell_type": "markdown",
      "source": [
        "# 모델 학습시키기"
      ],
      "metadata": {
        "id": "5fsG8799-xmG"
      }
    },
    {
      "cell_type": "code",
      "source": [
        "model.compile(loss='mse', optimizer='adam', metrics=['binary_accuracy'])\n",
        "fit_hist = model.fit(X_train, Y_train, batch_size= 50, epochs=10, validation_split= 0.2, verbose=1)\n",
        "#validation_split  : 매 에폭마다 이번에 넣은 데이터중 20% 때서, 80퍼로 학습하고 20퍼로 검증. 그래서 val_accuracy 검증정확도를 저장함. 매 에폭마다.\n",
        "#batch_size= 50개 풀고, mse구해서 조절하고, 그다음 50개 풀고 mse구해서 조절하고... 이런식으로. 한 애폭 내에서도 나눠서 진행. 이러면 매 애폭마다 향상되는 게 좋음 시간은 좀더걸리지만.\n"
      ],
      "metadata": {
        "colab": {
          "base_uri": "https://localhost:8080/"
        },
        "id": "Jo3d1IqXYJZB",
        "outputId": "49b420d2-5ef5-4569-f8cc-1e9c1f57c346"
      },
      "execution_count": null,
      "outputs": [
        {
          "output_type": "stream",
          "name": "stdout",
          "text": [
            "Epoch 1/10\n",
            "4/4 [==============================] - 1s 60ms/step - loss: 0.2286 - binary_accuracy: 0.6121 - val_loss: 0.2014 - val_binary_accuracy: 0.7619\n",
            "Epoch 2/10\n",
            "4/4 [==============================] - 0s 13ms/step - loss: 0.1515 - binary_accuracy: 0.8545 - val_loss: 0.1680 - val_binary_accuracy: 0.7857\n",
            "Epoch 3/10\n",
            "4/4 [==============================] - 0s 17ms/step - loss: 0.1115 - binary_accuracy: 0.8545 - val_loss: 0.1501 - val_binary_accuracy: 0.7857\n",
            "Epoch 4/10\n",
            "4/4 [==============================] - 0s 13ms/step - loss: 0.0964 - binary_accuracy: 0.8545 - val_loss: 0.1544 - val_binary_accuracy: 0.7857\n",
            "Epoch 5/10\n",
            "4/4 [==============================] - 0s 16ms/step - loss: 0.0899 - binary_accuracy: 0.8667 - val_loss: 0.1681 - val_binary_accuracy: 0.7619\n",
            "Epoch 6/10\n",
            "4/4 [==============================] - 0s 13ms/step - loss: 0.0805 - binary_accuracy: 0.8970 - val_loss: 0.1703 - val_binary_accuracy: 0.7857\n",
            "Epoch 7/10\n",
            "4/4 [==============================] - 0s 14ms/step - loss: 0.0744 - binary_accuracy: 0.8970 - val_loss: 0.1655 - val_binary_accuracy: 0.8095\n",
            "Epoch 8/10\n",
            "4/4 [==============================] - 0s 13ms/step - loss: 0.0663 - binary_accuracy: 0.9091 - val_loss: 0.1713 - val_binary_accuracy: 0.7619\n",
            "Epoch 9/10\n",
            "4/4 [==============================] - 0s 13ms/step - loss: 0.0625 - binary_accuracy: 0.9212 - val_loss: 0.1899 - val_binary_accuracy: 0.7143\n",
            "Epoch 10/10\n",
            "4/4 [==============================] - 0s 13ms/step - loss: 0.0463 - binary_accuracy: 0.9455 - val_loss: 0.1917 - val_binary_accuracy: 0.7143\n"
          ]
        }
      ]
    },
    {
      "cell_type": "code",
      "source": [
        "plt.plot(fit_hist.history['binary_accuracy'])   #테스트용 70 중 80퍼 가지고 구한 학습정확도. loss 계산으로.. 근데 분류할때는 loss는 상관없지. 정확도만 보면됨.\n",
        "                                        #이진분류가 얼마나 잘 됐는지.\n",
        "\n",
        "plt.plot(fit_hist.history['val_binary_accuracy'])  #이거는 검증정확도임.  검증정확도는 낮아지네?  과적합이 일어났다는 거임.\n",
        "plt.show()"
      ],
      "metadata": {
        "colab": {
          "base_uri": "https://localhost:8080/",
          "height": 265
        },
        "id": "Sjh6E7_9YtZA",
        "outputId": "1ad05734-0c1d-4040-9e8b-9ce18a25ec83"
      },
      "execution_count": null,
      "outputs": [
        {
          "output_type": "display_data",
          "data": {
            "text/plain": [
              "<Figure size 432x288 with 1 Axes>"
            ],
            "image/png": "[encoded data removed]"
          },
          "metadata": {
            "needs_background": "light"
          }
        }
      ]
    },
    {
      "cell_type": "code",
      "source": [
        "score= model.evaluate(X_test, Y_test, verbose=0)   #검증할 거임   #X가 입력 Y가 타겟. \n",
        "#이때는 forward만 가서 mse, 정확도만 구함.  테스트셋에 대한 학습은 x.\n",
        "print('keras DNN model loss :', score[0])\n",
        "print('keras DNN model accuracy:', score[1])"
      ],
      "metadata": {
        "colab": {
          "base_uri": "https://localhost:8080/"
        },
        "id": "eJ36NrXYa1Oz",
        "outputId": "4f9a157a-095d-4637-8414-cc7d18cc43b0"
      },
      "execution_count": null,
      "outputs": [
        {
          "output_type": "stream",
          "name": "stdout",
          "text": [
            "keras DNN model loss : 0.16252577304840088\n",
            "keras DNN model accuracy: 0.7865168452262878\n"
          ]
        }
      ]
    },
    {
      "cell_type": "markdown",
      "source": [
        "# 원핫인코더 방식으로 하려면"
      ],
      "metadata": {
        "id": "fhro-mJNBsFV"
      }
    },
    {
      "cell_type": "code",
      "source": [
        "training_data.info()\n",
        "\n",
        "print(training_data.shape)\n",
        "print(target.shape)"
      ],
      "metadata": {
        "colab": {
          "base_uri": "https://localhost:8080/"
        },
        "id": "fx_Wsc9pca6Q",
        "outputId": "545bcf42-2374-48c9-f640-ba2aa60b2ffd"
      },
      "execution_count": null,
      "outputs": [
        {
          "output_type": "stream",
          "name": "stdout",
          "text": [
            "<class 'pandas.core.frame.DataFrame'>\n",
            "Int64Index: 296 entries, 0 to 301\n",
            "Data columns (total 13 columns):\n",
            " #   Column    Non-Null Count  Dtype  \n",
            "---  ------    --------------  -----  \n",
            " 0   age       296 non-null    int64  \n",
            " 1   sex       296 non-null    int64  \n",
            " 2   cp        296 non-null    int64  \n",
            " 3   treshbps  296 non-null    int64  \n",
            " 4   chol      296 non-null    float64\n",
            " 5   fbs       296 non-null    int64  \n",
            " 6   restecg   296 non-null    int64  \n",
            " 7   thalach   296 non-null    int64  \n",
            " 8   exang     296 non-null    int64  \n",
            " 9   oldpeak   296 non-null    float64\n",
            " 10  slope     296 non-null    int64  \n",
            " 11  ca        296 non-null    float64\n",
            " 12  thal      296 non-null    float64\n",
            "dtypes: float64(4), int64(9)\n",
            "memory usage: 32.4 KB\n",
            "(296, 13)\n",
            "(296, 1)\n"
          ]
        }
      ]
    },
    {
      "cell_type": "markdown",
      "source": [
        "# 입력데이터를 수치값인 value_data와, 원핫인코더로 쓸 training_data로 나눈다."
      ],
      "metadata": {
        "id": "LUGMomG0-6MZ"
      }
    },
    {
      "cell_type": "code",
      "source": [
        "value_data=training_data[['age', 'treshbps', 'chol', 'thalach', 'oldpeak']]\n",
        "print(value_data.head())\n",
        "from sklearn.preprocessing import StandardScaler\n",
        "scaler= StandardScaler()\n",
        "scaled_data = scaler.fit_transform(value_data)\n",
        "value_data= pd.DataFrame(scaled_data, columns=value_data.columns)  #여기서 얘는 넌빠진 울퉁불퉁 인덱스 아니고 새롭게 쫙\n",
        "training_data.drop(['age', 'treshbps', 'chol', 'thalach', 'oldpeak'], axis=1, inplace=True)\n",
        "\n",
        "print(training_data.shape)\n",
        "print(target.shape)"
      ],
      "metadata": {
        "colab": {
          "base_uri": "https://localhost:8080/"
        },
        "id": "9SGJODkACrPN",
        "outputId": "68b09b01-30cb-4a3b-e501-572464bfa91e"
      },
      "execution_count": null,
      "outputs": [
        {
          "output_type": "stream",
          "name": "stdout",
          "text": [
            "   age  treshbps   chol  thalach  oldpeak\n",
            "0   63       145  233.0      150      2.3\n",
            "1   67       160  286.0      108      1.5\n",
            "3   37       130  250.0      187      3.5\n",
            "4   41       130  204.0      172      1.4\n",
            "5   56       120  236.0      178      0.8\n",
            "(296, 8)\n",
            "(296, 1)\n"
          ]
        },
        {
          "output_type": "stream",
          "name": "stderr",
          "text": [
            "/usr/local/lib/python3.7/dist-packages/pandas/core/frame.py:4913: SettingWithCopyWarning: \n",
            "A value is trying to be set on a copy of a slice from a DataFrame\n",
            "\n",
            "See the caveats in the documentation: https://pandas.pydata.org/pandas-docs/stable/user_guide/indexing.html#returning-a-view-versus-a-copy\n",
            "  errors=errors,\n"
          ]
        }
      ]
    },
    {
      "cell_type": "markdown",
      "source": [
        "# training_data를 get_dummies 사용해서 onehot_data로 만듦"
      ],
      "metadata": {
        "id": "4TkhXzV1_FLf"
      }
    },
    {
      "cell_type": "code",
      "source": [
        "onehot_data= pd.get_dummies(training_data, columns=training_data.columns)\n",
        "print(onehot_data.head())\n",
        "\n",
        "print(training_data.shape)\n",
        "print(target.shape)"
      ],
      "metadata": {
        "colab": {
          "base_uri": "https://localhost:8080/"
        },
        "id": "EIc6IYH0DLMz",
        "outputId": "ee027842-1003-45f5-cdd8-af8d85a06f16"
      },
      "execution_count": null,
      "outputs": [
        {
          "output_type": "stream",
          "name": "stdout",
          "text": [
            "   sex_0  sex_1  cp_1  cp_2  cp_3  cp_4  fbs_0  fbs_1  restecg_0  restecg_1  \\\n",
            "0      0      1     1     0     0     0      0      1          0          0   \n",
            "1      0      1     0     0     0     1      1      0          1          0   \n",
            "3      0      1     0     0     1     0      1      0          1          0   \n",
            "4      1      0     0     1     0     0      1      0          0          0   \n",
            "5      0      1     0     1     0     0      1      0          1          0   \n",
            "\n",
            "   ...  slope_1  slope_2  slope_3  ca_0.0  ca_1.0  ca_2.0  ca_3.0  thal_3.0  \\\n",
            "0  ...        0        0        1       1       0       0       0         0   \n",
            "1  ...        0        1        0       0       0       0       1         1   \n",
            "3  ...        0        0        1       1       0       0       0         1   \n",
            "4  ...        1        0        0       1       0       0       0         1   \n",
            "5  ...        1        0        0       1       0       0       0         1   \n",
            "\n",
            "   thal_6.0  thal_7.0  \n",
            "0         1         0  \n",
            "1         0         0  \n",
            "3         0         0  \n",
            "4         0         0  \n",
            "5         0         0  \n",
            "\n",
            "[5 rows x 23 columns]\n",
            "(296, 8)\n",
            "(296, 1)\n"
          ]
        }
      ]
    },
    {
      "cell_type": "code",
      "source": [
        "print(onehot_data.info())"
      ],
      "metadata": {
        "colab": {
          "base_uri": "https://localhost:8080/"
        },
        "id": "mLEu5CeOKoZB",
        "outputId": "7c988ef5-8c05-4c30-a507-34eb30fbac1a"
      },
      "execution_count": null,
      "outputs": [
        {
          "output_type": "stream",
          "name": "stdout",
          "text": [
            "<class 'pandas.core.frame.DataFrame'>\n",
            "Int64Index: 296 entries, 0 to 301\n",
            "Data columns (total 23 columns):\n",
            " #   Column     Non-Null Count  Dtype\n",
            "---  ------     --------------  -----\n",
            " 0   sex_0      296 non-null    uint8\n",
            " 1   sex_1      296 non-null    uint8\n",
            " 2   cp_1       296 non-null    uint8\n",
            " 3   cp_2       296 non-null    uint8\n",
            " 4   cp_3       296 non-null    uint8\n",
            " 5   cp_4       296 non-null    uint8\n",
            " 6   fbs_0      296 non-null    uint8\n",
            " 7   fbs_1      296 non-null    uint8\n",
            " 8   restecg_0  296 non-null    uint8\n",
            " 9   restecg_1  296 non-null    uint8\n",
            " 10  restecg_2  296 non-null    uint8\n",
            " 11  exang_0    296 non-null    uint8\n",
            " 12  exang_1    296 non-null    uint8\n",
            " 13  slope_1    296 non-null    uint8\n",
            " 14  slope_2    296 non-null    uint8\n",
            " 15  slope_3    296 non-null    uint8\n",
            " 16  ca_0.0     296 non-null    uint8\n",
            " 17  ca_1.0     296 non-null    uint8\n",
            " 18  ca_2.0     296 non-null    uint8\n",
            " 19  ca_3.0     296 non-null    uint8\n",
            " 20  thal_3.0   296 non-null    uint8\n",
            " 21  thal_6.0   296 non-null    uint8\n",
            " 22  thal_7.0   296 non-null    uint8\n",
            "dtypes: uint8(23)\n",
            "memory usage: 9.0 KB\n",
            "None\n"
          ]
        }
      ]
    },
    {
      "cell_type": "code",
      "source": [
        "print(value_data.info())"
      ],
      "metadata": {
        "colab": {
          "base_uri": "https://localhost:8080/"
        },
        "id": "Yz4Zp9zKKwEh",
        "outputId": "b6d54763-732e-4377-dd0a-0b4967415927"
      },
      "execution_count": null,
      "outputs": [
        {
          "output_type": "stream",
          "name": "stdout",
          "text": [
            "<class 'pandas.core.frame.DataFrame'>\n",
            "RangeIndex: 296 entries, 0 to 295\n",
            "Data columns (total 5 columns):\n",
            " #   Column    Non-Null Count  Dtype  \n",
            "---  ------    --------------  -----  \n",
            " 0   age       296 non-null    float64\n",
            " 1   treshbps  296 non-null    float64\n",
            " 2   chol      296 non-null    float64\n",
            " 3   thalach   296 non-null    float64\n",
            " 4   oldpeak   296 non-null    float64\n",
            "dtypes: float64(5)\n",
            "memory usage: 11.7 KB\n",
            "None\n"
          ]
        }
      ]
    },
    {
      "cell_type": "code",
      "source": [
        "print(onehot_data.info())\n",
        "\n",
        "print(training_data.shape)\n",
        "print(target.shape)\n",
        "print(onehot_data.shape)\n",
        "print(value_data.shape)"
      ],
      "metadata": {
        "colab": {
          "base_uri": "https://localhost:8080/"
        },
        "id": "hq8yoxl4DXH0",
        "outputId": "581ad575-d531-4770-83cc-a7555d61ded7"
      },
      "execution_count": null,
      "outputs": [
        {
          "output_type": "stream",
          "name": "stdout",
          "text": [
            "<class 'pandas.core.frame.DataFrame'>\n",
            "Int64Index: 296 entries, 0 to 301\n",
            "Data columns (total 23 columns):\n",
            " #   Column     Non-Null Count  Dtype\n",
            "---  ------     --------------  -----\n",
            " 0   sex_0      296 non-null    uint8\n",
            " 1   sex_1      296 non-null    uint8\n",
            " 2   cp_1       296 non-null    uint8\n",
            " 3   cp_2       296 non-null    uint8\n",
            " 4   cp_3       296 non-null    uint8\n",
            " 5   cp_4       296 non-null    uint8\n",
            " 6   fbs_0      296 non-null    uint8\n",
            " 7   fbs_1      296 non-null    uint8\n",
            " 8   restecg_0  296 non-null    uint8\n",
            " 9   restecg_1  296 non-null    uint8\n",
            " 10  restecg_2  296 non-null    uint8\n",
            " 11  exang_0    296 non-null    uint8\n",
            " 12  exang_1    296 non-null    uint8\n",
            " 13  slope_1    296 non-null    uint8\n",
            " 14  slope_2    296 non-null    uint8\n",
            " 15  slope_3    296 non-null    uint8\n",
            " 16  ca_0.0     296 non-null    uint8\n",
            " 17  ca_1.0     296 non-null    uint8\n",
            " 18  ca_2.0     296 non-null    uint8\n",
            " 19  ca_3.0     296 non-null    uint8\n",
            " 20  thal_3.0   296 non-null    uint8\n",
            " 21  thal_6.0   296 non-null    uint8\n",
            " 22  thal_7.0   296 non-null    uint8\n",
            "dtypes: uint8(23)\n",
            "memory usage: 9.0 KB\n",
            "None\n",
            "(296, 8)\n",
            "(296, 1)\n",
            "(296, 23)\n",
            "(296, 5)\n"
          ]
        }
      ]
    },
    {
      "cell_type": "markdown",
      "source": [
        "### get_dummies 사용하면서 onehot_data객체 만들 때 인덱스가 리셋됐음.\n",
        "### 그러니까 value_Data 인덱스도 리셋해주자 인덱스 맞춰주게.. (아우터 조인 발생 안하게)"
      ],
      "metadata": {
        "id": "257dE_Wp_MLF"
      }
    },
    {
      "cell_type": "code",
      "source": [
        "onehot_data.reset_index(drop=True, inplace=True)\n",
        "value_data.reset_index(drop=True, inplace=True)\n"
      ],
      "metadata": {
        "id": "1rdwZzc1JflC"
      },
      "execution_count": null,
      "outputs": []
    },
    {
      "cell_type": "code",
      "source": [
        "training_data= pd.concat((onehot_data, value_data), axis=1)\n",
        "print(training_data.info())\n",
        "\n",
        "print(training_data.shape)\n",
        "print(target.shape)"
      ],
      "metadata": {
        "colab": {
          "base_uri": "https://localhost:8080/"
        },
        "id": "NblTDvxFDZZj",
        "outputId": "99d4f743-98a9-4183-9194-4f94afd22617"
      },
      "execution_count": null,
      "outputs": [
        {
          "output_type": "stream",
          "name": "stdout",
          "text": [
            "<class 'pandas.core.frame.DataFrame'>\n",
            "RangeIndex: 296 entries, 0 to 295\n",
            "Data columns (total 28 columns):\n",
            " #   Column     Non-Null Count  Dtype  \n",
            "---  ------     --------------  -----  \n",
            " 0   sex_0      296 non-null    uint8  \n",
            " 1   sex_1      296 non-null    uint8  \n",
            " 2   cp_1       296 non-null    uint8  \n",
            " 3   cp_2       296 non-null    uint8  \n",
            " 4   cp_3       296 non-null    uint8  \n",
            " 5   cp_4       296 non-null    uint8  \n",
            " 6   fbs_0      296 non-null    uint8  \n",
            " 7   fbs_1      296 non-null    uint8  \n",
            " 8   restecg_0  296 non-null    uint8  \n",
            " 9   restecg_1  296 non-null    uint8  \n",
            " 10  restecg_2  296 non-null    uint8  \n",
            " 11  exang_0    296 non-null    uint8  \n",
            " 12  exang_1    296 non-null    uint8  \n",
            " 13  slope_1    296 non-null    uint8  \n",
            " 14  slope_2    296 non-null    uint8  \n",
            " 15  slope_3    296 non-null    uint8  \n",
            " 16  ca_0.0     296 non-null    uint8  \n",
            " 17  ca_1.0     296 non-null    uint8  \n",
            " 18  ca_2.0     296 non-null    uint8  \n",
            " 19  ca_3.0     296 non-null    uint8  \n",
            " 20  thal_3.0   296 non-null    uint8  \n",
            " 21  thal_6.0   296 non-null    uint8  \n",
            " 22  thal_7.0   296 non-null    uint8  \n",
            " 23  age        296 non-null    float64\n",
            " 24  treshbps   296 non-null    float64\n",
            " 25  chol       296 non-null    float64\n",
            " 26  thalach    296 non-null    float64\n",
            " 27  oldpeak    296 non-null    float64\n",
            "dtypes: float64(5), uint8(23)\n",
            "memory usage: 18.3 KB\n",
            "None\n",
            "(296, 28)\n",
            "(296, 1)\n"
          ]
        }
      ]
    },
    {
      "cell_type": "code",
      "source": [
        "print(training_data.shape)\n",
        "print(target.shape)"
      ],
      "metadata": {
        "colab": {
          "base_uri": "https://localhost:8080/"
        },
        "id": "IIu6Ss-sGCZL",
        "outputId": "d90e215b-c0ec-49ff-bad4-10496762a8ea"
      },
      "execution_count": null,
      "outputs": [
        {
          "output_type": "stream",
          "name": "stdout",
          "text": [
            "(296, 28)\n",
            "(296, 1)\n"
          ]
        }
      ]
    },
    {
      "cell_type": "markdown",
      "source": [
        "# 학습용 검증용 데이터 분리하고"
      ],
      "metadata": {
        "id": "X9sw2aSM_YKf"
      }
    },
    {
      "cell_type": "code",
      "source": [
        "from sklearn.model_selection import train_test_split\n",
        "X_train, X_test, Y_train, Y_test = train_test_split(\n",
        "    training_data, target, test_size=0.2\n",
        ")\n",
        "print(X_train.shape, Y_train.shape)\n",
        "print(X_test.shape, Y_test.shape)"
      ],
      "metadata": {
        "colab": {
          "base_uri": "https://localhost:8080/"
        },
        "id": "ymc8zCNBEDht",
        "outputId": "7c833057-635b-4af3-f839-82d07adae8a6"
      },
      "execution_count": null,
      "outputs": [
        {
          "output_type": "stream",
          "name": "stdout",
          "text": [
            "(236, 28) (236, 1)\n",
            "(60, 28) (60, 1)\n"
          ]
        }
      ]
    },
    {
      "cell_type": "code",
      "source": [
        "from tensorflow.keras.models import Sequential\n",
        "from tensorflow.keras.layers import Dense, Dropout"
      ],
      "metadata": {
        "id": "6usIKyNxEI1T"
      },
      "execution_count": null,
      "outputs": []
    },
    {
      "cell_type": "markdown",
      "source": [
        "# 모델 만들고"
      ],
      "metadata": {
        "id": "Ncu2Wt_q_a6d"
      }
    },
    {
      "cell_type": "code",
      "source": [
        "model = Sequential()\n",
        "model.add(Dense(128, input_dim = 28, activation = 'relu'))\n",
        "model.add(Dropout(0.02))\n",
        "model.add(Dense(256, activation = 'relu'))\n",
        "model.add(Dropout(0.02))\n",
        "model.add(Dense(512, activation = 'relu'))\n",
        "model.add(Dropout(0.02))\n",
        "model.add(Dense(128, activation = 'relu'))\n",
        "model.add(Dropout(0.02))\n",
        "model.add(Dense(64, activation = 'relu'))\n",
        "model.add(Dropout(0.02))\n",
        "model.add(Dense(32, activation = 'relu'))\n",
        "model.add(Dropout(0.02))\n",
        "model.add(Dense(1, activation = 'sigmoid'))\n",
        "model.summary()"
      ],
      "metadata": {
        "colab": {
          "base_uri": "https://localhost:8080/"
        },
        "id": "IjVbjkkxNT3K",
        "outputId": "5abdfc8c-66b3-4283-ac32-517e2cf1c23c"
      },
      "execution_count": null,
      "outputs": [
        {
          "output_type": "stream",
          "name": "stdout",
          "text": [
            "Model: \"sequential_13\"\n",
            "_________________________________________________________________\n",
            " Layer (type)                Output Shape              Param #   \n",
            "=================================================================\n",
            " dense_61 (Dense)            (None, 128)               3712      \n",
            "                                                                 \n",
            " dropout_48 (Dropout)        (None, 128)               0         \n",
            "                                                                 \n",
            " dense_62 (Dense)            (None, 256)               33024     \n",
            "                                                                 \n",
            " dropout_49 (Dropout)        (None, 256)               0         \n",
            "                                                                 \n",
            " dense_63 (Dense)            (None, 512)               131584    \n",
            "                                                                 \n",
            " dropout_50 (Dropout)        (None, 512)               0         \n",
            "                                                                 \n",
            " dense_64 (Dense)            (None, 128)               65664     \n",
            "                                                                 \n",
            " dropout_51 (Dropout)        (None, 128)               0         \n",
            "                                                                 \n",
            " dense_65 (Dense)            (None, 64)                8256      \n",
            "                                                                 \n",
            " dropout_52 (Dropout)        (None, 64)                0         \n",
            "                                                                 \n",
            " dense_66 (Dense)            (None, 32)                2080      \n",
            "                                                                 \n",
            " dropout_53 (Dropout)        (None, 32)                0         \n",
            "                                                                 \n",
            " dense_67 (Dense)            (None, 1)                 33        \n",
            "                                                                 \n",
            "=================================================================\n",
            "Total params: 244,353\n",
            "Trainable params: 244,353\n",
            "Non-trainable params: 0\n",
            "_________________________________________________________________\n"
          ]
        }
      ]
    },
    {
      "cell_type": "markdown",
      "source": [
        "# 모델 학습시킨다"
      ],
      "metadata": {
        "id": "vyWXlHi5_cPB"
      }
    },
    {
      "cell_type": "code",
      "source": [
        "model.compile(loss='mse', optimizer = 'adam',\n",
        "              metrics=['binary_accuracy'])\n",
        "fit_hist = model.fit(\n",
        "    X_train, Y_train, batch_size=50, epochs=10,\n",
        "    validation_split=0.2, verbose=1\n",
        ")"
      ],
      "metadata": {
        "colab": {
          "base_uri": "https://localhost:8080/"
        },
        "id": "9mnPBCTbNWFg",
        "outputId": "5a48a99f-412a-4ef4-e093-4592966dacf8"
      },
      "execution_count": null,
      "outputs": [
        {
          "output_type": "stream",
          "name": "stdout",
          "text": [
            "Epoch 1/10\n",
            "4/4 [==============================] - 1s 70ms/step - loss: 0.2312 - binary_accuracy: 0.6702 - val_loss: 0.1902 - val_binary_accuracy: 0.8333\n",
            "Epoch 2/10\n",
            "4/4 [==============================] - 0s 15ms/step - loss: 0.1589 - binary_accuracy: 0.8351 - val_loss: 0.1269 - val_binary_accuracy: 0.8542\n",
            "Epoch 3/10\n",
            "4/4 [==============================] - 0s 15ms/step - loss: 0.1172 - binary_accuracy: 0.8617 - val_loss: 0.1366 - val_binary_accuracy: 0.8125\n",
            "Epoch 4/10\n",
            "4/4 [==============================] - 0s 15ms/step - loss: 0.1021 - binary_accuracy: 0.8404 - val_loss: 0.1275 - val_binary_accuracy: 0.8125\n",
            "Epoch 5/10\n",
            "4/4 [==============================] - 0s 15ms/step - loss: 0.0817 - binary_accuracy: 0.9096 - val_loss: 0.1329 - val_binary_accuracy: 0.7917\n",
            "Epoch 6/10\n",
            "4/4 [==============================] - 0s 16ms/step - loss: 0.0714 - binary_accuracy: 0.8989 - val_loss: 0.1443 - val_binary_accuracy: 0.7917\n",
            "Epoch 7/10\n",
            "4/4 [==============================] - 0s 16ms/step - loss: 0.0735 - binary_accuracy: 0.9096 - val_loss: 0.1370 - val_binary_accuracy: 0.7917\n",
            "Epoch 8/10\n",
            "4/4 [==============================] - 0s 17ms/step - loss: 0.0582 - binary_accuracy: 0.9202 - val_loss: 0.1518 - val_binary_accuracy: 0.8125\n",
            "Epoch 9/10\n",
            "4/4 [==============================] - 0s 16ms/step - loss: 0.0519 - binary_accuracy: 0.9468 - val_loss: 0.1301 - val_binary_accuracy: 0.7917\n",
            "Epoch 10/10\n",
            "4/4 [==============================] - 0s 16ms/step - loss: 0.0413 - binary_accuracy: 0.9521 - val_loss: 0.1756 - val_binary_accuracy: 0.7708\n"
          ]
        }
      ]
    },
    {
      "cell_type": "code",
      "source": [
        "import matplotlib.pyplot as plt\n",
        "plt.plot(fit_hist.history['binary_accuracy'])\n",
        "plt.plot(fit_hist.history['val_binary_accuracy'])\n",
        "plt.show()   #그림보니 7에폭정도가 적당할거같지"
      ],
      "metadata": {
        "colab": {
          "base_uri": "https://localhost:8080/",
          "height": 265
        },
        "id": "hd1wPMrtNiMQ",
        "outputId": "235b64c5-4fe0-400f-cf65-bd283157f485"
      },
      "execution_count": null,
      "outputs": [
        {
          "output_type": "display_data",
          "data": {
            "text/plain": [
              "<Figure size 432x288 with 1 Axes>"
            ],
            "image/png": "[encoded data removed]"
          },
          "metadata": {
            "needs_background": "light"
          }
        }
      ]
    },
    {
      "cell_type": "markdown",
      "source": [
        "# 검증용 데이터로 모델 검증한다"
      ],
      "metadata": {
        "id": "WKIV-ooR_eDd"
      }
    },
    {
      "cell_type": "code",
      "source": [
        "score= model.evaluate(X_test, Y_test, verbose=0)\n",
        "print('loss', score[0])\n",
        "print('accuracy', score[1])"
      ],
      "metadata": {
        "colab": {
          "base_uri": "https://localhost:8080/"
        },
        "id": "RidrFi_TNlhg",
        "outputId": "c11b2fde-be7c-4f77-c0a7-341313b257c4"
      },
      "execution_count": null,
      "outputs": [
        {
          "output_type": "stream",
          "name": "stdout",
          "text": [
            "loss 0.1528632789850235\n",
            "accuracy 0.800000011920929\n"
          ]
        }
      ]
    },
    {
      "cell_type": "code",
      "source": [
        ""
      ],
      "metadata": {
        "id": "zx-XwmkIOIAf"
      },
      "execution_count": null,
      "outputs": []
    }
  ]
}